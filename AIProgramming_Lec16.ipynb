{
  "nbformat": 4,
  "nbformat_minor": 0,
  "metadata": {
    "colab": {
      "provenance": [],
      "gpuType": "T4"
    },
    "kernelspec": {
      "name": "python3",
      "display_name": "Python 3"
    },
    "language_info": {
      "name": "python"
    },
    "accelerator": "GPU"
  },
  "cells": [
    {
      "cell_type": "markdown",
      "source": [
        "# 전이 학습 실습 및 구현"
      ],
      "metadata": {
        "id": "y40MGqMXVRGW"
      }
    },
    {
      "cell_type": "markdown",
      "source": [
        "### **data load**"
      ],
      "metadata": {
        "id": "YlOlBG6Ik9Ew"
      }
    },
    {
      "cell_type": "markdown",
      "source": [
        "주의) Google Drive 상에 바로 ants_bees.zip 파일 업로드 하고 시작하기!!"
      ],
      "metadata": {
        "id": "4Y2uAKWCVTv2"
      }
    },
    {
      "cell_type": "markdown",
      "source": [
        "* 드라이브 마운트"
      ],
      "metadata": {
        "id": "RahMd2FVWlc_"
      }
    },
    {
      "cell_type": "code",
      "execution_count": 1,
      "metadata": {
        "colab": {
          "base_uri": "https://localhost:8080/"
        },
        "id": "BFDfo6XDVQDP",
        "outputId": "bd4bd966-152e-4b53-c640-19e65166bcd6"
      },
      "outputs": [
        {
          "output_type": "stream",
          "name": "stdout",
          "text": [
            "Mounted at /content/drive\n"
          ]
        }
      ],
      "source": [
        "from google.colab import drive\n",
        "drive.mount('/content/drive')"
      ]
    },
    {
      "cell_type": "code",
      "source": [
        "!pwd"
      ],
      "metadata": {
        "colab": {
          "base_uri": "https://localhost:8080/"
        },
        "id": "Bl-6rrm9VZcU",
        "outputId": "bc5b7ad8-f7cc-4426-cc0a-293f86146b38"
      },
      "execution_count": 2,
      "outputs": [
        {
          "output_type": "stream",
          "name": "stdout",
          "text": [
            "/content\n"
          ]
        }
      ]
    },
    {
      "cell_type": "markdown",
      "source": [
        "* zip 파일 현재 폴다로 복사"
      ],
      "metadata": {
        "id": "5CskGK00WoMm"
      }
    },
    {
      "cell_type": "code",
      "source": [
        "!cp /content/drive/MyDrive/ants_bees.zip ./"
      ],
      "metadata": {
        "id": "HLkkNGLXVlPv"
      },
      "execution_count": 3,
      "outputs": []
    },
    {
      "cell_type": "markdown",
      "source": [
        "* 파일 압축 해제"
      ],
      "metadata": {
        "id": "r5Pz-JyCWr-P"
      }
    },
    {
      "cell_type": "code",
      "source": [
        "!unzip ants_bees.zip"
      ],
      "metadata": {
        "colab": {
          "base_uri": "https://localhost:8080/"
        },
        "id": "xs_gfoliWVp3",
        "outputId": "9a6a1da4-ddfd-4645-a5bf-2d25895af741"
      },
      "execution_count": 4,
      "outputs": [
        {
          "output_type": "stream",
          "name": "stdout",
          "text": [
            "Archive:  ants_bees.zip\n",
            "   creating: ants_bees/train/\n",
            "   creating: ants_bees/train/ants/\n",
            "  inflating: ants_bees/train/ants/0013035.jpg  \n",
            "  inflating: ants_bees/train/ants/1030023514_aad5c608f9.jpg  \n",
            "  inflating: ants_bees/train/ants/1095476100_3906d8afde.jpg  \n",
            "  inflating: ants_bees/train/ants/1099452230_d1949d3250.jpg  \n",
            "  inflating: ants_bees/train/ants/116570827_e9c126745d.jpg  \n",
            "  inflating: ants_bees/train/ants/1225872729_6f0856588f.jpg  \n",
            "  inflating: ants_bees/train/ants/1262877379_64fcada201.jpg  \n",
            "  inflating: ants_bees/train/ants/1269756697_0bce92cdab.jpg  \n",
            "  inflating: ants_bees/train/ants/1286984635_5119e80de1.jpg  \n",
            "  inflating: ants_bees/train/ants/132478121_2a430adea2.jpg  \n",
            "  inflating: ants_bees/train/ants/1360291657_dc248c5eea.jpg  \n",
            "  inflating: ants_bees/train/ants/1368913450_e146e2fb6d.jpg  \n",
            "  inflating: ants_bees/train/ants/1473187633_63ccaacea6.jpg  \n",
            "  inflating: ants_bees/train/ants/148715752_302c84f5a4.jpg  \n",
            "  inflating: ants_bees/train/ants/1489674356_09d48dde0a.jpg  \n",
            "  inflating: ants_bees/train/ants/149244013_c529578289.jpg  \n",
            "  inflating: ants_bees/train/ants/150801003_3390b73135.jpg  \n",
            "  inflating: ants_bees/train/ants/150801171_cd86f17ed8.jpg  \n",
            "  inflating: ants_bees/train/ants/154124431_65460430f2.jpg  \n",
            "  inflating: ants_bees/train/ants/162603798_40b51f1654.jpg  \n",
            "  inflating: ants_bees/train/ants/1660097129_384bf54490.jpg  \n",
            "  inflating: ants_bees/train/ants/167890289_dd5ba923f3.jpg  \n",
            "  inflating: ants_bees/train/ants/1693954099_46d4c20605.jpg  \n",
            "  inflating: ants_bees/train/ants/175998972.jpg  \n",
            "  inflating: ants_bees/train/ants/178538489_bec7649292.jpg  \n",
            "  inflating: ants_bees/train/ants/1804095607_0341701e1c.jpg  \n",
            "  inflating: ants_bees/train/ants/1808777855_2a895621d7.jpg  \n",
            "  inflating: ants_bees/train/ants/188552436_605cc9b36b.jpg  \n",
            "  inflating: ants_bees/train/ants/1917341202_d00a7f9af5.jpg  \n",
            "  inflating: ants_bees/train/ants/1924473702_daa9aacdbe.jpg  \n",
            "  inflating: ants_bees/train/ants/196057951_63bf063b92.jpg  \n",
            "  inflating: ants_bees/train/ants/196757565_326437f5fe.jpg  \n",
            "  inflating: ants_bees/train/ants/201558278_fe4caecc76.jpg  \n",
            "  inflating: ants_bees/train/ants/201790779_527f4c0168.jpg  \n",
            "  inflating: ants_bees/train/ants/2019439677_2db655d361.jpg  \n",
            "  inflating: ants_bees/train/ants/207947948_3ab29d7207.jpg  \n",
            "  inflating: ants_bees/train/ants/20935278_9190345f6b.jpg  \n",
            "  inflating: ants_bees/train/ants/224655713_3956f7d39a.jpg  \n",
            "  inflating: ants_bees/train/ants/2265824718_2c96f485da.jpg  \n",
            "  inflating: ants_bees/train/ants/2265825502_fff99cfd2d.jpg  \n",
            "  inflating: ants_bees/train/ants/226951206_d6bf946504.jpg  \n",
            "  inflating: ants_bees/train/ants/2278278459_6b99605e50.jpg  \n",
            "  inflating: ants_bees/train/ants/2288450226_a6e96e8fdf.jpg  \n",
            "  inflating: ants_bees/train/ants/2288481644_83ff7e4572.jpg  \n",
            "  inflating: ants_bees/train/ants/2292213964_ca51ce4bef.jpg  \n",
            "  inflating: ants_bees/train/ants/24335309_c5ea483bb8.jpg  \n",
            "  inflating: ants_bees/train/ants/245647475_9523dfd13e.jpg  \n",
            "  inflating: ants_bees/train/ants/255434217_1b2b3fe0a4.jpg  \n",
            "  inflating: ants_bees/train/ants/258217966_d9d90d18d3.jpg  \n",
            "  inflating: ants_bees/train/ants/275429470_b2d7d9290b.jpg  \n",
            "  inflating: ants_bees/train/ants/28847243_e79fe052cd.jpg  \n",
            "  inflating: ants_bees/train/ants/318052216_84dff3f98a.jpg  \n",
            "  inflating: ants_bees/train/ants/334167043_cbd1adaeb9.jpg  \n",
            "  inflating: ants_bees/train/ants/339670531_94b75ae47a.jpg  \n",
            "  inflating: ants_bees/train/ants/342438950_a3da61deab.jpg  \n",
            "  inflating: ants_bees/train/ants/36439863_0bec9f554f.jpg  \n",
            "  inflating: ants_bees/train/ants/374435068_7eee412ec4.jpg  \n",
            "  inflating: ants_bees/train/ants/382971067_0bfd33afe0.jpg  \n",
            "  inflating: ants_bees/train/ants/384191229_5779cf591b.jpg  \n",
            "  inflating: ants_bees/train/ants/386190770_672743c9a7.jpg  \n",
            "  inflating: ants_bees/train/ants/392382602_1b7bed32fa.jpg  \n",
            "  inflating: ants_bees/train/ants/403746349_71384f5b58.jpg  \n",
            "  inflating: ants_bees/train/ants/408393566_b5b694119b.jpg  \n",
            "  inflating: ants_bees/train/ants/424119020_6d57481dab.jpg  \n",
            "  inflating: ants_bees/train/ants/424873399_47658a91fb.jpg  \n",
            "  inflating: ants_bees/train/ants/450057712_771b3bfc91.jpg  \n",
            "  inflating: ants_bees/train/ants/45472593_bfd624f8dc.jpg  \n",
            "  inflating: ants_bees/train/ants/459694881_ac657d3187.jpg  \n",
            "  inflating: ants_bees/train/ants/460372577_f2f6a8c9fc.jpg  \n",
            "  inflating: ants_bees/train/ants/460874319_0a45ab4d05.jpg  \n",
            "  inflating: ants_bees/train/ants/466430434_4000737de9.jpg  \n",
            "  inflating: ants_bees/train/ants/470127037_513711fd21.jpg  \n",
            "  inflating: ants_bees/train/ants/474806473_ca6caab245.jpg  \n",
            "  inflating: ants_bees/train/ants/475961153_b8c13fd405.jpg  \n",
            "  inflating: ants_bees/train/ants/484293231_e53cfc0c89.jpg  \n",
            "  inflating: ants_bees/train/ants/49375974_e28ba6f17e.jpg  \n",
            "  inflating: ants_bees/train/ants/506249802_207cd979b4.jpg  \n",
            "  inflating: ants_bees/train/ants/506249836_717b73f540.jpg  \n",
            "  inflating: ants_bees/train/ants/512164029_c0a66b8498.jpg  \n",
            "  inflating: ants_bees/train/ants/512863248_43c8ce579b.jpg  \n",
            "  inflating: ants_bees/train/ants/518773929_734dbc5ff4.jpg  \n",
            "  inflating: ants_bees/train/ants/522163566_fec115ca66.jpg  \n",
            "  inflating: ants_bees/train/ants/522415432_2218f34bf8.jpg  \n",
            "  inflating: ants_bees/train/ants/531979952_bde12b3bc0.jpg  \n",
            "  inflating: ants_bees/train/ants/533848102_70a85ad6dd.jpg  \n",
            "  inflating: ants_bees/train/ants/535522953_308353a07c.jpg  \n",
            "  inflating: ants_bees/train/ants/540889389_48bb588b21.jpg  \n",
            "  inflating: ants_bees/train/ants/541630764_dbd285d63c.jpg  \n",
            "  inflating: ants_bees/train/ants/543417860_b14237f569.jpg  \n",
            "  inflating: ants_bees/train/ants/560966032_988f4d7bc4.jpg  \n",
            "  inflating: ants_bees/train/ants/5650366_e22b7e1065.jpg  \n",
            "  inflating: ants_bees/train/ants/6240329_72c01e663e.jpg  \n",
            "  inflating: ants_bees/train/ants/6240338_93729615ec.jpg  \n",
            "  inflating: ants_bees/train/ants/649026570_e58656104b.jpg  \n",
            "  inflating: ants_bees/train/ants/662541407_ff8db781e7.jpg  \n",
            "  inflating: ants_bees/train/ants/67270775_e9fdf77e9d.jpg  \n",
            "  inflating: ants_bees/train/ants/6743948_2b8c096dda.jpg  \n",
            "  inflating: ants_bees/train/ants/684133190_35b62c0c1d.jpg  \n",
            "  inflating: ants_bees/train/ants/69639610_95e0de17aa.jpg  \n",
            "  inflating: ants_bees/train/ants/707895295_009cf23188.jpg  \n",
            "  inflating: ants_bees/train/ants/7759525_1363d24e88.jpg  \n",
            "  inflating: ants_bees/train/ants/795000156_a9900a4a71.jpg  \n",
            "  inflating: ants_bees/train/ants/822537660_caf4ba5514.jpg  \n",
            "  inflating: ants_bees/train/ants/82852639_52b7f7f5e3.jpg  \n",
            "  inflating: ants_bees/train/ants/841049277_b28e58ad05.jpg  \n",
            "  inflating: ants_bees/train/ants/886401651_f878e888cd.jpg  \n",
            "  inflating: ants_bees/train/ants/892108839_f1aad4ca46.jpg  \n",
            "  inflating: ants_bees/train/ants/938946700_ca1c669085.jpg  \n",
            "  inflating: ants_bees/train/ants/957233405_25c1d1187b.jpg  \n",
            "  inflating: ants_bees/train/ants/9715481_b3cb4114ff.jpg  \n",
            "  inflating: ants_bees/train/ants/998118368_6ac1d91f81.jpg  \n",
            "  inflating: ants_bees/train/ants/ant photos.jpg  \n",
            "  inflating: ants_bees/train/ants/Ant_1.jpg  \n",
            "  inflating: ants_bees/train/ants/army-ants-red-picture.jpg  \n",
            "  inflating: ants_bees/train/ants/formica.jpeg  \n",
            "  inflating: ants_bees/train/ants/hormiga_co_por.jpg  \n",
            "  inflating: ants_bees/train/ants/imageNotFound.gif  \n",
            "  inflating: ants_bees/train/ants/kurokusa.jpg  \n",
            "  inflating: ants_bees/train/ants/MehdiabadiAnt2_600.jpg  \n",
            "  inflating: ants_bees/train/ants/Nepenthes_rafflesiana_ant.jpg  \n",
            "  inflating: ants_bees/train/ants/swiss-army-ant.jpg  \n",
            "  inflating: ants_bees/train/ants/termite-vs-ant.jpg  \n",
            "  inflating: ants_bees/train/ants/trap-jaw-ant-insect-bg.jpg  \n",
            "  inflating: ants_bees/train/ants/VietnameseAntMimicSpider.jpg  \n",
            "   creating: ants_bees/train/bees/\n",
            "  inflating: ants_bees/train/bees/1092977343_cb42b38d62.jpg  \n",
            "  inflating: ants_bees/train/bees/1093831624_fb5fbe2308.jpg  \n",
            "  inflating: ants_bees/train/bees/1097045929_1753d1c765.jpg  \n",
            "  inflating: ants_bees/train/bees/1232245714_f862fbe385.jpg  \n",
            "  inflating: ants_bees/train/bees/129236073_0985e91c7d.jpg  \n",
            "  inflating: ants_bees/train/bees/1295655112_7813f37d21.jpg  \n",
            "  inflating: ants_bees/train/bees/132511197_0b86ad0fff.jpg  \n",
            "  inflating: ants_bees/train/bees/132826773_dbbcb117b9.jpg  \n",
            "  inflating: ants_bees/train/bees/150013791_969d9a968b.jpg  \n",
            "  inflating: ants_bees/train/bees/1508176360_2972117c9d.jpg  \n",
            "  inflating: ants_bees/train/bees/154600396_53e1252e52.jpg  \n",
            "  inflating: ants_bees/train/bees/16838648_415acd9e3f.jpg  \n",
            "  inflating: ants_bees/train/bees/1691282715_0addfdf5e8.jpg  \n",
            "  inflating: ants_bees/train/bees/17209602_fe5a5a746f.jpg  \n",
            "  inflating: ants_bees/train/bees/174142798_e5ad6d76e0.jpg  \n",
            "  inflating: ants_bees/train/bees/1799726602_8580867f71.jpg  \n",
            "  inflating: ants_bees/train/bees/1807583459_4fe92b3133.jpg  \n",
            "  inflating: ants_bees/train/bees/196430254_46bd129ae7.jpg  \n",
            "  inflating: ants_bees/train/bees/196658222_3fffd79c67.jpg  \n",
            "  inflating: ants_bees/train/bees/198508668_97d818b6c4.jpg  \n",
            "  inflating: ants_bees/train/bees/2031225713_50ed499635.jpg  \n",
            "  inflating: ants_bees/train/bees/2037437624_2d7bce461f.jpg  \n",
            "  inflating: ants_bees/train/bees/2053200300_8911ef438a.jpg  \n",
            "  inflating: ants_bees/train/bees/205835650_e6f2614bee.jpg  \n",
            "  inflating: ants_bees/train/bees/208702903_42fb4d9748.jpg  \n",
            "  inflating: ants_bees/train/bees/21399619_3e61e5bb6f.jpg  \n",
            "  inflating: ants_bees/train/bees/2227611847_ec72d40403.jpg  \n",
            "  inflating: ants_bees/train/bees/2321139806_d73d899e66.jpg  \n",
            "  inflating: ants_bees/train/bees/2330918208_8074770c20.jpg  \n",
            "  inflating: ants_bees/train/bees/2345177635_caf07159b3.jpg  \n",
            "  inflating: ants_bees/train/bees/2358061370_9daabbd9ac.jpg  \n",
            "  inflating: ants_bees/train/bees/2364597044_3c3e3fc391.jpg  \n",
            "  inflating: ants_bees/train/bees/2384149906_2cd8b0b699.jpg  \n",
            "  inflating: ants_bees/train/bees/2397446847_04ef3cd3e1.jpg  \n",
            "  inflating: ants_bees/train/bees/2405441001_b06c36fa72.jpg  \n",
            "  inflating: ants_bees/train/bees/2445215254_51698ff797.jpg  \n",
            "  inflating: ants_bees/train/bees/2452236943_255bfd9e58.jpg  \n",
            "  inflating: ants_bees/train/bees/2467959963_a7831e9ff0.jpg  \n",
            "  inflating: ants_bees/train/bees/2470492904_837e97800d.jpg  \n",
            "  inflating: ants_bees/train/bees/2477324698_3d4b1b1cab.jpg  \n",
            "  inflating: ants_bees/train/bees/2477349551_e75c97cf4d.jpg  \n",
            "  inflating: ants_bees/train/bees/2486729079_62df0920be.jpg  \n",
            "  inflating: ants_bees/train/bees/2486746709_c43cec0e42.jpg  \n",
            "  inflating: ants_bees/train/bees/2493379287_4100e1dacc.jpg  \n",
            "  inflating: ants_bees/train/bees/2495722465_879acf9d85.jpg  \n",
            "  inflating: ants_bees/train/bees/2528444139_fa728b0f5b.jpg  \n",
            "  inflating: ants_bees/train/bees/2538361678_9da84b77e3.jpg  \n",
            "  inflating: ants_bees/train/bees/2551813042_8a070aeb2b.jpg  \n",
            "  inflating: ants_bees/train/bees/2580598377_a4caecdb54.jpg  \n",
            "  inflating: ants_bees/train/bees/2601176055_8464e6aa71.jpg  \n",
            "  inflating: ants_bees/train/bees/2610833167_79bf0bcae5.jpg  \n",
            "  inflating: ants_bees/train/bees/2610838525_fe8e3cae47.jpg  \n",
            "  inflating: ants_bees/train/bees/2617161745_fa3ebe85b4.jpg  \n",
            "  inflating: ants_bees/train/bees/2625499656_e3415e374d.jpg  \n",
            "  inflating: ants_bees/train/bees/2634617358_f32fd16bea.jpg  \n",
            "  inflating: ants_bees/train/bees/2638074627_6b3ae746a0.jpg  \n",
            "  inflating: ants_bees/train/bees/2645107662_b73a8595cc.jpg  \n",
            "  inflating: ants_bees/train/bees/2651621464_a2fa8722eb.jpg  \n",
            "  inflating: ants_bees/train/bees/2652877533_a564830cbf.jpg  \n",
            "  inflating: ants_bees/train/bees/266644509_d30bb16a1b.jpg  \n",
            "  inflating: ants_bees/train/bees/2683605182_9d2a0c66cf.jpg  \n",
            "  inflating: ants_bees/train/bees/2704348794_eb5d5178c2.jpg  \n",
            "  inflating: ants_bees/train/bees/2707440199_cd170bd512.jpg  \n",
            "  inflating: ants_bees/train/bees/2710368626_cb42882dc8.jpg  \n",
            "  inflating: ants_bees/train/bees/2722592222_258d473e17.jpg  \n",
            "  inflating: ants_bees/train/bees/2728759455_ce9bb8cd7a.jpg  \n",
            "  inflating: ants_bees/train/bees/2756397428_1d82a08807.jpg  \n",
            "  inflating: ants_bees/train/bees/2765347790_da6cf6cb40.jpg  \n",
            "  inflating: ants_bees/train/bees/2781170484_5d61835d63.jpg  \n",
            "  inflating: ants_bees/train/bees/279113587_b4843db199.jpg  \n",
            "  inflating: ants_bees/train/bees/2792000093_e8ae0718cf.jpg  \n",
            "  inflating: ants_bees/train/bees/2801728106_833798c909.jpg  \n",
            "  inflating: ants_bees/train/bees/2822388965_f6dca2a275.jpg  \n",
            "  inflating: ants_bees/train/bees/2861002136_52c7c6f708.jpg  \n",
            "  inflating: ants_bees/train/bees/2908916142_a7ac8b57a8.jpg  \n",
            "  inflating: ants_bees/train/bees/29494643_e3410f0d37.jpg  \n",
            "  inflating: ants_bees/train/bees/2959730355_416a18c63c.jpg  \n",
            "  inflating: ants_bees/train/bees/2962405283_22718d9617.jpg  \n",
            "  inflating: ants_bees/train/bees/3006264892_30e9cced70.jpg  \n",
            "  inflating: ants_bees/train/bees/3030189811_01d095b793.jpg  \n",
            "  inflating: ants_bees/train/bees/3030772428_8578335616.jpg  \n",
            "  inflating: ants_bees/train/bees/3044402684_3853071a87.jpg  \n",
            "  inflating: ants_bees/train/bees/3074585407_9854eb3153.jpg  \n",
            "  inflating: ants_bees/train/bees/3079610310_ac2d0ae7bc.jpg  \n",
            "  inflating: ants_bees/train/bees/3090975720_71f12e6de4.jpg  \n",
            "  inflating: ants_bees/train/bees/3100226504_c0d4f1e3f1.jpg  \n",
            "  inflating: ants_bees/train/bees/342758693_c56b89b6b6.jpg  \n",
            "  inflating: ants_bees/train/bees/354167719_22dca13752.jpg  \n",
            "  inflating: ants_bees/train/bees/359928878_b3b418c728.jpg  \n",
            "  inflating: ants_bees/train/bees/365759866_b15700c59b.jpg  \n",
            "  inflating: ants_bees/train/bees/36900412_92b81831ad.jpg  \n",
            "  inflating: ants_bees/train/bees/39672681_1302d204d1.jpg  \n",
            "  inflating: ants_bees/train/bees/39747887_42df2855ee.jpg  \n",
            "  inflating: ants_bees/train/bees/421515404_e87569fd8b.jpg  \n",
            "  inflating: ants_bees/train/bees/444532809_9e931e2279.jpg  \n",
            "  inflating: ants_bees/train/bees/446296270_d9e8b93ecf.jpg  \n",
            "  inflating: ants_bees/train/bees/452462677_7be43af8ff.jpg  \n",
            "  inflating: ants_bees/train/bees/452462695_40a4e5b559.jpg  \n",
            "  inflating: ants_bees/train/bees/457457145_5f86eb7e9c.jpg  \n",
            "  inflating: ants_bees/train/bees/465133211_80e0c27f60.jpg  \n",
            "  inflating: ants_bees/train/bees/469333327_358ba8fe8a.jpg  \n",
            "  inflating: ants_bees/train/bees/472288710_2abee16fa0.jpg  \n",
            "  inflating: ants_bees/train/bees/473618094_8ffdcab215.jpg  \n",
            "  inflating: ants_bees/train/bees/476347960_52edd72b06.jpg  \n",
            "  inflating: ants_bees/train/bees/478701318_bbd5e557b8.jpg  \n",
            "  inflating: ants_bees/train/bees/507288830_f46e8d4cb2.jpg  \n",
            "  inflating: ants_bees/train/bees/509247772_2db2d01374.jpg  \n",
            "  inflating: ants_bees/train/bees/513545352_fd3e7c7c5d.jpg  \n",
            "  inflating: ants_bees/train/bees/522104315_5d3cb2758e.jpg  \n",
            "  inflating: ants_bees/train/bees/537309131_532bfa59ea.jpg  \n",
            "  inflating: ants_bees/train/bees/586041248_3032e277a9.jpg  \n",
            "  inflating: ants_bees/train/bees/760526046_547e8b381f.jpg  \n",
            "  inflating: ants_bees/train/bees/760568592_45a52c847f.jpg  \n",
            "  inflating: ants_bees/train/bees/774440991_63a4aa0cbe.jpg  \n",
            "  inflating: ants_bees/train/bees/85112639_6e860b0469.jpg  \n",
            "  inflating: ants_bees/train/bees/873076652_eb098dab2d.jpg  \n",
            "  inflating: ants_bees/train/bees/90179376_abc234e5f4.jpg  \n",
            "  inflating: ants_bees/train/bees/92663402_37f379e57a.jpg  \n",
            "  inflating: ants_bees/train/bees/95238259_98470c5b10.jpg  \n",
            "  inflating: ants_bees/train/bees/969455125_58c797ef17.jpg  \n",
            "  inflating: ants_bees/train/bees/98391118_bdb1e80cce.jpg  \n",
            "   creating: ants_bees/val/\n",
            "   creating: ants_bees/val/ants/\n",
            "  inflating: ants_bees/val/ants/10308379_1b6c72e180.jpg  \n",
            "  inflating: ants_bees/val/ants/1053149811_f62a3410d3.jpg  \n",
            "  inflating: ants_bees/val/ants/1073564163_225a64f170.jpg  \n",
            "  inflating: ants_bees/val/ants/1119630822_cd325ea21a.jpg  \n",
            "  inflating: ants_bees/val/ants/1124525276_816a07c17f.jpg  \n",
            "  inflating: ants_bees/val/ants/11381045_b352a47d8c.jpg  \n",
            "  inflating: ants_bees/val/ants/119785936_dd428e40c3.jpg  \n",
            "  inflating: ants_bees/val/ants/1247887232_edcb61246c.jpg  \n",
            "  inflating: ants_bees/val/ants/1262751255_c56c042b7b.jpg  \n",
            "  inflating: ants_bees/val/ants/1337725712_2eb53cd742.jpg  \n",
            "  inflating: ants_bees/val/ants/1358854066_5ad8015f7f.jpg  \n",
            "  inflating: ants_bees/val/ants/1440002809_b268d9a66a.jpg  \n",
            "  inflating: ants_bees/val/ants/147542264_79506478c2.jpg  \n",
            "  inflating: ants_bees/val/ants/152286280_411648ec27.jpg  \n",
            "  inflating: ants_bees/val/ants/153320619_2aeb5fa0ee.jpg  \n",
            "  inflating: ants_bees/val/ants/153783656_85f9c3ac70.jpg  \n",
            "  inflating: ants_bees/val/ants/157401988_d0564a9d02.jpg  \n",
            "  inflating: ants_bees/val/ants/159515240_d5981e20d1.jpg  \n",
            "  inflating: ants_bees/val/ants/161076144_124db762d6.jpg  \n",
            "  inflating: ants_bees/val/ants/161292361_c16e0bf57a.jpg  \n",
            "  inflating: ants_bees/val/ants/170652283_ecdaff5d1a.jpg  \n",
            "  inflating: ants_bees/val/ants/17081114_79b9a27724.jpg  \n",
            "  inflating: ants_bees/val/ants/172772109_d0a8e15fb0.jpg  \n",
            "  inflating: ants_bees/val/ants/1743840368_b5ccda82b7.jpg  \n",
            "  inflating: ants_bees/val/ants/181942028_961261ef48.jpg  \n",
            "  inflating: ants_bees/val/ants/183260961_64ab754c97.jpg  \n",
            "  inflating: ants_bees/val/ants/2039585088_c6f47c592e.jpg  \n",
            "  inflating: ants_bees/val/ants/205398178_c395c5e460.jpg  \n",
            "  inflating: ants_bees/val/ants/208072188_f293096296.jpg  \n",
            "  inflating: ants_bees/val/ants/209615353_eeb38ba204.jpg  \n",
            "  inflating: ants_bees/val/ants/2104709400_8831b4fc6f.jpg  \n",
            "  inflating: ants_bees/val/ants/212100470_b485e7b7b9.jpg  \n",
            "  inflating: ants_bees/val/ants/2127908701_d49dc83c97.jpg  \n",
            "  inflating: ants_bees/val/ants/2191997003_379df31291.jpg  \n",
            "  inflating: ants_bees/val/ants/2211974567_ee4606b493.jpg  \n",
            "  inflating: ants_bees/val/ants/2219621907_47bc7cc6b0.jpg  \n",
            "  inflating: ants_bees/val/ants/2238242353_52c82441df.jpg  \n",
            "  inflating: ants_bees/val/ants/2255445811_dabcdf7258.jpg  \n",
            "  inflating: ants_bees/val/ants/239161491_86ac23b0a3.jpg  \n",
            "  inflating: ants_bees/val/ants/263615709_cfb28f6b8e.jpg  \n",
            "  inflating: ants_bees/val/ants/308196310_1db5ffa01b.jpg  \n",
            "  inflating: ants_bees/val/ants/319494379_648fb5a1c6.jpg  \n",
            "  inflating: ants_bees/val/ants/35558229_1fa4608a7a.jpg  \n",
            "  inflating: ants_bees/val/ants/412436937_4c2378efc2.jpg  \n",
            "  inflating: ants_bees/val/ants/436944325_d4925a38c7.jpg  \n",
            "  inflating: ants_bees/val/ants/445356866_6cb3289067.jpg  \n",
            "  inflating: ants_bees/val/ants/459442412_412fecf3fe.jpg  \n",
            "  inflating: ants_bees/val/ants/470127071_8b8ee2bd74.jpg  \n",
            "  inflating: ants_bees/val/ants/477437164_bc3e6e594a.jpg  \n",
            "  inflating: ants_bees/val/ants/488272201_c5aa281348.jpg  \n",
            "  inflating: ants_bees/val/ants/502717153_3e4865621a.jpg  \n",
            "  inflating: ants_bees/val/ants/518746016_bcc28f8b5b.jpg  \n",
            "  inflating: ants_bees/val/ants/540543309_ddbb193ee5.jpg  \n",
            "  inflating: ants_bees/val/ants/562589509_7e55469b97.jpg  \n",
            "  inflating: ants_bees/val/ants/57264437_a19006872f.jpg  \n",
            "  inflating: ants_bees/val/ants/573151833_ebbc274b77.jpg  \n",
            "  inflating: ants_bees/val/ants/649407494_9b6bc4949f.jpg  \n",
            "  inflating: ants_bees/val/ants/751649788_78dd7d16ce.jpg  \n",
            "  inflating: ants_bees/val/ants/768870506_8f115d3d37.jpg  \n",
            "  inflating: ants_bees/val/ants/800px-Meat_eater_ant_qeen_excavating_hole.jpg  \n",
            "  inflating: ants_bees/val/ants/8124241_36b290d372.jpg  \n",
            "  inflating: ants_bees/val/ants/8398478_50ef10c47a.jpg  \n",
            "  inflating: ants_bees/val/ants/854534770_31f6156383.jpg  \n",
            "  inflating: ants_bees/val/ants/892676922_4ab37dce07.jpg  \n",
            "  inflating: ants_bees/val/ants/94999827_36895faade.jpg  \n",
            "  inflating: ants_bees/val/ants/Ant-1818.jpg  \n",
            "  inflating: ants_bees/val/ants/ants-devouring-remains-of-large-dead-insect-on-red-tile-in-Stellenbosch-South-Africa-closeup-1-DHD.jpg  \n",
            "  inflating: ants_bees/val/ants/desert_ant.jpg  \n",
            "  inflating: ants_bees/val/ants/F.pergan.28(f).jpg  \n",
            "  inflating: ants_bees/val/ants/Hormiga.jpg  \n",
            "   creating: ants_bees/val/bees/\n",
            "  inflating: ants_bees/val/bees/1032546534_06907fe3b3.jpg  \n",
            "  inflating: ants_bees/val/bees/10870992_eebeeb3a12.jpg  \n",
            "  inflating: ants_bees/val/bees/1181173278_23c36fac71.jpg  \n",
            "  inflating: ants_bees/val/bees/1297972485_33266a18d9.jpg  \n",
            "  inflating: ants_bees/val/bees/1328423762_f7a88a8451.jpg  \n",
            "  inflating: ants_bees/val/bees/1355974687_1341c1face.jpg  \n",
            "  inflating: ants_bees/val/bees/144098310_a4176fd54d.jpg  \n",
            "  inflating: ants_bees/val/bees/1486120850_490388f84b.jpg  \n",
            "  inflating: ants_bees/val/bees/149973093_da3c446268.jpg  \n",
            "  inflating: ants_bees/val/bees/151594775_ee7dc17b60.jpg  \n",
            "  inflating: ants_bees/val/bees/151603988_2c6f7d14c7.jpg  \n",
            "  inflating: ants_bees/val/bees/1519368889_4270261ee3.jpg  \n",
            "  inflating: ants_bees/val/bees/152789693_220b003452.jpg  \n",
            "  inflating: ants_bees/val/bees/177677657_a38c97e572.jpg  \n",
            "  inflating: ants_bees/val/bees/1799729694_0c40101071.jpg  \n",
            "  inflating: ants_bees/val/bees/181171681_c5a1a82ded.jpg  \n",
            "  inflating: ants_bees/val/bees/187130242_4593a4c610.jpg  \n",
            "  inflating: ants_bees/val/bees/203868383_0fcbb48278.jpg  \n",
            "  inflating: ants_bees/val/bees/2060668999_e11edb10d0.jpg  \n",
            "  inflating: ants_bees/val/bees/2086294791_6f3789d8a6.jpg  \n",
            "  inflating: ants_bees/val/bees/2103637821_8d26ee6b90.jpg  \n",
            "  inflating: ants_bees/val/bees/2104135106_a65eede1de.jpg  \n",
            "  inflating: ants_bees/val/bees/215512424_687e1e0821.jpg  \n",
            "  inflating: ants_bees/val/bees/2173503984_9c6aaaa7e2.jpg  \n",
            "  inflating: ants_bees/val/bees/220376539_20567395d8.jpg  \n",
            "  inflating: ants_bees/val/bees/224841383_d050f5f510.jpg  \n",
            "  inflating: ants_bees/val/bees/2321144482_f3785ba7b2.jpg  \n",
            "  inflating: ants_bees/val/bees/238161922_55fa9a76ae.jpg  \n",
            "  inflating: ants_bees/val/bees/2407809945_fb525ef54d.jpg  \n",
            "  inflating: ants_bees/val/bees/2415414155_1916f03b42.jpg  \n",
            "  inflating: ants_bees/val/bees/2438480600_40a1249879.jpg  \n",
            "  inflating: ants_bees/val/bees/2444778727_4b781ac424.jpg  \n",
            "  inflating: ants_bees/val/bees/2457841282_7867f16639.jpg  \n",
            "  inflating: ants_bees/val/bees/2470492902_3572c90f75.jpg  \n",
            "  inflating: ants_bees/val/bees/2478216347_535c8fe6d7.jpg  \n",
            "  inflating: ants_bees/val/bees/2501530886_e20952b97d.jpg  \n",
            "  inflating: ants_bees/val/bees/2506114833_90a41c5267.jpg  \n",
            "  inflating: ants_bees/val/bees/2509402554_31821cb0b6.jpg  \n",
            "  inflating: ants_bees/val/bees/2525379273_dcb26a516d.jpg  \n",
            "  inflating: ants_bees/val/bees/26589803_5ba7000313.jpg  \n",
            "  inflating: ants_bees/val/bees/2668391343_45e272cd07.jpg  \n",
            "  inflating: ants_bees/val/bees/2670536155_c170f49cd0.jpg  \n",
            "  inflating: ants_bees/val/bees/2685605303_9eed79d59d.jpg  \n",
            "  inflating: ants_bees/val/bees/2702408468_d9ed795f4f.jpg  \n",
            "  inflating: ants_bees/val/bees/2709775832_85b4b50a57.jpg  \n",
            "  inflating: ants_bees/val/bees/2717418782_bd83307d9f.jpg  \n",
            "  inflating: ants_bees/val/bees/272986700_d4d4bf8c4b.jpg  \n",
            "  inflating: ants_bees/val/bees/2741763055_9a7bb00802.jpg  \n",
            "  inflating: ants_bees/val/bees/2745389517_250a397f31.jpg  \n",
            "  inflating: ants_bees/val/bees/2751836205_6f7b5eff30.jpg  \n",
            "  inflating: ants_bees/val/bees/2782079948_8d4e94a826.jpg  \n",
            "  inflating: ants_bees/val/bees/2809496124_5f25b5946a.jpg  \n",
            "  inflating: ants_bees/val/bees/2815838190_0a9889d995.jpg  \n",
            "  inflating: ants_bees/val/bees/2841437312_789699c740.jpg  \n",
            "  inflating: ants_bees/val/bees/2883093452_7e3a1eb53f.jpg  \n",
            "  inflating: ants_bees/val/bees/290082189_f66cb80bfc.jpg  \n",
            "  inflating: ants_bees/val/bees/296565463_d07a7bed96.jpg  \n",
            "  inflating: ants_bees/val/bees/3077452620_548c79fda0.jpg  \n",
            "  inflating: ants_bees/val/bees/348291597_ee836fbb1a.jpg  \n",
            "  inflating: ants_bees/val/bees/350436573_41f4ecb6c8.jpg  \n",
            "  inflating: ants_bees/val/bees/353266603_d3eac7e9a0.jpg  \n",
            "  inflating: ants_bees/val/bees/372228424_16da1f8884.jpg  \n",
            "  inflating: ants_bees/val/bees/400262091_701c00031c.jpg  \n",
            "  inflating: ants_bees/val/bees/416144384_961c326481.jpg  \n",
            "  inflating: ants_bees/val/bees/44105569_16720a960c.jpg  \n",
            "  inflating: ants_bees/val/bees/456097971_860949c4fc.jpg  \n",
            "  inflating: ants_bees/val/bees/464594019_1b24a28bb1.jpg  \n",
            "  inflating: ants_bees/val/bees/485743562_d8cc6b8f73.jpg  \n",
            "  inflating: ants_bees/val/bees/540976476_844950623f.jpg  \n",
            "  inflating: ants_bees/val/bees/54736755_c057723f64.jpg  \n",
            "  inflating: ants_bees/val/bees/57459255_752774f1b2.jpg  \n",
            "  inflating: ants_bees/val/bees/576452297_897023f002.jpg  \n",
            "  inflating: ants_bees/val/bees/586474709_ae436da045.jpg  \n",
            "  inflating: ants_bees/val/bees/590318879_68cf112861.jpg  \n",
            "  inflating: ants_bees/val/bees/59798110_2b6a3c8031.jpg  \n",
            "  inflating: ants_bees/val/bees/603709866_a97c7cfc72.jpg  \n",
            "  inflating: ants_bees/val/bees/603711658_4c8cd2201e.jpg  \n",
            "  inflating: ants_bees/val/bees/65038344_52a45d090d.jpg  \n",
            "  inflating: ants_bees/val/bees/6a00d8341c630a53ef00e553d0beb18834-800wi.jpg  \n",
            "  inflating: ants_bees/val/bees/72100438_73de9f17af.jpg  \n",
            "  inflating: ants_bees/val/bees/759745145_e8bc776ec8.jpg  \n",
            "  inflating: ants_bees/val/bees/936182217_c4caa5222d.jpg  \n",
            "  inflating: ants_bees/val/bees/abeja.jpg  \n"
          ]
        }
      ]
    },
    {
      "cell_type": "markdown",
      "source": [
        "* 데이터 증강 및 정규화"
      ],
      "metadata": {
        "id": "C6xIWZ1xXhBe"
      }
    },
    {
      "cell_type": "code",
      "source": [
        "import torch\n",
        "import torch.nn as nn\n",
        "import torchvision.datasets as datasets\n",
        "import torchvision.transforms as transforms\n",
        "from torch.utils.data import DataLoader"
      ],
      "metadata": {
        "id": "ZUcDIOMPWgo5"
      },
      "execution_count": 5,
      "outputs": []
    },
    {
      "cell_type": "code",
      "source": [
        "data_transforms = {\n",
        "    'train': transforms.Compose([\n",
        "        transforms.Resize(256),\n",
        "        transforms.RandomResizedCrop(224),\n",
        "        transforms.RandomHorizontalFlip(),\n",
        "        transforms.ToTensor(),\n",
        "        transforms.Normalize([0.485, 0.456, 0.406], [0.229, 0.224, 0.225])\n",
        "    ]),\n",
        "    'val': transforms.Compose([\n",
        "        transforms.Resize(256),\n",
        "        transforms.CenterCrop(224),\n",
        "        transforms.ToTensor(),\n",
        "        transforms.Normalize([0.485, 0.456, 0.406], [0.229, 0.224, 0.225])\n",
        "    ])\n",
        "}"
      ],
      "metadata": {
        "id": "0xjavS0TXbpL"
      },
      "execution_count": 6,
      "outputs": []
    },
    {
      "cell_type": "markdown",
      "source": [
        "* 데이터셋, 데이터로더 생성"
      ],
      "metadata": {
        "id": "sflrSITsd01r"
      }
    },
    {
      "cell_type": "code",
      "source": [
        "import os"
      ],
      "metadata": {
        "id": "GW0DS_wPeIxr"
      },
      "execution_count": 7,
      "outputs": []
    },
    {
      "cell_type": "code",
      "source": [
        "data_dir = 'ants_bees'\n",
        "image_datasets = {x: datasets.ImageFolder(os.path.join(data_dir, x), data_transforms[x]) for x in ['train', 'val']}\n",
        "dataloaders = {x: DataLoader(image_datasets[x], batch_size=4, shuffle=True, num_workers=4) for x in ['train', 'val']}\n",
        "dataset_sizes = {x: len(image_datasets[x]) for x in ['train', 'val']}\n",
        "class_names = image_datasets['train'].classes\n",
        "\n",
        "device = torch.device(\"cuda:0\" if torch.cuda.is_available() else \"cpu\")"
      ],
      "metadata": {
        "colab": {
          "base_uri": "https://localhost:8080/"
        },
        "id": "P1Ge555Udzzd",
        "outputId": "a5b154c7-9c69-4217-9fac-484afba7c72f"
      },
      "execution_count": 8,
      "outputs": [
        {
          "output_type": "stream",
          "name": "stderr",
          "text": [
            "/usr/local/lib/python3.10/dist-packages/torch/utils/data/dataloader.py:557: UserWarning: This DataLoader will create 4 worker processes in total. Our suggested max number of worker in current system is 2, which is smaller than what this DataLoader is going to create. Please be aware that excessive worker creation might get DataLoader running slow or even freeze, lower the worker number to avoid potential slowness/freeze if necessary.\n",
            "  warnings.warn(_create_warning_msg(\n"
          ]
        }
      ]
    },
    {
      "cell_type": "code",
      "source": [
        "image_datasets"
      ],
      "metadata": {
        "colab": {
          "base_uri": "https://localhost:8080/"
        },
        "id": "fncaZ2xNjuJC",
        "outputId": "2af20138-b76a-48c6-b14a-11019ac8418d"
      },
      "execution_count": 9,
      "outputs": [
        {
          "output_type": "execute_result",
          "data": {
            "text/plain": [
              "{'train': Dataset ImageFolder\n",
              "     Number of datapoints: 244\n",
              "     Root location: ants_bees/train\n",
              "     StandardTransform\n",
              " Transform: Compose(\n",
              "                Resize(size=256, interpolation=bilinear, max_size=None, antialias=warn)\n",
              "                RandomResizedCrop(size=(224, 224), scale=(0.08, 1.0), ratio=(0.75, 1.3333), interpolation=bilinear, antialias=warn)\n",
              "                RandomHorizontalFlip(p=0.5)\n",
              "                ToTensor()\n",
              "                Normalize(mean=[0.485, 0.456, 0.406], std=[0.229, 0.224, 0.225])\n",
              "            ),\n",
              " 'val': Dataset ImageFolder\n",
              "     Number of datapoints: 153\n",
              "     Root location: ants_bees/val\n",
              "     StandardTransform\n",
              " Transform: Compose(\n",
              "                Resize(size=256, interpolation=bilinear, max_size=None, antialias=warn)\n",
              "                CenterCrop(size=(224, 224))\n",
              "                ToTensor()\n",
              "                Normalize(mean=[0.485, 0.456, 0.406], std=[0.229, 0.224, 0.225])\n",
              "            )}"
            ]
          },
          "metadata": {},
          "execution_count": 9
        }
      ]
    },
    {
      "cell_type": "code",
      "source": [
        "dataset_sizes"
      ],
      "metadata": {
        "colab": {
          "base_uri": "https://localhost:8080/"
        },
        "id": "tB33IezVjnaL",
        "outputId": "f578ca22-5e58-4a14-c6db-333ef40cdf12"
      },
      "execution_count": 10,
      "outputs": [
        {
          "output_type": "execute_result",
          "data": {
            "text/plain": [
              "{'train': 244, 'val': 153}"
            ]
          },
          "metadata": {},
          "execution_count": 10
        }
      ]
    },
    {
      "cell_type": "code",
      "source": [
        "class_names"
      ],
      "metadata": {
        "colab": {
          "base_uri": "https://localhost:8080/"
        },
        "id": "yu8WFZ3OkPUZ",
        "outputId": "9dfe2b0f-fab3-4081-8981-3ba0065d2639"
      },
      "execution_count": 11,
      "outputs": [
        {
          "output_type": "execute_result",
          "data": {
            "text/plain": [
              "['ants', 'bees']"
            ]
          },
          "metadata": {},
          "execution_count": 11
        }
      ]
    },
    {
      "cell_type": "markdown",
      "source": [
        "### **model code**"
      ],
      "metadata": {
        "id": "IG1z-gZclHRk"
      }
    },
    {
      "cell_type": "code",
      "source": [
        "import time\n",
        "import copy"
      ],
      "metadata": {
        "id": "jHWk3q3elfeR"
      },
      "execution_count": 12,
      "outputs": []
    },
    {
      "cell_type": "code",
      "source": [
        "def train_model(model, criterion, optimizer, num_epochs=10):\n",
        "  since = time.time()\n",
        "\n",
        "  best_model_wts = copy.deepcopy(model.state_dict())\n",
        "  best_acc = 0.0\n",
        "\n",
        "  for epoch in range(num_epochs):\n",
        "    print(f\"Epoch {epoch}/{num_epochs-1}\")\n",
        "    print(\"-\"*10)\n",
        "\n",
        "    # 각 epoch은 학습 단계와 검증 단계를 갖는다.\n",
        "    for phase in ['train', 'val']:\n",
        "      if phase == 'train':\n",
        "        model.train() # 모델을 학습 모드로 설정\n",
        "      else:\n",
        "        model.eval()  # 모델을 평가 모드로 설정\n",
        "\n",
        "      running_loss = 0.0\n",
        "      running_corrects = 0\n",
        "\n",
        "      # 미니 배치 학습 루프\n",
        "      for inputs, labels in dataloaders[phase]:\n",
        "        inputs = inputs.to(device)\n",
        "        labels = labels.to(device)\n",
        "\n",
        "        optimizer.zero_grad()\n",
        "\n",
        "        # 순전파\n",
        "        # 학습 시에만 연산 기록을 추적\n",
        "        with torch.set_grad_enabled(phase == \"train\"):\n",
        "          outputs = model(inputs)\n",
        "          _, preds = torch.max(outputs, 1)\n",
        "          loss = criterion(outputs, labels)\n",
        "\n",
        "          # 학습 단계인 경우 역전파 + 최적화\n",
        "          if phase == \"train\":\n",
        "            loss.backward()\n",
        "            optimizer.step()\n",
        "\n",
        "        # 통계\n",
        "        running_loss += loss.item() * inputs.size(0)\n",
        "        running_corrects += torch.sum(preds == labels.data)\n",
        "\n",
        "      epoch_loss = running_loss / dataset_sizes[phase]\n",
        "      epoch_acc = running_corrects.double() / dataset_sizes[phase]\n",
        "\n",
        "      print(f'{phase} Loss: {epoch_loss:.4f}  Acc: {epoch_acc:.4f}')\n",
        "\n",
        "      # 모델을 깊은 복사함\n",
        "      if phase == 'val' and epoch_acc > best_acc:\n",
        "        best_acc = epoch_acc\n",
        "        best_model_wts = copy.deepcopy(model.state_dict())\n",
        "\n",
        "    print()\n",
        "  time_elapsed = time.time() - since\n",
        "  print(f'Training complete in {time_elapsed // 60:.0f}m {time_elapsed % 60:.0f}s')\n",
        "  print(f'Best val Acc: {best_acc:.4f}')\n",
        "\n",
        "  # 가장 나은 모델 가중치를 불러옴\n",
        "  model.load_state_dict(best_model_wts)\n",
        "  return model"
      ],
      "metadata": {
        "id": "0MuZVYrRkQWp"
      },
      "execution_count": 23,
      "outputs": []
    },
    {
      "cell_type": "markdown",
      "source": [
        "모델 비교"
      ],
      "metadata": {
        "id": "PeSwvIRQrq63"
      }
    },
    {
      "cell_type": "code",
      "source": [
        "import torchvision.models as models\n",
        "import torch.optim as optim"
      ],
      "metadata": {
        "id": "tB0DRTgRrrPm"
      },
      "execution_count": 16,
      "outputs": []
    },
    {
      "cell_type": "markdown",
      "source": [
        "* ResNet18 모델 : 가중치 초기화 후 학습 진행"
      ],
      "metadata": {
        "id": "_dEuq02Z2StF"
      }
    },
    {
      "cell_type": "code",
      "source": [
        "model_ft = models.resnet18(pretrained=False, num_classes=2)\n",
        "model_ft = model_ft.to(device)\n",
        "\n",
        "criterion = nn.CrossEntropyLoss()\n",
        "optimizer_ft = optim.SGD(model_ft.parameters(), lr=0.001, momentum=0.9)\n",
        "model_ft = train_model(model_ft, criterion, optimizer_ft, num_epochs=10)"
      ],
      "metadata": {
        "colab": {
          "base_uri": "https://localhost:8080/"
        },
        "id": "9iesaC-nrxyy",
        "outputId": "f34a8af8-3599-408f-c80a-62dcf7744d36"
      },
      "execution_count": 24,
      "outputs": [
        {
          "output_type": "stream",
          "name": "stdout",
          "text": [
            "Epoch 0/9\n",
            "----------\n",
            "train Loss: 0.8958  Acc: 0.5328\n",
            "val Loss: 0.7683  Acc: 0.5621\n",
            "\n",
            "Epoch 1/9\n",
            "----------\n",
            "train Loss: 0.7767  Acc: 0.5738\n",
            "val Loss: 0.9543  Acc: 0.6275\n",
            "\n",
            "Epoch 2/9\n",
            "----------\n",
            "train Loss: 0.8137  Acc: 0.5410\n",
            "val Loss: 0.9117  Acc: 0.5294\n",
            "\n",
            "Epoch 3/9\n",
            "----------\n",
            "train Loss: 0.7930  Acc: 0.5369\n",
            "val Loss: 1.5438  Acc: 0.5425\n",
            "\n",
            "Epoch 4/9\n",
            "----------\n",
            "train Loss: 0.7551  Acc: 0.6270\n",
            "val Loss: 0.6771  Acc: 0.6797\n",
            "\n",
            "Epoch 5/9\n",
            "----------\n",
            "train Loss: 0.9098  Acc: 0.5656\n",
            "val Loss: 0.8639  Acc: 0.6863\n",
            "\n",
            "Epoch 6/9\n",
            "----------\n",
            "train Loss: 0.7653  Acc: 0.6270\n",
            "val Loss: 0.5541  Acc: 0.6732\n",
            "\n",
            "Epoch 7/9\n",
            "----------\n",
            "train Loss: 0.7456  Acc: 0.5943\n",
            "val Loss: 0.6436  Acc: 0.6275\n",
            "\n",
            "Epoch 8/9\n",
            "----------\n",
            "train Loss: 0.8958  Acc: 0.5943\n",
            "val Loss: 0.8425  Acc: 0.6797\n",
            "\n",
            "Epoch 9/9\n",
            "----------\n",
            "train Loss: 0.6961  Acc: 0.6639\n",
            "val Loss: 0.6929  Acc: 0.7320\n",
            "\n",
            "Training complete in 0m 54s\n",
            "Best val Acc: 0.7320\n"
          ]
        }
      ]
    },
    {
      "cell_type": "markdown",
      "source": [
        "* ResNet 전이 학습"
      ],
      "metadata": {
        "id": "ErkAeYyi3Yow"
      }
    },
    {
      "cell_type": "code",
      "source": [
        "model_ft = models.resnet18(pretrained=True)\n",
        "num_ftrs = model_ft.fc.in_features\n",
        "model_ft.fc = nn.Linear(num_ftrs, 2)\n",
        "model_ft = model_ft.to(device)\n",
        "\n",
        "criterion = nn.CrossEntropyLoss()\n",
        "optimizer_ft = optim.SGD(model_ft.parameters(), lr=0.001, momentum=0.9)\n",
        "model_ft = train_model(model_ft, criterion, optimizer_ft, num_epochs=10)"
      ],
      "metadata": {
        "colab": {
          "base_uri": "https://localhost:8080/"
        },
        "id": "usitB-Yo28SR",
        "outputId": "04200e0e-a514-408d-e78a-5db8e560cd43"
      },
      "execution_count": 25,
      "outputs": [
        {
          "output_type": "stream",
          "name": "stderr",
          "text": [
            "/usr/local/lib/python3.10/dist-packages/torchvision/models/_utils.py:208: UserWarning: The parameter 'pretrained' is deprecated since 0.13 and may be removed in the future, please use 'weights' instead.\n",
            "  warnings.warn(\n",
            "/usr/local/lib/python3.10/dist-packages/torchvision/models/_utils.py:223: UserWarning: Arguments other than a weight enum or `None` for 'weights' are deprecated since 0.13 and may be removed in the future. The current behavior is equivalent to passing `weights=ResNet18_Weights.IMAGENET1K_V1`. You can also use `weights=ResNet18_Weights.DEFAULT` to get the most up-to-date weights.\n",
            "  warnings.warn(msg)\n",
            "Downloading: \"https://download.pytorch.org/models/resnet18-f37072fd.pth\" to /root/.cache/torch/hub/checkpoints/resnet18-f37072fd.pth\n",
            "100%|██████████| 44.7M/44.7M [00:00<00:00, 136MB/s]\n"
          ]
        },
        {
          "output_type": "stream",
          "name": "stdout",
          "text": [
            "Epoch 0/9\n",
            "----------\n"
          ]
        },
        {
          "output_type": "stream",
          "name": "stderr",
          "text": [
            "/usr/local/lib/python3.10/dist-packages/torch/utils/data/dataloader.py:557: UserWarning: This DataLoader will create 4 worker processes in total. Our suggested max number of worker in current system is 2, which is smaller than what this DataLoader is going to create. Please be aware that excessive worker creation might get DataLoader running slow or even freeze, lower the worker number to avoid potential slowness/freeze if necessary.\n",
            "  warnings.warn(_create_warning_msg(\n"
          ]
        },
        {
          "output_type": "stream",
          "name": "stdout",
          "text": [
            "train Loss: 0.6618  Acc: 0.6844\n",
            "val Loss: 0.2201  Acc: 0.9020\n",
            "\n",
            "Epoch 1/9\n",
            "----------\n",
            "train Loss: 0.5125  Acc: 0.7664\n",
            "val Loss: 0.4427  Acc: 0.8235\n",
            "\n",
            "Epoch 2/9\n",
            "----------\n",
            "train Loss: 0.5028  Acc: 0.7787\n",
            "val Loss: 0.2920  Acc: 0.8889\n",
            "\n",
            "Epoch 3/9\n",
            "----------\n",
            "train Loss: 0.4543  Acc: 0.8115\n",
            "val Loss: 0.2755  Acc: 0.9085\n",
            "\n",
            "Epoch 4/9\n",
            "----------\n",
            "train Loss: 0.4398  Acc: 0.8361\n",
            "val Loss: 0.3400  Acc: 0.8693\n",
            "\n",
            "Epoch 5/9\n",
            "----------\n",
            "train Loss: 0.4346  Acc: 0.8402\n",
            "val Loss: 0.3491  Acc: 0.8758\n",
            "\n",
            "Epoch 6/9\n",
            "----------\n",
            "train Loss: 1.0579  Acc: 0.6803\n",
            "val Loss: 0.4147  Acc: 0.8693\n",
            "\n",
            "Epoch 7/9\n",
            "----------\n",
            "train Loss: 0.4168  Acc: 0.8197\n",
            "val Loss: 0.3016  Acc: 0.8954\n",
            "\n",
            "Epoch 8/9\n",
            "----------\n",
            "train Loss: 0.6594  Acc: 0.7500\n",
            "val Loss: 0.6691  Acc: 0.7582\n",
            "\n",
            "Epoch 9/9\n",
            "----------\n",
            "train Loss: 0.5280  Acc: 0.7992\n",
            "val Loss: 0.7687  Acc: 0.8301\n",
            "\n",
            "Training complete in 0m 51s\n",
            "Best val Acc: 0.9085\n"
          ]
        }
      ]
    },
    {
      "cell_type": "markdown",
      "source": [
        "* EfficientNetV2 모델 : 가중치 초기화 후 학습 진행"
      ],
      "metadata": {
        "id": "AvxhgADd5jsN"
      }
    },
    {
      "cell_type": "code",
      "source": [
        "model_ft = models.efficientnet_v2_s(pretrained=False, num_classes=2)\n",
        "model_ft = model_ft.to(device)\n",
        "\n",
        "criterion = nn.CrossEntropyLoss()\n",
        "optimizer_ft = optim.SGD(model_ft.parameters(), lr=0.001, momentum=0.9)\n",
        "model_ft = train_model(model_ft, criterion, optimizer_ft, num_epochs=10)"
      ],
      "metadata": {
        "colab": {
          "base_uri": "https://localhost:8080/"
        },
        "id": "9Z7ArDNq5gWj",
        "outputId": "ae184384-4972-4eee-bea9-8e0900fe602c"
      },
      "execution_count": 26,
      "outputs": [
        {
          "output_type": "stream",
          "name": "stderr",
          "text": [
            "/usr/local/lib/python3.10/dist-packages/torchvision/models/_utils.py:208: UserWarning: The parameter 'pretrained' is deprecated since 0.13 and may be removed in the future, please use 'weights' instead.\n",
            "  warnings.warn(\n",
            "/usr/local/lib/python3.10/dist-packages/torchvision/models/_utils.py:223: UserWarning: Arguments other than a weight enum or `None` for 'weights' are deprecated since 0.13 and may be removed in the future. The current behavior is equivalent to passing `weights=None`.\n",
            "  warnings.warn(msg)\n"
          ]
        },
        {
          "output_type": "stream",
          "name": "stdout",
          "text": [
            "Epoch 0/9\n",
            "----------\n"
          ]
        },
        {
          "output_type": "stream",
          "name": "stderr",
          "text": [
            "/usr/local/lib/python3.10/dist-packages/torch/utils/data/dataloader.py:557: UserWarning: This DataLoader will create 4 worker processes in total. Our suggested max number of worker in current system is 2, which is smaller than what this DataLoader is going to create. Please be aware that excessive worker creation might get DataLoader running slow or even freeze, lower the worker number to avoid potential slowness/freeze if necessary.\n",
            "  warnings.warn(_create_warning_msg(\n"
          ]
        },
        {
          "output_type": "stream",
          "name": "stdout",
          "text": [
            "train Loss: 2.4772  Acc: 0.5984\n",
            "val Loss: 8.8579  Acc: 0.4248\n",
            "\n",
            "Epoch 1/9\n",
            "----------\n",
            "train Loss: 1.7916  Acc: 0.4959\n",
            "val Loss: 23.0120  Acc: 0.5294\n",
            "\n",
            "Epoch 2/9\n",
            "----------\n",
            "train Loss: 1.5412  Acc: 0.5328\n",
            "val Loss: 9.8628  Acc: 0.4902\n",
            "\n",
            "Epoch 3/9\n",
            "----------\n",
            "train Loss: 1.3592  Acc: 0.5164\n",
            "val Loss: 3.8465  Acc: 0.4967\n",
            "\n",
            "Epoch 4/9\n",
            "----------\n",
            "train Loss: 1.2324  Acc: 0.5041\n",
            "val Loss: 40.4175  Acc: 0.4314\n",
            "\n",
            "Epoch 5/9\n",
            "----------\n",
            "train Loss: 1.2510  Acc: 0.5246\n",
            "val Loss: 9.3277  Acc: 0.5686\n",
            "\n",
            "Epoch 6/9\n",
            "----------\n",
            "train Loss: 1.4379  Acc: 0.4918\n",
            "val Loss: 7.8482  Acc: 0.5163\n",
            "\n",
            "Epoch 7/9\n",
            "----------\n",
            "train Loss: 1.2392  Acc: 0.5615\n",
            "val Loss: 1.6415  Acc: 0.4641\n",
            "\n",
            "Epoch 8/9\n",
            "----------\n",
            "train Loss: 1.0718  Acc: 0.5041\n",
            "val Loss: 4.3662  Acc: 0.4902\n",
            "\n",
            "Epoch 9/9\n",
            "----------\n",
            "train Loss: 1.1895  Acc: 0.5492\n",
            "val Loss: 1.4933  Acc: 0.5490\n",
            "\n",
            "Training complete in 1m 48s\n",
            "Best val Acc: 0.5686\n"
          ]
        }
      ]
    },
    {
      "cell_type": "markdown",
      "source": [
        "* EfficientNetV2 전이 학습"
      ],
      "metadata": {
        "id": "-om802z158U8"
      }
    },
    {
      "cell_type": "code",
      "source": [
        "model_ft = models.efficientnet_v2_s(pretrained=True)\n",
        "num_ftrs = model_ft.classifier[1].in_features\n",
        "model_ft.classifier = nn.Linear(num_ftrs, 2)\n",
        "model_ft = model_ft.to(device)\n",
        "\n",
        "criterion = nn.CrossEntropyLoss()\n",
        "optimizer_ft = optim.SGD(model_ft.parameters(), lr=0.001, momentum=0.9)\n",
        "model_ft = train_model(model_ft, criterion, optimizer_ft, num_epochs=10)"
      ],
      "metadata": {
        "colab": {
          "base_uri": "https://localhost:8080/"
        },
        "id": "AZZSJ1k756DO",
        "outputId": "bbae6201-9425-43db-b0f6-906dd2b8e634"
      },
      "execution_count": 27,
      "outputs": [
        {
          "output_type": "stream",
          "name": "stderr",
          "text": [
            "/usr/local/lib/python3.10/dist-packages/torchvision/models/_utils.py:208: UserWarning: The parameter 'pretrained' is deprecated since 0.13 and may be removed in the future, please use 'weights' instead.\n",
            "  warnings.warn(\n",
            "/usr/local/lib/python3.10/dist-packages/torchvision/models/_utils.py:223: UserWarning: Arguments other than a weight enum or `None` for 'weights' are deprecated since 0.13 and may be removed in the future. The current behavior is equivalent to passing `weights=EfficientNet_V2_S_Weights.IMAGENET1K_V1`. You can also use `weights=EfficientNet_V2_S_Weights.DEFAULT` to get the most up-to-date weights.\n",
            "  warnings.warn(msg)\n",
            "Downloading: \"https://download.pytorch.org/models/efficientnet_v2_s-dd5fe13b.pth\" to /root/.cache/torch/hub/checkpoints/efficientnet_v2_s-dd5fe13b.pth\n",
            "100%|██████████| 82.7M/82.7M [00:00<00:00, 93.1MB/s]\n"
          ]
        },
        {
          "output_type": "stream",
          "name": "stdout",
          "text": [
            "Epoch 0/9\n",
            "----------\n"
          ]
        },
        {
          "output_type": "stream",
          "name": "stderr",
          "text": [
            "/usr/local/lib/python3.10/dist-packages/torch/utils/data/dataloader.py:557: UserWarning: This DataLoader will create 4 worker processes in total. Our suggested max number of worker in current system is 2, which is smaller than what this DataLoader is going to create. Please be aware that excessive worker creation might get DataLoader running slow or even freeze, lower the worker number to avoid potential slowness/freeze if necessary.\n",
            "  warnings.warn(_create_warning_msg(\n"
          ]
        },
        {
          "output_type": "stream",
          "name": "stdout",
          "text": [
            "train Loss: 0.5739  Acc: 0.7049\n",
            "val Loss: 0.3613  Acc: 0.9412\n",
            "\n",
            "Epoch 1/9\n",
            "----------\n",
            "train Loss: 0.3950  Acc: 0.8279\n",
            "val Loss: 0.2106  Acc: 0.9542\n",
            "\n",
            "Epoch 2/9\n",
            "----------\n",
            "train Loss: 0.3249  Acc: 0.8648\n",
            "val Loss: 0.1806  Acc: 0.9412\n",
            "\n",
            "Epoch 3/9\n",
            "----------\n",
            "train Loss: 0.2929  Acc: 0.8770\n",
            "val Loss: 0.2232  Acc: 0.9281\n",
            "\n",
            "Epoch 4/9\n",
            "----------\n",
            "train Loss: 0.2938  Acc: 0.8893\n",
            "val Loss: 0.1929  Acc: 0.9542\n",
            "\n",
            "Epoch 5/9\n",
            "----------\n",
            "train Loss: 0.3172  Acc: 0.8648\n",
            "val Loss: 0.1430  Acc: 0.9608\n",
            "\n",
            "Epoch 6/9\n",
            "----------\n",
            "train Loss: 0.3107  Acc: 0.8730\n",
            "val Loss: 0.1884  Acc: 0.9477\n",
            "\n",
            "Epoch 7/9\n",
            "----------\n",
            "train Loss: 0.2688  Acc: 0.8770\n",
            "val Loss: 0.1657  Acc: 0.9477\n",
            "\n",
            "Epoch 8/9\n",
            "----------\n",
            "train Loss: 0.3194  Acc: 0.8443\n",
            "val Loss: 0.1718  Acc: 0.9412\n",
            "\n",
            "Epoch 9/9\n",
            "----------\n",
            "train Loss: 0.2294  Acc: 0.8975\n",
            "val Loss: 0.1843  Acc: 0.9477\n",
            "\n",
            "Training complete in 1m 35s\n",
            "Best val Acc: 0.9608\n"
          ]
        }
      ]
    }
  ]
}