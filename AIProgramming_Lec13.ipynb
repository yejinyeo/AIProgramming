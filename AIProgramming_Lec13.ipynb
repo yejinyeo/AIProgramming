{
  "nbformat": 4,
  "nbformat_minor": 0,
  "metadata": {
    "colab": {
      "provenance": [],
      "gpuType": "T4"
    },
    "kernelspec": {
      "name": "python3",
      "display_name": "Python 3"
    },
    "language_info": {
      "name": "python"
    },
    "accelerator": "GPU"
  },
  "cells": [
    {
      "cell_type": "markdown",
      "source": [
        "### 인공신경망 구현"
      ],
      "metadata": {
        "id": "n4HayM8bqnod"
      }
    },
    {
      "cell_type": "markdown",
      "source": [
        "* 필요한 기능 import"
      ],
      "metadata": {
        "id": "0PXlR6wmslgj"
      }
    },
    {
      "cell_type": "code",
      "execution_count": null,
      "metadata": {
        "id": "ue-HZwpBqkZ2"
      },
      "outputs": [],
      "source": [
        "import torch\n",
        "import torchvision.datasets as dsets\n",
        "import torchvision.transforms as transforms\n",
        "from torch.utils.data import DataLoader\n",
        "import torch.nn as nn\n",
        "import matplotlib.pyplot as plt\n",
        "import random"
      ]
    },
    {
      "cell_type": "markdown",
      "source": [
        "* 런타임 유형 변경 전"
      ],
      "metadata": {
        "id": "F09R1hUTr64D"
      }
    },
    {
      "cell_type": "code",
      "source": [
        "USE_CUDA = torch.cuda.is_available()\n",
        "device = torch.device(\"cuda\" if USE_CUDA else \"cpu\")\n",
        "print(\"다음 기기로 학습합니다:\", device)"
      ],
      "metadata": {
        "colab": {
          "base_uri": "https://localhost:8080/"
        },
        "id": "vxBnKvNYrEip",
        "outputId": "9a1df644-763a-4154-ff8b-bc3bc043ebe8"
      },
      "execution_count": null,
      "outputs": [
        {
          "output_type": "stream",
          "name": "stdout",
          "text": [
            "다음 기기로 학습합니다: cpu\n"
          ]
        }
      ]
    },
    {
      "cell_type": "markdown",
      "source": [
        "* 런타임 유형 변경 후"
      ],
      "metadata": {
        "id": "TB4c24aVr8z2"
      }
    },
    {
      "cell_type": "code",
      "source": [
        "USE_CUDA = torch.cuda.is_available()\n",
        "device = torch.device(\"cuda\" if USE_CUDA else \"cpu\")\n",
        "print(\"다음 기기로 학습합니다:\", device)"
      ],
      "metadata": {
        "colab": {
          "base_uri": "https://localhost:8080/"
        },
        "id": "NJ56un1Br1O_",
        "outputId": "2c91c016-59a1-4935-c731-d24a4b5d923e"
      },
      "execution_count": null,
      "outputs": [
        {
          "output_type": "stream",
          "name": "stdout",
          "text": [
            "다음 기기로 학습합니다: cuda\n"
          ]
        }
      ]
    },
    {
      "cell_type": "markdown",
      "source": [
        "* 재현 위한 시드 설정"
      ],
      "metadata": {
        "id": "uPhRHrjRsohn"
      }
    },
    {
      "cell_type": "code",
      "source": [
        "random.seed(777)\n",
        "torch.manual_seed(777)\n",
        "if device == \"cuda\":\n",
        "  torch.cuda.manual_seed_all(777)"
      ],
      "metadata": {
        "id": "1oonDmZmskcn"
      },
      "execution_count": null,
      "outputs": []
    },
    {
      "cell_type": "markdown",
      "source": [
        "**Model code**"
      ],
      "metadata": {
        "id": "viaNKilws5x-"
      }
    },
    {
      "cell_type": "code",
      "source": [
        "class MLP(nn.Module):\n",
        "  def __init__(self):\n",
        "    super().__init__()\n",
        "\n",
        "    self.model = nn.Sequential(\n",
        "        nn.Linear(784, 100),\n",
        "        nn.ReLU(),\n",
        "        nn.Linear(100, 100),\n",
        "        nn.ReLU(),\n",
        "        nn.Linear(100, 10)\n",
        "    )\n",
        "\n",
        "  def forward(self, x):\n",
        "    return self.model(x)"
      ],
      "metadata": {
        "id": "WQ-ZM4yos0_I"
      },
      "execution_count": null,
      "outputs": []
    },
    {
      "cell_type": "markdown",
      "source": [
        "**Training code**"
      ],
      "metadata": {
        "id": "Ixs7VYuhu3Mx"
      }
    },
    {
      "cell_type": "code",
      "source": [
        "# hyperparameters\n",
        "training_epochs = 3\n",
        "batch_size = 100\n",
        "\n",
        "# MNIST dataset\n",
        "mnist_train = dsets.MNIST(root='MNIST_data/',\n",
        "                          train=True,\n",
        "                          transform=transforms.ToTensor(),\n",
        "                          download=True)\n",
        "mnist_test = dsets.MNIST(root='MNIST_data/',\n",
        "                         train=False,\n",
        "                         transform=transforms.ToTensor(),\n",
        "                         download=True)\n",
        "\n",
        "# dataset loader\n",
        "data_loader = DataLoader(dataset=mnist_train,\n",
        "                         batch_size=batch_size,\n",
        "                         shuffle=True)\n",
        "\n",
        "# MLP 객체 생성\n",
        "model = MLP().to(device)\n",
        "criterion = nn.CrossEntropyLoss().cuda()\n",
        "optimizer = torch.optim.Adam(model.parameters(), lr=0.01)"
      ],
      "metadata": {
        "id": "7Fcoil8FueBN"
      },
      "execution_count": null,
      "outputs": []
    },
    {
      "cell_type": "code",
      "source": [
        "for epoch in range(training_epochs):\n",
        "  avg_cost = 0\n",
        "  total_batch = len(data_loader)\n",
        "\n",
        "  for idx, (x_train, y_train) in enumerate(data_loader):\n",
        "    x_train = x_train.view(-1, 28*28).to(device)\n",
        "    y_train = y_train.to(device)\n",
        "\n",
        "    outputs = model(x_train)\n",
        "    cost = criterion(outputs, y_train)\n",
        "\n",
        "    optimizer.zero_grad()\n",
        "    cost.backward()\n",
        "    optimizer.step()\n",
        "\n",
        "    avg_cost += cost / total_batch\n",
        "\n",
        "  print('Epoch:', '%04d'%(epoch+1), 'cost=', '{:.9f}'.format(avg_cost))\n",
        "\n",
        "print(\"Learning finished\")"
      ],
      "metadata": {
        "colab": {
          "base_uri": "https://localhost:8080/"
        },
        "id": "Y0LuBMt-w6F-",
        "outputId": "9e4e141a-eff5-4a7a-9cff-7faba6823de2"
      },
      "execution_count": null,
      "outputs": [
        {
          "output_type": "stream",
          "name": "stdout",
          "text": [
            "Epoch: 0001 cost= 0.244625121\n",
            "Epoch: 0002 cost= 0.129792050\n",
            "Epoch: 0003 cost= 0.111835487\n",
            "Learning finished\n"
          ]
        }
      ]
    },
    {
      "cell_type": "markdown",
      "source": [
        "**Test code**"
      ],
      "metadata": {
        "id": "8OJa8U4XyNSr"
      }
    },
    {
      "cell_type": "code",
      "source": [
        "with torch.no_grad():\n",
        "  x_test = mnist_test.data.view(-1, 28*28).float().to(device)\n",
        "  y_test = mnist_test.targets.to(device)\n",
        "\n",
        "  prediction = model(x_test)\n",
        "  correct_prediction = torch.argmax(prediction, 1) == y_test\n",
        "  accuracy = correct_prediction.float().mean()\n",
        "  print('Accuracy:', accuracy.item())"
      ],
      "metadata": {
        "colab": {
          "base_uri": "https://localhost:8080/"
        },
        "id": "mypCl8xRyOyN",
        "outputId": "808a4669-7122-48a1-8014-4904812964c7"
      },
      "execution_count": null,
      "outputs": [
        {
          "output_type": "stream",
          "name": "stdout",
          "text": [
            "Accuracy: 0.9660999774932861\n"
          ]
        }
      ]
    },
    {
      "cell_type": "code",
      "source": [
        "with torch.no_grad():\n",
        "  wrong_indices = (correct_prediction == 0).nonzero(as_tuple=True)[0]\n",
        "  print(wrong_indices)\n",
        "  r = random.randint(0, len(wrong_indices)-1)\n",
        "  r = wrong_indices[r].cpu().item()\n",
        "  x_single_data = mnist_test.data[r:r+1].view(-1,28*28).float().cuda()\n",
        "  y_single_data = mnist_test.targets[r:r+1].cuda()\n",
        "\n",
        "  print('Label: ', y_single_data.item())\n",
        "  single_prediction = model(x_single_data)\n",
        "  print('Prediction: ', torch.argmax(single_prediction, 1).item())\n",
        "\n",
        "  plt.imshow(mnist_test.data[r:r+1].view(28,28), cmap='Greys', interpolation='nearest')\n",
        "  plt.show()"
      ],
      "metadata": {
        "colab": {
          "base_uri": "https://localhost:8080/",
          "height": 993
        },
        "id": "-BeejhZVy0_X",
        "outputId": "9dc202f4-e07e-4d88-f5a7-6da9dc19566f"
      },
      "execution_count": null,
      "outputs": [
        {
          "output_type": "stream",
          "name": "stdout",
          "text": [
            "tensor([ 115,  149,  241,  247,  259,  266,  321,  340,  352,  366,  432,  435,\n",
            "         445,  447,  448,  449,  495,  582,  613,  619,  654,  659,  684,  707,\n",
            "         716,  717,  740,  760,  786,  810,  829,  839,  844,  881,  947,  951,\n",
            "         956,  959,  965, 1014, 1039, 1044, 1107, 1112, 1147, 1173, 1178, 1181,\n",
            "        1224, 1226, 1232, 1242, 1247, 1248, 1260, 1289, 1299, 1315, 1319, 1326,\n",
            "        1328, 1356, 1378, 1393, 1466, 1476, 1522, 1523, 1525, 1527, 1530, 1549,\n",
            "        1553, 1571, 1609, 1678, 1681, 1686, 1689, 1691, 1709, 1737, 1751, 1754,\n",
            "        1800, 1850, 1878, 1941, 1952, 1955, 1963, 2004, 2024, 2035, 2053, 2093,\n",
            "        2098, 2109, 2129, 2130, 2135, 2174, 2182, 2186, 2189, 2291, 2293, 2369,\n",
            "        2380, 2381, 2387, 2405, 2422, 2447, 2488, 2514, 2515, 2573, 2578, 2582,\n",
            "        2607, 2645, 2648, 2654, 2670, 2721, 2758, 2770, 2810, 2850, 2877, 2896,\n",
            "        2921, 2939, 2953, 2970, 2998, 3005, 3012, 3030, 3060, 3073, 3112, 3130,\n",
            "        3166, 3172, 3225, 3333, 3422, 3441, 3475, 3503, 3520, 3525, 3549, 3558,\n",
            "        3559, 3567, 3575, 3580, 3597, 3601, 3604, 3662, 3718, 3727, 3756, 3767,\n",
            "        3776, 3780, 3796, 3808, 3811, 3853, 3871, 3902, 3906, 3941, 3943, 3946,\n",
            "        4065, 4075, 4078, 4093, 4116, 4140, 4152, 4154, 4156, 4163, 4176, 4199,\n",
            "        4224, 4256, 4265, 4289, 4294, 4297, 4306, 4360, 4382, 4451, 4497, 4536,\n",
            "        4567, 4578, 4601, 4639, 4690, 4731, 4807, 4814, 4823, 4874, 4876, 4879,\n",
            "        4880, 4943, 4956, 4966, 4978, 5068, 5209, 5331, 5464, 5547, 5600, 5642,\n",
            "        5676, 5734, 5749, 5887, 5913, 5922, 5936, 5937, 5972, 5973, 5975, 6035,\n",
            "        6037, 6071, 6080, 6101, 6166, 6174, 6178, 6505, 6555, 6558, 6560, 6571,\n",
            "        6572, 6574, 6576, 6597, 6603, 6625, 6641, 6651, 6662, 6735, 6744, 6755,\n",
            "        6783, 6847, 6872, 7081, 7094, 7121, 7216, 7220, 7338, 7361, 7401, 7434,\n",
            "        7472, 7498, 7511, 7534, 7545, 7797, 7800, 7821, 7849, 7856, 7858, 7905,\n",
            "        7971, 8020, 8062, 8094, 8095, 8255, 8339, 8406, 8408, 8410, 8413, 8502,\n",
            "        8520, 8522, 8527, 9009, 9015, 9022, 9023, 9024, 9211, 9280, 9316, 9446,\n",
            "        9506, 9587, 9634, 9642, 9664, 9669, 9679, 9700, 9719, 9729, 9745, 9755,\n",
            "        9768, 9770, 9777, 9779, 9808, 9811, 9839, 9858, 9867, 9874, 9888, 9893,\n",
            "        9904, 9944, 9975], device='cuda:0')\n",
            "Label:  5\n",
            "Prediction:  8\n"
          ]
        },
        {
          "output_type": "display_data",
          "data": {
            "text/plain": [
              "<Figure size 640x480 with 1 Axes>"
            ],
            "image/png": "[encoded data removed]"
          },
          "metadata": {}
        }
      ]
    },
    {
      "cell_type": "markdown",
      "source": [
        "Q. **wrong_indices = (correct_prediction == 0).nonzero(as_tuple=True)[0]** 여기서 [0]을 붙이는 이유\n",
        "\n",
        "A. 텐서가 튜플에 감싸져있기 때문임."
      ],
      "metadata": {
        "id": "nazfiq-52kBg"
      }
    },
    {
      "cell_type": "code",
      "source": [
        "(correct_prediction == 0).nonzero(as_tuple=True)"
      ],
      "metadata": {
        "colab": {
          "base_uri": "https://localhost:8080/"
        },
        "id": "UJxFeyY718sd",
        "outputId": "2aa2cfe1-abfe-486f-e072-ab8eeb7ec5ba"
      },
      "execution_count": null,
      "outputs": [
        {
          "output_type": "execute_result",
          "data": {
            "text/plain": [
              "(tensor([ 115,  149,  241,  247,  259,  266,  321,  340,  352,  366,  432,  435,\n",
              "          445,  447,  448,  449,  495,  582,  613,  619,  654,  659,  684,  707,\n",
              "          716,  717,  740,  760,  786,  810,  829,  839,  844,  881,  947,  951,\n",
              "          956,  959,  965, 1014, 1039, 1044, 1107, 1112, 1147, 1173, 1178, 1181,\n",
              "         1224, 1226, 1232, 1242, 1247, 1248, 1260, 1289, 1299, 1315, 1319, 1326,\n",
              "         1328, 1356, 1378, 1393, 1466, 1476, 1522, 1523, 1525, 1527, 1530, 1549,\n",
              "         1553, 1571, 1609, 1678, 1681, 1686, 1689, 1691, 1709, 1737, 1751, 1754,\n",
              "         1800, 1850, 1878, 1941, 1952, 1955, 1963, 2004, 2024, 2035, 2053, 2093,\n",
              "         2098, 2109, 2129, 2130, 2135, 2174, 2182, 2186, 2189, 2291, 2293, 2369,\n",
              "         2380, 2381, 2387, 2405, 2422, 2447, 2488, 2514, 2515, 2573, 2578, 2582,\n",
              "         2607, 2645, 2648, 2654, 2670, 2721, 2758, 2770, 2810, 2850, 2877, 2896,\n",
              "         2921, 2939, 2953, 2970, 2998, 3005, 3012, 3030, 3060, 3073, 3112, 3130,\n",
              "         3166, 3172, 3225, 3333, 3422, 3441, 3475, 3503, 3520, 3525, 3549, 3558,\n",
              "         3559, 3567, 3575, 3580, 3597, 3601, 3604, 3662, 3718, 3727, 3756, 3767,\n",
              "         3776, 3780, 3796, 3808, 3811, 3853, 3871, 3902, 3906, 3941, 3943, 3946,\n",
              "         4065, 4075, 4078, 4093, 4116, 4140, 4152, 4154, 4156, 4163, 4176, 4199,\n",
              "         4224, 4256, 4265, 4289, 4294, 4297, 4306, 4360, 4382, 4451, 4497, 4536,\n",
              "         4567, 4578, 4601, 4639, 4690, 4731, 4807, 4814, 4823, 4874, 4876, 4879,\n",
              "         4880, 4943, 4956, 4966, 4978, 5068, 5209, 5331, 5464, 5547, 5600, 5642,\n",
              "         5676, 5734, 5749, 5887, 5913, 5922, 5936, 5937, 5972, 5973, 5975, 6035,\n",
              "         6037, 6071, 6080, 6101, 6166, 6174, 6178, 6505, 6555, 6558, 6560, 6571,\n",
              "         6572, 6574, 6576, 6597, 6603, 6625, 6641, 6651, 6662, 6735, 6744, 6755,\n",
              "         6783, 6847, 6872, 7081, 7094, 7121, 7216, 7220, 7338, 7361, 7401, 7434,\n",
              "         7472, 7498, 7511, 7534, 7545, 7797, 7800, 7821, 7849, 7856, 7858, 7905,\n",
              "         7971, 8020, 8062, 8094, 8095, 8255, 8339, 8406, 8408, 8410, 8413, 8502,\n",
              "         8520, 8522, 8527, 9009, 9015, 9022, 9023, 9024, 9211, 9280, 9316, 9446,\n",
              "         9506, 9587, 9634, 9642, 9664, 9669, 9679, 9700, 9719, 9729, 9745, 9755,\n",
              "         9768, 9770, 9777, 9779, 9808, 9811, 9839, 9858, 9867, 9874, 9888, 9893,\n",
              "         9904, 9944, 9975], device='cuda:0'),)"
            ]
          },
          "metadata": {},
          "execution_count": 16
        }
      ]
    }
  ]
}