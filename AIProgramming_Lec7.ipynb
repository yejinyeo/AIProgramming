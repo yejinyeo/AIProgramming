{
  "nbformat": 4,
  "nbformat_minor": 0,
  "metadata": {
    "colab": {
      "provenance": []
    },
    "kernelspec": {
      "name": "python3",
      "display_name": "Python 3"
    },
    "language_info": {
      "name": "python"
    }
  },
  "cells": [
    {
      "cell_type": "markdown",
      "source": [
        "### 선형 회귀 (Linear Regression)"
      ],
      "metadata": {
        "id": "LLZPHj1xzlHR"
      }
    },
    {
      "cell_type": "code",
      "source": [
        "import torch\n",
        "import torch.nn as nn\n",
        "import torch.nn.functional as F\n",
        "import torch.optim as optim\n",
        "\n",
        "torch.manual_seed(1)"
      ],
      "metadata": {
        "colab": {
          "base_uri": "https://localhost:8080/"
        },
        "id": "lrAZ91B-z-jt",
        "outputId": "6ba98122-afef-4c2d-8d2e-50ad25c984a3"
      },
      "execution_count": 1,
      "outputs": [
        {
          "output_type": "execute_result",
          "data": {
            "text/plain": [
              "<torch._C.Generator at 0x7fb5191e3dd0>"
            ]
          },
          "metadata": {},
          "execution_count": 1
        }
      ]
    },
    {
      "cell_type": "markdown",
      "source": [
        "* 데이터셋 생성"
      ],
      "metadata": {
        "id": "VPwMla3RDE5T"
      }
    },
    {
      "cell_type": "code",
      "execution_count": 2,
      "metadata": {
        "colab": {
          "base_uri": "https://localhost:8080/"
        },
        "id": "GaEpxnRAwMGD",
        "outputId": "a398a891-2550-4ff1-acc2-cf3dc610e991"
      },
      "outputs": [
        {
          "output_type": "stream",
          "name": "stdout",
          "text": [
            "tensor([[1.],\n",
            "        [2.],\n",
            "        [3.]])\n",
            "torch.Size([3, 1])\n",
            "tensor([[2.],\n",
            "        [4.],\n",
            "        [6.]])\n",
            "torch.Size([3, 1])\n"
          ]
        }
      ],
      "source": [
        "# 학습 데이터셋 구성\n",
        "x_train = torch.FloatTensor([[1],[2],[3]])\n",
        "y_train = torch.FloatTensor([[2],[4],[6]])\n",
        "print(x_train)\n",
        "print(x_train.shape)\n",
        "print(y_train)\n",
        "print(y_train.shape)"
      ]
    },
    {
      "cell_type": "markdown",
      "source": [
        "* 모델 초기화"
      ],
      "metadata": {
        "id": "HSvq3ID5DHhU"
      }
    },
    {
      "cell_type": "code",
      "source": [
        "# 가중치, 편향 생성\n",
        "W = torch.zeros(1, requires_grad=True)\n",
        "b = torch.zeros(1, requires_grad=True)\n",
        "print(W)\n",
        "print(b)"
      ],
      "metadata": {
        "colab": {
          "base_uri": "https://localhost:8080/"
        },
        "id": "mdPbVu2M0Qel",
        "outputId": "5a05ac93-7ce4-48e1-b466-2331cd72f634"
      },
      "execution_count": 3,
      "outputs": [
        {
          "output_type": "stream",
          "name": "stdout",
          "text": [
            "tensor([0.], requires_grad=True)\n",
            "tensor([0.], requires_grad=True)\n"
          ]
        }
      ]
    },
    {
      "cell_type": "code",
      "source": [
        "# 가설 수립\n",
        "hypo = x_train*W + b\n",
        "print(hypo)"
      ],
      "metadata": {
        "colab": {
          "base_uri": "https://localhost:8080/"
        },
        "id": "RPoTempMAKEb",
        "outputId": "b8afed0f-ef85-4b90-bc3f-a3a1e0c44940"
      },
      "execution_count": 4,
      "outputs": [
        {
          "output_type": "stream",
          "name": "stdout",
          "text": [
            "tensor([[0.],\n",
            "        [0.],\n",
            "        [0.]], grad_fn=<AddBackward0>)\n"
          ]
        }
      ]
    },
    {
      "cell_type": "code",
      "source": [
        "# 비용함수 선언\n",
        "cost = torch.mean((hypo - y_train)**2)\n",
        "print(cost)"
      ],
      "metadata": {
        "colab": {
          "base_uri": "https://localhost:8080/"
        },
        "id": "NAHeudZPAS05",
        "outputId": "f203987f-a7b5-410d-e08f-fa90516c7825"
      },
      "execution_count": 5,
      "outputs": [
        {
          "output_type": "stream",
          "name": "stdout",
          "text": [
            "tensor(18.6667, grad_fn=<MeanBackward0>)\n"
          ]
        }
      ]
    },
    {
      "cell_type": "markdown",
      "source": [
        "* optimizer 설정"
      ],
      "metadata": {
        "id": "VM7BQ1vPDLUC"
      }
    },
    {
      "cell_type": "code",
      "source": [
        "optimizer = optim.SGD([W, b], lr=0.01)\n",
        "nb_epochs = 1000 # 1000만큼 경사하강법 반복"
      ],
      "metadata": {
        "id": "hjyLjcbeBQU7"
      },
      "execution_count": 6,
      "outputs": []
    },
    {
      "cell_type": "markdown",
      "source": [
        "* 학습"
      ],
      "metadata": {
        "id": "kBtFKBm4HkwD"
      }
    },
    {
      "cell_type": "code",
      "source": [
        "for epoch in range(nb_epochs + 1):\n",
        "  # 가설, 손실함수\n",
        "  hypo = x_train*W + b\n",
        "  cost = torch.mean((hypo - y_train)**2)\n",
        "\n",
        "  # 경사하강법\n",
        "  optimizer.zero_grad()\n",
        "  cost.backward()\n",
        "  optimizer.step()\n",
        "\n",
        "  # 100번마다 로그 출력\n",
        "  if epoch%100 == 0:\n",
        "     print(\"Epoch {:4d}/{} W: {:3f}, b: {:3f} Cost: {:6f}\".format(epoch, nb_epochs, W.item(), b.item(), cost.item()))"
      ],
      "metadata": {
        "colab": {
          "base_uri": "https://localhost:8080/"
        },
        "id": "ekxoSuwjEafk",
        "outputId": "2b05baae-f245-433c-94cd-1461144975d7"
      },
      "execution_count": 7,
      "outputs": [
        {
          "output_type": "stream",
          "name": "stdout",
          "text": [
            "Epoch    0/1000 W: 0.186667, b: 0.080000 Cost: 18.666666\n",
            "Epoch  100/1000 W: 1.745691, b: 0.578072 Cost: 0.048171\n",
            "Epoch  200/1000 W: 1.800099, b: 0.454421 Cost: 0.029767\n",
            "Epoch  300/1000 W: 1.842860, b: 0.357217 Cost: 0.018394\n",
            "Epoch  400/1000 W: 1.876473, b: 0.280805 Cost: 0.011366\n",
            "Epoch  500/1000 W: 1.902897, b: 0.220738 Cost: 0.007024\n",
            "Epoch  600/1000 W: 1.923668, b: 0.173520 Cost: 0.004340\n",
            "Epoch  700/1000 W: 1.939996, b: 0.136403 Cost: 0.002682\n",
            "Epoch  800/1000 W: 1.952832, b: 0.107225 Cost: 0.001657\n",
            "Epoch  900/1000 W: 1.962921, b: 0.084289 Cost: 0.001024\n",
            "Epoch 1000/1000 W: 1.970853, b: 0.066259 Cost: 0.000633\n"
          ]
        }
      ]
    },
    {
      "cell_type": "markdown",
      "source": [
        "* 추론"
      ],
      "metadata": {
        "id": "nSCjR-m_HmlN"
      }
    },
    {
      "cell_type": "code",
      "source": [
        "test_data = torch.FloatTensor([[4]])\n",
        "prediction = test_data*W + b\n",
        "print(prediction)"
      ],
      "metadata": {
        "colab": {
          "base_uri": "https://localhost:8080/"
        },
        "id": "7WTwHb6kHjSE",
        "outputId": "703ecfcf-992c-413d-afdb-2ef54bde7a8e"
      },
      "execution_count": 8,
      "outputs": [
        {
          "output_type": "stream",
          "name": "stdout",
          "text": [
            "tensor([[7.9497]], grad_fn=<AddBackward0>)\n"
          ]
        }
      ]
    }
  ]
}