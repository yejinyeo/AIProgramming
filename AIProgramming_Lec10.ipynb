{
  "nbformat": 4,
  "nbformat_minor": 0,
  "metadata": {
    "colab": {
      "provenance": []
    },
    "kernelspec": {
      "name": "python3",
      "display_name": "Python 3"
    },
    "language_info": {
      "name": "python"
    }
  },
  "cells": [
    {
      "cell_type": "markdown",
      "source": [
        "### torch.nn.Module을 이용한 다중 선형회귀 모델"
      ],
      "metadata": {
        "id": "FdxXCZBfumVT"
      }
    },
    {
      "cell_type": "code",
      "execution_count": 9,
      "metadata": {
        "id": "Ti2JIDzbtpAg"
      },
      "outputs": [],
      "source": [
        "import torch\n",
        "import torch.nn as nn\n",
        "import torch.optim as optim\n",
        "import torch.nn.functional as F"
      ]
    },
    {
      "cell_type": "markdown",
      "source": [
        "* 모델 코드"
      ],
      "metadata": {
        "id": "JI9StLvv1ZBj"
      }
    },
    {
      "cell_type": "code",
      "source": [
        "class MultipleLinearRegressionModel(nn.Module):\n",
        "  def __init__(self):\n",
        "    super().__init__()\n",
        "    self.linear = nn.Linear(3,1)\n",
        "\n",
        "  def forward(self, x):\n",
        "    return self.linear(x)"
      ],
      "metadata": {
        "id": "7EBqrNYqu49L"
      },
      "execution_count": 6,
      "outputs": []
    },
    {
      "cell_type": "markdown",
      "source": [
        "* 학습 코드"
      ],
      "metadata": {
        "id": "1jNmJ74q1aT0"
      }
    },
    {
      "cell_type": "code",
      "source": [
        "x_train = torch.FloatTensor([[73,80,75],\n",
        "                             [93,88,93],\n",
        "                             [89,91,80],\n",
        "                             [96,98,100]])\n",
        "y_train = torch.FloatTensor([152,185,180,196]).view(-1,1)\n",
        "\n",
        "model = MultipleLinearRegressionModel()\n",
        "print(list(model.parameters()))"
      ],
      "metadata": {
        "colab": {
          "base_uri": "https://localhost:8080/"
        },
        "id": "HLI-Sbdt0twX",
        "outputId": "7b25b922-ddd8-486f-b73f-faf3c2396578"
      },
      "execution_count": 8,
      "outputs": [
        {
          "output_type": "stream",
          "name": "stdout",
          "text": [
            "[Parameter containing:\n",
            "tensor([[-0.4574, -0.4643, -0.5093]], requires_grad=True), Parameter containing:\n",
            "tensor([-0.5603], requires_grad=True)]\n"
          ]
        }
      ]
    },
    {
      "cell_type": "code",
      "source": [
        "optimizer = optim.SGD(model.parameters(), lr=1e-5)\n",
        "nb_epochs = 1000\n",
        "for epoch in range(nb_epochs+1):\n",
        "  # 가설, 손실함수\n",
        "  prediction = model(x_train)\n",
        "  cost = F.mse_loss(prediction, y_train)\n",
        "\n",
        "  # 경사하강법\n",
        "  optimizer.zero_grad()\n",
        "  cost.backward()\n",
        "  optimizer.step()\n",
        "\n",
        "  if epoch%100==0:\n",
        "    print('Epoch {:4d}/{} Cost: {:.6f}'.format(epoch, nb_epochs, cost.item()))"
      ],
      "metadata": {
        "colab": {
          "base_uri": "https://localhost:8080/"
        },
        "id": "x1b7M2Cm2KDy",
        "outputId": "64b9fec3-b36a-417c-bdf0-18141cd1ced0"
      },
      "execution_count": 10,
      "outputs": [
        {
          "output_type": "stream",
          "name": "stdout",
          "text": [
            "Epoch    0/1000 Cost: 93597.921875\n",
            "Epoch  100/1000 Cost: 6.149569\n",
            "Epoch  200/1000 Cost: 5.834129\n",
            "Epoch  300/1000 Cost: 5.538378\n",
            "Epoch  400/1000 Cost: 5.260834\n",
            "Epoch  500/1000 Cost: 5.000278\n",
            "Epoch  600/1000 Cost: 4.755471\n",
            "Epoch  700/1000 Cost: 4.525442\n",
            "Epoch  800/1000 Cost: 4.309029\n",
            "Epoch  900/1000 Cost: 4.105368\n",
            "Epoch 1000/1000 Cost: 3.913602\n"
          ]
        }
      ]
    },
    {
      "cell_type": "markdown",
      "source": [
        "* 추론 코드"
      ],
      "metadata": {
        "id": "X_UuGS8G3TUJ"
      }
    },
    {
      "cell_type": "code",
      "source": [
        "test_data = torch.FloatTensor([[73,66,70]])\n",
        "prediction = model(test_data)\n",
        "print(prediction)"
      ],
      "metadata": {
        "colab": {
          "base_uri": "https://localhost:8080/"
        },
        "id": "pNyOB0FW3PHe",
        "outputId": "c46057f9-9088-48cf-814e-2028dd1f047e"
      },
      "execution_count": 11,
      "outputs": [
        {
          "output_type": "stream",
          "name": "stdout",
          "text": [
            "tensor([[140.9175]], grad_fn=<AddmmBackward0>)\n"
          ]
        }
      ]
    }
  ]
}