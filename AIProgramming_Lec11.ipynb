{
  "nbformat": 4,
  "nbformat_minor": 0,
  "metadata": {
    "colab": {
      "provenance": []
    },
    "kernelspec": {
      "name": "python3",
      "display_name": "Python 3"
    },
    "language_info": {
      "name": "python"
    }
  },
  "cells": [
    {
      "cell_type": "markdown",
      "source": [
        "### 로지스틱 회귀 - 이진 분류"
      ],
      "metadata": {
        "id": "xIWbNHgrTniG"
      }
    },
    {
      "cell_type": "code",
      "source": [
        "import torch\n",
        "import torch.nn as nn\n",
        "import torch.nn.functional as F\n",
        "import torch.optim as optim"
      ],
      "metadata": {
        "id": "kFlavEajOC7y"
      },
      "execution_count": null,
      "outputs": []
    },
    {
      "cell_type": "markdown",
      "source": [
        "* 모델"
      ],
      "metadata": {
        "id": "JkC8Py9kRzPo"
      }
    },
    {
      "cell_type": "code",
      "execution_count": null,
      "metadata": {
        "id": "ZZ_POja6TldL"
      },
      "outputs": [],
      "source": [
        "class LogisticRegression(nn.Module):\n",
        "  def __init__(self):\n",
        "    super().__init__()\n",
        "    self.linear = nn.Linear(2, 1)\n",
        "    self.sigmoid = nn.Sigmoid()\n",
        "\n",
        "  def forward(self, x):\n",
        "    return self.sigmoid(self.linear(x))"
      ]
    },
    {
      "cell_type": "markdown",
      "source": [
        "* 학습"
      ],
      "metadata": {
        "id": "sygqLllRR0tw"
      }
    },
    {
      "cell_type": "code",
      "source": [
        "x_train = torch.FloatTensor([[1,2],[2,3],[3,1],[4,3],[5,3],[6,2]])\n",
        "y_train = torch.FloatTensor([0,0,0,1,1,1]).view(-1,1)\n",
        "\n",
        "model = LogisticRegression()\n",
        "\n",
        "optimizer = optim.SGD(model.parameters(), lr=1e-1)\n",
        "nb_epochs = 1000\n",
        "for epoch in range(nb_epochs+1):\n",
        "  prediction = model(x_train)\n",
        "  cost = F.binary_cross_entropy(prediction, y_train)\n",
        "\n",
        "  optimizer.zero_grad()\n",
        "  cost.backward()\n",
        "  optimizer.step()\n",
        "\n",
        "  if epoch%100 == 0:\n",
        "    predicted_class = prediction >= torch.FloatTensor([0.5])\n",
        "    correct_prediction = predicted_class.float() == y_train\n",
        "    accuracy = correct_prediction.sum().item() / len(correct_prediction)\n",
        "    print('Epoch {:4d}/{} Cost: {:.6f} Accuracy: {:2.2f}%'.format(epoch, nb_epochs, cost, accuracy*100))"
      ],
      "metadata": {
        "colab": {
          "base_uri": "https://localhost:8080/"
        },
        "id": "pFZr-1JZOu6J",
        "outputId": "f8a732f7-adbf-455f-aa89-093a46394e21"
      },
      "execution_count": null,
      "outputs": [
        {
          "output_type": "stream",
          "name": "stdout",
          "text": [
            "Epoch    0/1000 Cost: 1.107901 Accuracy: 16.67%\n",
            "Epoch  100/1000 Cost: 0.442916 Accuracy: 83.33%\n",
            "Epoch  200/1000 Cost: 0.369840 Accuracy: 83.33%\n",
            "Epoch  300/1000 Cost: 0.317096 Accuracy: 83.33%\n",
            "Epoch  400/1000 Cost: 0.275972 Accuracy: 83.33%\n",
            "Epoch  500/1000 Cost: 0.243450 Accuracy: 100.00%\n",
            "Epoch  600/1000 Cost: 0.217364 Accuracy: 100.00%\n",
            "Epoch  700/1000 Cost: 0.196120 Accuracy: 100.00%\n",
            "Epoch  800/1000 Cost: 0.178563 Accuracy: 100.00%\n",
            "Epoch  900/1000 Cost: 0.163852 Accuracy: 100.00%\n",
            "Epoch 1000/1000 Cost: 0.151371 Accuracy: 100.00%\n"
          ]
        }
      ]
    },
    {
      "cell_type": "markdown",
      "source": [
        "* 추론"
      ],
      "metadata": {
        "id": "st07oKvBR2H6"
      }
    },
    {
      "cell_type": "code",
      "source": [
        "test_data = torch.FloatTensor([[5,5],[1,4]])  # 각각 class가 1, 0임\n",
        "prediction = model(test_data)\n",
        "print(prediction)"
      ],
      "metadata": {
        "colab": {
          "base_uri": "https://localhost:8080/"
        },
        "id": "z7qizABkR3Bg",
        "outputId": "6712a27a-247e-4d4b-d8e0-cb256b43ec1a"
      },
      "execution_count": null,
      "outputs": [
        {
          "output_type": "stream",
          "name": "stdout",
          "text": [
            "tensor([[0.9697],\n",
            "        [0.0551]], grad_fn=<SigmoidBackward0>)\n"
          ]
        }
      ]
    },
    {
      "cell_type": "markdown",
      "source": [
        "### 소프트맥스 회귀 - 다중 클래스 분류"
      ],
      "metadata": {
        "id": "z4nYh7eQSMfG"
      }
    },
    {
      "cell_type": "markdown",
      "source": [
        "* 모델"
      ],
      "metadata": {
        "id": "zrR9CW4Obfmg"
      }
    },
    {
      "cell_type": "code",
      "source": [
        "class SoftmaxRegression(nn.Module):\n",
        "  def __init__(self):\n",
        "    super().__init__()\n",
        "    self.linear = nn.Linear(4, 3)\n",
        "\n",
        "  def forward(self, x):\n",
        "    return self.linear(x)"
      ],
      "metadata": {
        "id": "cWN2beudSPJO"
      },
      "execution_count": null,
      "outputs": []
    },
    {
      "cell_type": "markdown",
      "source": [
        "* 학습"
      ],
      "metadata": {
        "id": "XOVMhy51cY51"
      }
    },
    {
      "cell_type": "code",
      "source": [
        "x_train = torch.FloatTensor([[6.3,3.3,6.0,2.5],\n",
        "                             [5.8,2.7,5.1,1.9],\n",
        "                             [7.1,3.0,5.9,2.1],\n",
        "                             [5.1,3.5,1.4,0.2],\n",
        "                             [4.9,3.0,1.4,0.2],\n",
        "                             [4.7,3.2,1.3,0.2],\n",
        "                             [7.0,3.2,4.7,1.4],\n",
        "                             [6.4,3.2,4.5,1.5],\n",
        "                             [6.9,3.1,4.9,1.5]])\n",
        "y_train = torch.LongTensor([0,0,0,1,1,1,2,2,2])\n",
        "\n",
        "model = SoftmaxRegression()\n",
        "\n",
        "optimizer = optim.SGD(model.parameters(), lr=1e-1)\n",
        "nb_epochs = 1000\n",
        "for epoch in range(nb_epochs+1):\n",
        "  prediction = model(x_train)\n",
        "  cost = F.cross_entropy(prediction, y_train)\n",
        "\n",
        "  optimizer.zero_grad()\n",
        "  cost.backward()\n",
        "  optimizer.step()\n",
        "\n",
        "  if epoch%100 == 0:\n",
        "    print(F.softmax(prediction, dim=1))\n",
        "    correct_prediction = torch.argmax(prediction, 1) == y_train\n",
        "    accuracy = correct_prediction.float().mean().item()\n",
        "    print(\"Epoch {:4d}/{} Cost: {:.6f} Accuracy: {:2.2f}%\".format(epoch, nb_epochs, cost.item(), accuracy*100))"
      ],
      "metadata": {
        "colab": {
          "base_uri": "https://localhost:8080/"
        },
        "id": "kvsG0VigcWZp",
        "outputId": "24bfb1d1-8886-4404-f1bb-f85a0bcea3cf"
      },
      "execution_count": null,
      "outputs": [
        {
          "output_type": "stream",
          "name": "stdout",
          "text": [
            "tensor([[0.8909, 0.1061, 0.0030],\n",
            "        [0.8819, 0.1124, 0.0057],\n",
            "        [0.9123, 0.0854, 0.0023],\n",
            "        [0.8490, 0.1348, 0.0163],\n",
            "        [0.8421, 0.1370, 0.0209],\n",
            "        [0.8341, 0.1441, 0.0218],\n",
            "        [0.9101, 0.0868, 0.0031],\n",
            "        [0.8951, 0.1005, 0.0044],\n",
            "        [0.9086, 0.0882, 0.0032]], grad_fn=<SoftmaxBackward0>)\n",
            "Epoch    0/1000 Cost: 2.579061 Accuracy: 33.33%\n",
            "tensor([[8.1884e-01, 1.8098e-03, 1.7935e-01],\n",
            "        [6.2365e-01, 6.4758e-03, 3.6988e-01],\n",
            "        [5.0452e-01, 4.1154e-03, 4.9136e-01],\n",
            "        [4.5388e-04, 9.0949e-01, 9.0052e-02],\n",
            "        [1.1808e-03, 8.3670e-01, 1.6212e-01],\n",
            "        [9.0072e-04, 8.8527e-01, 1.1383e-01],\n",
            "        [9.8206e-02, 5.4002e-02, 8.4779e-01],\n",
            "        [1.6465e-01, 6.3019e-02, 7.7233e-01],\n",
            "        [1.5657e-01, 3.4026e-02, 8.0940e-01]], grad_fn=<SoftmaxBackward0>)\n",
            "Epoch  100/1000 Cost: 0.265125 Accuracy: 100.00%\n",
            "tensor([[9.5609e-01, 2.0323e-04, 4.3702e-02],\n",
            "        [8.2847e-01, 1.5368e-03, 1.7000e-01],\n",
            "        [7.4180e-01, 9.4339e-04, 2.5725e-01],\n",
            "        [3.5285e-05, 9.6247e-01, 3.7494e-02],\n",
            "        [1.3262e-04, 9.1655e-01, 8.3319e-02],\n",
            "        [8.8856e-05, 9.4827e-01, 5.1640e-02],\n",
            "        [1.0214e-01, 3.9542e-02, 8.5832e-01],\n",
            "        [1.9830e-01, 4.7293e-02, 7.5441e-01],\n",
            "        [1.9368e-01, 2.1435e-02, 7.8488e-01]], grad_fn=<SoftmaxBackward0>)\n",
            "Epoch  200/1000 Cost: 0.154119 Accuracy: 100.00%\n",
            "tensor([[9.7647e-01, 5.8664e-05, 2.3476e-02],\n",
            "        [8.7274e-01, 6.6751e-04, 1.2659e-01],\n",
            "        [7.8902e-01, 3.9603e-04, 2.1058e-01],\n",
            "        [4.9089e-06, 9.7424e-01, 2.5752e-02],\n",
            "        [2.3712e-05, 9.3667e-01, 6.3302e-02],\n",
            "        [1.4706e-05, 9.6331e-01, 3.6674e-02],\n",
            "        [6.8492e-02, 2.8468e-02, 9.0304e-01],\n",
            "        [1.5674e-01, 3.6379e-02, 8.0688e-01],\n",
            "        [1.5373e-01, 1.4656e-02, 8.3162e-01]], grad_fn=<SoftmaxBackward0>)\n",
            "Epoch  300/1000 Cost: 0.114082 Accuracy: 100.00%\n",
            "tensor([[9.8556e-01, 2.3004e-05, 1.4420e-02],\n",
            "        [9.0020e-01, 3.5565e-04, 9.9441e-02],\n",
            "        [8.2232e-01, 2.0646e-04, 1.7748e-01],\n",
            "        [1.0577e-06, 9.8044e-01, 1.9562e-02],\n",
            "        [6.2031e-06, 9.4837e-01, 5.1626e-02],\n",
            "        [3.6230e-06, 9.7148e-01, 2.8520e-02],\n",
            "        [4.9798e-02, 2.2292e-02, 9.2791e-01],\n",
            "        [1.2902e-01, 2.9930e-02, 8.4105e-01],\n",
            "        [1.2783e-01, 1.1084e-02, 8.6109e-01]], grad_fn=<SoftmaxBackward0>)\n",
            "Epoch  400/1000 Cost: 0.090501 Accuracy: 100.00%\n",
            "tensor([[9.9030e-01, 1.0811e-05, 9.6928e-03],\n",
            "        [9.1855e-01, 2.1349e-04, 8.1236e-02],\n",
            "        [8.4670e-01, 1.2184e-04, 1.5318e-01],\n",
            "        [3.0141e-07, 9.8430e-01, 1.5697e-02],\n",
            "        [2.0711e-06, 9.5623e-01, 4.3772e-02],\n",
            "        [1.1515e-06, 9.7669e-01, 2.3310e-02],\n",
            "        [3.8263e-02, 1.8300e-02, 9.4344e-01],\n",
            "        [1.0938e-01, 2.5533e-02, 8.6508e-01],\n",
            "        [1.0967e-01, 8.8563e-03, 8.8147e-01]], grad_fn=<SoftmaxBackward0>)\n",
            "Epoch  500/1000 Cost: 0.074957 Accuracy: 100.00%\n",
            "tensor([[9.9305e-01, 5.7381e-06, 6.9406e-03],\n",
            "        [9.3155e-01, 1.3886e-04, 6.8315e-02],\n",
            "        [8.6524e-01, 7.8094e-05, 1.3468e-01],\n",
            "        [1.0427e-07, 9.8695e-01, 1.3053e-02],\n",
            "        [8.1902e-07, 9.6192e-01, 3.8074e-02],\n",
            "        [4.3676e-07, 9.8032e-01, 1.9681e-02],\n",
            "        [3.0581e-02, 1.5503e-02, 9.5392e-01],\n",
            "        [9.4790e-02, 2.2307e-02, 8.8290e-01],\n",
            "        [9.6219e-02, 7.3351e-03, 8.9645e-01]], grad_fn=<SoftmaxBackward0>)\n",
            "Epoch  600/1000 Cost: 0.063945 Accuracy: 100.00%\n",
            "tensor([[9.9479e-01, 3.3247e-06, 5.2059e-03],\n",
            "        [9.4118e-01, 9.5727e-05, 5.8728e-02],\n",
            "        [8.7978e-01, 5.3141e-05, 1.2017e-01],\n",
            "        [4.1587e-08, 9.8887e-01, 1.1135e-02],\n",
            "        [3.6674e-07, 9.6627e-01, 3.3734e-02],\n",
            "        [1.8862e-07, 9.8299e-01, 1.7006e-02],\n",
            "        [2.5169e-02, 1.3434e-02, 9.6140e-01],\n",
            "        [8.3539e-02, 1.9828e-02, 8.9663e-01],\n",
            "        [8.5829e-02, 6.2332e-03, 9.0794e-01]], grad_fn=<SoftmaxBackward0>)\n",
            "Epoch  700/1000 Cost: 0.055740 Accuracy: 100.00%\n",
            "tensor([[9.9595e-01, 2.0586e-06, 4.0453e-03],\n",
            "        [9.4857e-01, 6.8979e-05, 5.1364e-02],\n",
            "        [8.9147e-01, 3.7841e-05, 1.0849e-01],\n",
            "        [1.8493e-08, 9.9032e-01, 9.6817e-03],\n",
            "        [1.8060e-07, 9.6969e-01, 3.0310e-02],\n",
            "        [8.9959e-08, 9.8505e-01, 1.4955e-02],\n",
            "        [2.1189e-02, 1.1843e-02, 9.6697e-01],\n",
            "        [7.4610e-02, 1.7859e-02, 9.0753e-01],\n",
            "        [7.7554e-02, 5.4006e-03, 9.1705e-01]], grad_fn=<SoftmaxBackward0>)\n",
            "Epoch  800/1000 Cost: 0.049393 Accuracy: 100.00%\n",
            "tensor([[9.9677e-01, 1.3427e-06, 3.2320e-03],\n",
            "        [9.5440e-01, 5.1468e-05, 4.5548e-02],\n",
            "        [9.0107e-01, 2.7928e-05, 9.8898e-02],\n",
            "        [8.9616e-09, 9.9145e-01, 8.5454e-03],\n",
            "        [9.5862e-08, 9.7246e-01, 2.7536e-02],\n",
            "        [4.6404e-08, 9.8667e-01, 1.3332e-02],\n",
            "        [1.8163e-02, 1.0582e-02, 9.7126e-01],\n",
            "        [6.7359e-02, 1.6255e-02, 9.1639e-01],\n",
            "        [7.0800e-02, 4.7509e-03, 9.2445e-01]], grad_fn=<SoftmaxBackward0>)\n",
            "Epoch  900/1000 Cost: 0.044338 Accuracy: 100.00%\n",
            "tensor([[9.9736e-01, 9.1317e-07, 2.6406e-03],\n",
            "        [9.5911e-01, 3.9498e-05, 4.0848e-02],\n",
            "        [9.0910e-01, 2.1217e-05, 9.0877e-02],\n",
            "        [4.6553e-09, 9.9237e-01, 7.6339e-03],\n",
            "        [5.4070e-08, 9.7476e-01, 2.5240e-02],\n",
            "        [2.5505e-08, 9.8798e-01, 1.2018e-02],\n",
            "        [1.5798e-02, 9.5589e-03, 9.7464e-01],\n",
            "        [6.1358e-02, 1.4923e-02, 9.2372e-01],\n",
            "        [6.5178e-02, 4.2309e-03, 9.3059e-01]], grad_fn=<SoftmaxBackward0>)\n",
            "Epoch 1000/1000 Cost: 0.040219 Accuracy: 100.00%\n"
          ]
        }
      ]
    },
    {
      "cell_type": "markdown",
      "source": [
        "* 원리 이해 도움"
      ],
      "metadata": {
        "id": "QDfQQL-tdYcx"
      }
    },
    {
      "cell_type": "code",
      "source": [
        "x_train = torch.FloatTensor([[6.3,3.3,6.0,2.5],\n",
        "                             [5.8,2.7,5.1,1.9],\n",
        "                             [7.1,3.0,5.9,2.1],\n",
        "                             [5.1,3.5,1.4,0.2],\n",
        "                             [4.9,3.0,1.4,0.2],\n",
        "                             [4.7,3.2,1.3,0.2],\n",
        "                             [7.0,3.2,4.7,1.4],\n",
        "                             [6.4,3.2,4.5,1.5],\n",
        "                             [6.9,3.1,4.9,1.5]])\n",
        "y_train = torch.LongTensor([0,0,0,1,1,1,2,2,2])\n",
        "\n",
        "model = SoftmaxRegression()\n",
        "\n",
        "optimizer = optim.SGD(model.parameters(), lr=1e-1)\n",
        "nb_epochs = 1000\n",
        "for epoch in range(nb_epochs+1):\n",
        "  prediction = model(x_train)\n",
        "  cost = F.cross_entropy(prediction, y_train)\n",
        "\n",
        "  optimizer.zero_grad()\n",
        "  cost.backward()\n",
        "  optimizer.step()\n",
        "\n",
        "  if epoch%100 == 0:\n",
        "    correct_prediction = torch.argmax(prediction, 1)  == y_train\n",
        "    print(correct_prediction)\n",
        "    print(correct_prediction.float())\n",
        "    accuracy = correct_prediction.float().mean().item()"
      ],
      "metadata": {
        "colab": {
          "base_uri": "https://localhost:8080/"
        },
        "id": "VT77r042daSa",
        "outputId": "3b9ddd8c-e7cf-4c4e-87f6-e59b21470122"
      },
      "execution_count": null,
      "outputs": [
        {
          "output_type": "stream",
          "name": "stdout",
          "text": [
            "tensor([False, False, False,  True,  True,  True, False, False, False])\n",
            "tensor([0., 0., 0., 1., 1., 1., 0., 0., 0.])\n",
            "tensor([ True,  True, False,  True,  True,  True,  True,  True,  True])\n",
            "tensor([1., 1., 0., 1., 1., 1., 1., 1., 1.])\n",
            "tensor([True, True, True, True, True, True, True, True, True])\n",
            "tensor([1., 1., 1., 1., 1., 1., 1., 1., 1.])\n",
            "tensor([True, True, True, True, True, True, True, True, True])\n",
            "tensor([1., 1., 1., 1., 1., 1., 1., 1., 1.])\n",
            "tensor([True, True, True, True, True, True, True, True, True])\n",
            "tensor([1., 1., 1., 1., 1., 1., 1., 1., 1.])\n",
            "tensor([True, True, True, True, True, True, True, True, True])\n",
            "tensor([1., 1., 1., 1., 1., 1., 1., 1., 1.])\n",
            "tensor([True, True, True, True, True, True, True, True, True])\n",
            "tensor([1., 1., 1., 1., 1., 1., 1., 1., 1.])\n",
            "tensor([True, True, True, True, True, True, True, True, True])\n",
            "tensor([1., 1., 1., 1., 1., 1., 1., 1., 1.])\n",
            "tensor([True, True, True, True, True, True, True, True, True])\n",
            "tensor([1., 1., 1., 1., 1., 1., 1., 1., 1.])\n",
            "tensor([True, True, True, True, True, True, True, True, True])\n",
            "tensor([1., 1., 1., 1., 1., 1., 1., 1., 1.])\n",
            "tensor([True, True, True, True, True, True, True, True, True])\n",
            "tensor([1., 1., 1., 1., 1., 1., 1., 1., 1.])\n"
          ]
        }
      ]
    },
    {
      "cell_type": "markdown",
      "source": [
        "* 테스트"
      ],
      "metadata": {
        "id": "Ix7wk58RhW72"
      }
    }
  ]
}