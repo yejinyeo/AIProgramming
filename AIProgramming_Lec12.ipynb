{
  "nbformat": 4,
  "nbformat_minor": 0,
  "metadata": {
    "colab": {
      "provenance": []
    },
    "kernelspec": {
      "name": "python3",
      "display_name": "Python 3"
    },
    "language_info": {
      "name": "python"
    }
  },
  "cells": [
    {
      "cell_type": "markdown",
      "source": [
        "### 데이터셋 및 데이터로더"
      ],
      "metadata": {
        "id": "0zdm2CO8phK0"
      }
    },
    {
      "cell_type": "code",
      "execution_count": null,
      "metadata": {
        "id": "mgLlTx7-pfW4"
      },
      "outputs": [],
      "source": [
        "import torch\n",
        "import torch.nn as nn\n",
        "import torch.nn.functional as F\n",
        "from torch.utils.data import TensorDataset\n",
        "from torch.utils.data import DataLoader"
      ]
    },
    {
      "cell_type": "code",
      "source": [
        "x_train  =  torch.FloatTensor([[73,  80,  75],\n",
        "                               [93,  88,  93],\n",
        "                               [89,  91,  90],\n",
        "                               [96,  98,  100],\n",
        "                               [73,  66,  70]])\n",
        "y_train  =  torch.FloatTensor([[152],  [185],  [180],  [196],  [142]])"
      ],
      "metadata": {
        "id": "Yyyn44MrvzB0"
      },
      "execution_count": null,
      "outputs": []
    },
    {
      "cell_type": "code",
      "source": [
        "dataset = TensorDataset(x_train, y_train)\n",
        "dataloader = DataLoader(dataset, batch_size=2, shuffle=True)"
      ],
      "metadata": {
        "id": "CpgT70XpweW5"
      },
      "execution_count": null,
      "outputs": []
    },
    {
      "cell_type": "code",
      "source": [
        "model = nn.Linear(3,1)\n",
        "optimizer = torch.optim.SGD(model.parameters(), lr=1e-5)"
      ],
      "metadata": {
        "id": "Nlm6VN3Hw03K"
      },
      "execution_count": null,
      "outputs": []
    },
    {
      "cell_type": "code",
      "source": [
        "nb_epochs = 20\n",
        "for epoch in range(nb_epochs + 1):\n",
        "  for batch_idx, samples in enumerate(dataloader):\n",
        "    print(batch_idx)\n",
        "    print(samples)\n",
        "    x_train, y_train = samples\n",
        "\n",
        "    prediction = model(x_train)\n",
        "    cost = F.mse_loss(prediction, y_train)\n",
        "\n",
        "    optimizer.zero_grad()\n",
        "    cost.backward()\n",
        "    optimizer.step()\n",
        "\n",
        "    print('Epoch {:4d}/{} Batch {}/{} Cost: {:.6f}'.format(epoch, nb_epochs, batch_idx+1, len(dataloader), cost.item()))"
      ],
      "metadata": {
        "colab": {
          "base_uri": "https://localhost:8080/"
        },
        "id": "Ev_Trh4IDkC9",
        "outputId": "b5b4a0f8-fb7b-4fba-81ab-c40d86cb11b1"
      },
      "execution_count": null,
      "outputs": [
        {
          "output_type": "stream",
          "name": "stdout",
          "text": [
            "0\n",
            "[tensor([[89., 91., 90.],\n",
            "        [93., 88., 93.]]), tensor([[180.],\n",
            "        [185.]])]\n",
            "Epoch    0/20 Batch 1/3 Cost: 73435.828125\n",
            "1\n",
            "[tensor([[73., 66., 70.],\n",
            "        [73., 80., 75.]]), tensor([[142.],\n",
            "        [152.]])]\n",
            "Epoch    0/20 Batch 2/3 Cost: 12213.071289\n",
            "2\n",
            "[tensor([[ 96.,  98., 100.]]), tensor([[196.]])]\n",
            "Epoch    0/20 Batch 3/3 Cost: 9815.430664\n",
            "0\n",
            "[tensor([[ 96.,  98., 100.],\n",
            "        [ 73.,  80.,  75.]]), tensor([[196.],\n",
            "        [152.]])]\n",
            "Epoch    1/20 Batch 1/3 Cost: 1384.428955\n",
            "1\n",
            "[tensor([[89., 91., 90.],\n",
            "        [93., 88., 93.]]), tensor([[180.],\n",
            "        [185.]])]\n",
            "Epoch    1/20 Batch 2/3 Cost: 527.903992\n",
            "2\n",
            "[tensor([[73., 66., 70.]]), tensor([[142.]])]\n",
            "Epoch    1/20 Batch 3/3 Cost: 135.915833\n",
            "0\n",
            "[tensor([[93., 88., 93.],\n",
            "        [73., 80., 75.]]), tensor([[185.],\n",
            "        [152.]])]\n",
            "Epoch    2/20 Batch 1/3 Cost: 46.631306\n",
            "1\n",
            "[tensor([[ 73.,  66.,  70.],\n",
            "        [ 96.,  98., 100.]]), tensor([[142.],\n",
            "        [196.]])]\n",
            "Epoch    2/20 Batch 2/3 Cost: 21.087519\n",
            "2\n",
            "[tensor([[89., 91., 90.]]), tensor([[180.]])]\n",
            "Epoch    2/20 Batch 3/3 Cost: 0.449613\n",
            "0\n",
            "[tensor([[89., 91., 90.],\n",
            "        [73., 80., 75.]]), tensor([[180.],\n",
            "        [152.]])]\n",
            "Epoch    3/20 Batch 1/3 Cost: 0.241101\n",
            "1\n",
            "[tensor([[ 96.,  98., 100.],\n",
            "        [ 93.,  88.,  93.]]), tensor([[196.],\n",
            "        [185.]])]\n",
            "Epoch    3/20 Batch 2/3 Cost: 7.276926\n",
            "2\n",
            "[tensor([[73., 66., 70.]]), tensor([[142.]])]\n",
            "Epoch    3/20 Batch 3/3 Cost: 12.700649\n",
            "0\n",
            "[tensor([[ 89.,  91.,  90.],\n",
            "        [ 96.,  98., 100.]]), tensor([[180.],\n",
            "        [196.]])]\n",
            "Epoch    4/20 Batch 1/3 Cost: 4.526182\n",
            "1\n",
            "[tensor([[73., 66., 70.],\n",
            "        [73., 80., 75.]]), tensor([[142.],\n",
            "        [152.]])]\n",
            "Epoch    4/20 Batch 2/3 Cost: 6.995858\n",
            "2\n",
            "[tensor([[93., 88., 93.]]), tensor([[185.]])]\n",
            "Epoch    4/20 Batch 3/3 Cost: 4.871728\n",
            "0\n",
            "[tensor([[73., 66., 70.],\n",
            "        [73., 80., 75.]]), tensor([[142.],\n",
            "        [152.]])]\n",
            "Epoch    5/20 Batch 1/3 Cost: 6.562284\n",
            "1\n",
            "[tensor([[ 96.,  98., 100.],\n",
            "        [ 93.,  88.,  93.]]), tensor([[196.],\n",
            "        [185.]])]\n",
            "Epoch    5/20 Batch 2/3 Cost: 3.765483\n",
            "2\n",
            "[tensor([[89., 91., 90.]]), tensor([[180.]])]\n",
            "Epoch    5/20 Batch 3/3 Cost: 3.196051\n",
            "0\n",
            "[tensor([[93., 88., 93.],\n",
            "        [89., 91., 90.]]), tensor([[185.],\n",
            "        [180.]])]\n",
            "Epoch    6/20 Batch 1/3 Cost: 3.482577\n",
            "1\n",
            "[tensor([[ 96.,  98., 100.],\n",
            "        [ 73.,  80.,  75.]]), tensor([[196.],\n",
            "        [152.]])]\n",
            "Epoch    6/20 Batch 2/3 Cost: 3.181906\n",
            "2\n",
            "[tensor([[73., 66., 70.]]), tensor([[142.]])]\n",
            "Epoch    6/20 Batch 3/3 Cost: 13.441685\n",
            "0\n",
            "[tensor([[73., 80., 75.],\n",
            "        [93., 88., 93.]]), tensor([[152.],\n",
            "        [185.]])]\n",
            "Epoch    7/20 Batch 1/3 Cost: 4.170265\n",
            "1\n",
            "[tensor([[ 89.,  91.,  90.],\n",
            "        [ 96.,  98., 100.]]), tensor([[180.],\n",
            "        [196.]])]\n",
            "Epoch    7/20 Batch 2/3 Cost: 3.531164\n",
            "2\n",
            "[tensor([[73., 66., 70.]]), tensor([[142.]])]\n",
            "Epoch    7/20 Batch 3/3 Cost: 11.813154\n",
            "0\n",
            "[tensor([[ 96.,  98., 100.],\n",
            "        [ 73.,  66.,  70.]]), tensor([[196.],\n",
            "        [142.]])]\n",
            "Epoch    8/20 Batch 1/3 Cost: 5.803400\n",
            "1\n",
            "[tensor([[73., 80., 75.],\n",
            "        [89., 91., 90.]]), tensor([[152.],\n",
            "        [180.]])]\n",
            "Epoch    8/20 Batch 2/3 Cost: 4.891943\n",
            "2\n",
            "[tensor([[93., 88., 93.]]), tensor([[185.]])]\n",
            "Epoch    8/20 Batch 3/3 Cost: 6.046754\n",
            "0\n",
            "[tensor([[89., 91., 90.],\n",
            "        [73., 80., 75.]]), tensor([[180.],\n",
            "        [152.]])]\n",
            "Epoch    9/20 Batch 1/3 Cost: 5.901196\n",
            "1\n",
            "[tensor([[93., 88., 93.],\n",
            "        [73., 66., 70.]]), tensor([[185.],\n",
            "        [142.]])]\n",
            "Epoch    9/20 Batch 2/3 Cost: 7.821198\n",
            "2\n",
            "[tensor([[ 96.,  98., 100.]]), tensor([[196.]])]\n",
            "Epoch    9/20 Batch 3/3 Cost: 6.599919\n",
            "0\n",
            "[tensor([[93., 88., 93.],\n",
            "        [73., 80., 75.]]), tensor([[185.],\n",
            "        [152.]])]\n",
            "Epoch   10/20 Batch 1/3 Cost: 4.448167\n",
            "1\n",
            "[tensor([[ 73.,  66.,  70.],\n",
            "        [ 96.,  98., 100.]]), tensor([[142.],\n",
            "        [196.]])]\n",
            "Epoch   10/20 Batch 2/3 Cost: 5.871535\n",
            "2\n",
            "[tensor([[89., 91., 90.]]), tensor([[180.]])]\n",
            "Epoch   10/20 Batch 3/3 Cost: 1.913352\n",
            "0\n",
            "[tensor([[89., 91., 90.],\n",
            "        [93., 88., 93.]]), tensor([[180.],\n",
            "        [185.]])]\n",
            "Epoch   11/20 Batch 1/3 Cost: 3.823131\n",
            "1\n",
            "[tensor([[ 73.,  66.,  70.],\n",
            "        [ 96.,  98., 100.]]), tensor([[142.],\n",
            "        [196.]])]\n",
            "Epoch   11/20 Batch 2/3 Cost: 5.837326\n",
            "2\n",
            "[tensor([[73., 80., 75.]]), tensor([[152.]])]\n",
            "Epoch   11/20 Batch 3/3 Cost: 4.248369\n",
            "0\n",
            "[tensor([[ 89.,  91.,  90.],\n",
            "        [ 96.,  98., 100.]]), tensor([[180.],\n",
            "        [196.]])]\n",
            "Epoch   12/20 Batch 1/3 Cost: 0.423007\n",
            "1\n",
            "[tensor([[93., 88., 93.],\n",
            "        [73., 66., 70.]]), tensor([[185.],\n",
            "        [142.]])]\n",
            "Epoch   12/20 Batch 2/3 Cost: 12.414122\n",
            "2\n",
            "[tensor([[73., 80., 75.]]), tensor([[152.]])]\n",
            "Epoch   12/20 Batch 3/3 Cost: 5.459099\n",
            "0\n",
            "[tensor([[ 96.,  98., 100.],\n",
            "        [ 89.,  91.,  90.]]), tensor([[196.],\n",
            "        [180.]])]\n",
            "Epoch   13/20 Batch 1/3 Cost: 0.765799\n",
            "1\n",
            "[tensor([[93., 88., 93.],\n",
            "        [73., 66., 70.]]), tensor([[185.],\n",
            "        [142.]])]\n",
            "Epoch   13/20 Batch 2/3 Cost: 11.775698\n",
            "2\n",
            "[tensor([[73., 80., 75.]]), tensor([[152.]])]\n",
            "Epoch   13/20 Batch 3/3 Cost: 5.686306\n",
            "0\n",
            "[tensor([[73., 66., 70.],\n",
            "        [93., 88., 93.]]), tensor([[142.],\n",
            "        [185.]])]\n",
            "Epoch   14/20 Batch 1/3 Cost: 9.037678\n",
            "1\n",
            "[tensor([[ 89.,  91.,  90.],\n",
            "        [ 96.,  98., 100.]]), tensor([[180.],\n",
            "        [196.]])]\n",
            "Epoch   14/20 Batch 2/3 Cost: 5.031485\n",
            "2\n",
            "[tensor([[73., 80., 75.]]), tensor([[152.]])]\n",
            "Epoch   14/20 Batch 3/3 Cost: 2.774998\n",
            "0\n",
            "[tensor([[ 96.,  98., 100.],\n",
            "        [ 73.,  66.,  70.]]), tensor([[196.],\n",
            "        [142.]])]\n",
            "Epoch   15/20 Batch 1/3 Cost: 7.371582\n",
            "1\n",
            "[tensor([[93., 88., 93.],\n",
            "        [89., 91., 90.]]), tensor([[185.],\n",
            "        [180.]])]\n",
            "Epoch   15/20 Batch 2/3 Cost: 3.506424\n",
            "2\n",
            "[tensor([[73., 80., 75.]]), tensor([[152.]])]\n",
            "Epoch   15/20 Batch 3/3 Cost: 3.780561\n",
            "0\n",
            "[tensor([[73., 66., 70.],\n",
            "        [89., 91., 90.]]), tensor([[142.],\n",
            "        [180.]])]\n",
            "Epoch   16/20 Batch 1/3 Cost: 6.760340\n",
            "1\n",
            "[tensor([[ 96.,  98., 100.],\n",
            "        [ 73.,  80.,  75.]]), tensor([[196.],\n",
            "        [152.]])]\n",
            "Epoch   16/20 Batch 2/3 Cost: 2.335899\n",
            "2\n",
            "[tensor([[93., 88., 93.]]), tensor([[185.]])]\n",
            "Epoch   16/20 Batch 3/3 Cost: 9.140713\n",
            "0\n",
            "[tensor([[73., 80., 75.],\n",
            "        [89., 91., 90.]]), tensor([[152.],\n",
            "        [180.]])]\n",
            "Epoch   17/20 Batch 1/3 Cost: 4.625479\n",
            "1\n",
            "[tensor([[ 96.,  98., 100.],\n",
            "        [ 73.,  66.,  70.]]), tensor([[196.],\n",
            "        [142.]])]\n",
            "Epoch   17/20 Batch 2/3 Cost: 6.109548\n",
            "2\n",
            "[tensor([[93., 88., 93.]]), tensor([[185.]])]\n",
            "Epoch   17/20 Batch 3/3 Cost: 4.538416\n",
            "0\n",
            "[tensor([[89., 91., 90.],\n",
            "        [73., 80., 75.]]), tensor([[180.],\n",
            "        [152.]])]\n",
            "Epoch   18/20 Batch 1/3 Cost: 6.480114\n",
            "1\n",
            "[tensor([[93., 88., 93.],\n",
            "        [73., 66., 70.]]), tensor([[185.],\n",
            "        [142.]])]\n",
            "Epoch   18/20 Batch 2/3 Cost: 7.282640\n",
            "2\n",
            "[tensor([[ 96.,  98., 100.]]), tensor([[196.]])]\n",
            "Epoch   18/20 Batch 3/3 Cost: 6.838972\n",
            "0\n",
            "[tensor([[89., 91., 90.],\n",
            "        [73., 66., 70.]]), tensor([[180.],\n",
            "        [142.]])]\n",
            "Epoch   19/20 Batch 1/3 Cost: 5.881562\n",
            "1\n",
            "[tensor([[ 96.,  98., 100.],\n",
            "        [ 73.,  80.,  75.]]), tensor([[196.],\n",
            "        [152.]])]\n",
            "Epoch   19/20 Batch 2/3 Cost: 3.122061\n",
            "2\n",
            "[tensor([[93., 88., 93.]]), tensor([[185.]])]\n",
            "Epoch   19/20 Batch 3/3 Cost: 8.262554\n",
            "0\n",
            "[tensor([[73., 80., 75.],\n",
            "        [73., 66., 70.]]), tensor([[152.],\n",
            "        [142.]])]\n",
            "Epoch   20/20 Batch 1/3 Cost: 6.242855\n",
            "1\n",
            "[tensor([[93., 88., 93.],\n",
            "        [89., 91., 90.]]), tensor([[185.],\n",
            "        [180.]])]\n",
            "Epoch   20/20 Batch 2/3 Cost: 2.831387\n",
            "2\n",
            "[tensor([[ 96.,  98., 100.]]), tensor([[196.]])]\n",
            "Epoch   20/20 Batch 3/3 Cost: 4.285183\n"
          ]
        }
      ]
    },
    {
      "cell_type": "code",
      "source": [
        "new_var = torch.FloatTensor([[73,80,75]])\n",
        "pred_y = model(new_var)\n",
        "print(pred_y)"
      ],
      "metadata": {
        "colab": {
          "base_uri": "https://localhost:8080/"
        },
        "id": "Xa4EiMioFuB1",
        "outputId": "31df72a9-3c8e-4f5b-8411-7de0e7e6e32f"
      },
      "execution_count": null,
      "outputs": [
        {
          "output_type": "stream",
          "name": "stdout",
          "text": [
            "tensor([[153.4378]], grad_fn=<AddmmBackward0>)\n"
          ]
        }
      ]
    },
    {
      "cell_type": "markdown",
      "source": [
        "### 소프트맥스 회귀를 이용한 MNIST 데이터 분류 구현"
      ],
      "metadata": {
        "id": "6Ps4nXp0HQFJ"
      }
    },
    {
      "cell_type": "code",
      "source": [
        "import torch\n",
        "import torch.nn as nn\n",
        "import torch.nn.functional as F\n",
        "from torch.utils.data import DataLoader\n",
        "\n",
        "import torchvision.datasets as dsets\n",
        "import torchvision.transforms as transforms\n",
        "\n",
        "import matplotlib.pyplot as plt\n",
        "import random"
      ],
      "metadata": {
        "id": "WiNDQVUBHcD-"
      },
      "execution_count": null,
      "outputs": []
    },
    {
      "cell_type": "markdown",
      "source": [
        "* 모델 코드"
      ],
      "metadata": {
        "id": "0UgP_3e5HUL-"
      }
    },
    {
      "cell_type": "code",
      "source": [
        "class MNIST_SoftmaxRegression(nn.Module):\n",
        "  def __init__(self):\n",
        "    super().__init__()\n",
        "    self.linear = nn.Linear(28*28, 10)\n",
        "    # softmax연산 -> cross_entropy class가 해줌\n",
        "  def forward(self, x):\n",
        "    return self.linear(x)"
      ],
      "metadata": {
        "id": "jZj_G24lHVFX"
      },
      "execution_count": null,
      "outputs": []
    },
    {
      "cell_type": "markdown",
      "source": [
        "* 학습 코드"
      ],
      "metadata": {
        "id": "51BIAOpTI7e7"
      }
    },
    {
      "cell_type": "code",
      "source": [
        "# hyperparameters\n",
        "training_epochs = 15\n",
        "batch_size = 100\n",
        "\n",
        "# MNIST dataset\n",
        "mnist_train = dsets.MNIST(root='MNIST_data/',\n",
        "                          train=True,\n",
        "                          transform=transforms.ToTensor(),\n",
        "                          download=True)\n",
        "mnist_test = dsets.MNIST(root='MNIST_data/',\n",
        "                         train=False,\n",
        "                         transform=transforms.ToTensor(),\n",
        "                         download=True)"
      ],
      "metadata": {
        "colab": {
          "base_uri": "https://localhost:8080/"
        },
        "id": "hYIwO9SwIVnw",
        "outputId": "e067284d-13bd-41a3-e722-e26d222597ef"
      },
      "execution_count": null,
      "outputs": [
        {
          "output_type": "stream",
          "name": "stdout",
          "text": [
            "Downloading http://yann.lecun.com/exdb/mnist/train-images-idx3-ubyte.gz\n",
            "Downloading http://yann.lecun.com/exdb/mnist/train-images-idx3-ubyte.gz to MNIST_data/MNIST/raw/train-images-idx3-ubyte.gz\n"
          ]
        },
        {
          "output_type": "stream",
          "name": "stderr",
          "text": [
            "100%|██████████| 9912422/9912422 [00:00<00:00, 106992854.17it/s]\n"
          ]
        },
        {
          "output_type": "stream",
          "name": "stdout",
          "text": [
            "Extracting MNIST_data/MNIST/raw/train-images-idx3-ubyte.gz to MNIST_data/MNIST/raw\n",
            "\n",
            "Downloading http://yann.lecun.com/exdb/mnist/train-labels-idx1-ubyte.gz\n",
            "Downloading http://yann.lecun.com/exdb/mnist/train-labels-idx1-ubyte.gz to MNIST_data/MNIST/raw/train-labels-idx1-ubyte.gz\n"
          ]
        },
        {
          "output_type": "stream",
          "name": "stderr",
          "text": [
            "100%|██████████| 28881/28881 [00:00<00:00, 30957243.50it/s]\n"
          ]
        },
        {
          "output_type": "stream",
          "name": "stdout",
          "text": [
            "Extracting MNIST_data/MNIST/raw/train-labels-idx1-ubyte.gz to MNIST_data/MNIST/raw\n",
            "\n",
            "Downloading http://yann.lecun.com/exdb/mnist/t10k-images-idx3-ubyte.gz\n",
            "Downloading http://yann.lecun.com/exdb/mnist/t10k-images-idx3-ubyte.gz to MNIST_data/MNIST/raw/t10k-images-idx3-ubyte.gz\n"
          ]
        },
        {
          "output_type": "stream",
          "name": "stderr",
          "text": [
            "100%|██████████| 1648877/1648877 [00:00<00:00, 28553639.64it/s]\n"
          ]
        },
        {
          "output_type": "stream",
          "name": "stdout",
          "text": [
            "Extracting MNIST_data/MNIST/raw/t10k-images-idx3-ubyte.gz to MNIST_data/MNIST/raw\n",
            "\n",
            "Downloading http://yann.lecun.com/exdb/mnist/t10k-labels-idx1-ubyte.gz\n",
            "Downloading http://yann.lecun.com/exdb/mnist/t10k-labels-idx1-ubyte.gz to MNIST_data/MNIST/raw/t10k-labels-idx1-ubyte.gz\n"
          ]
        },
        {
          "output_type": "stream",
          "name": "stderr",
          "text": [
            "100%|██████████| 4542/4542 [00:00<00:00, 15640828.22it/s]\n"
          ]
        },
        {
          "output_type": "stream",
          "name": "stdout",
          "text": [
            "Extracting MNIST_data/MNIST/raw/t10k-labels-idx1-ubyte.gz to MNIST_data/MNIST/raw\n",
            "\n"
          ]
        }
      ]
    },
    {
      "cell_type": "code",
      "source": [
        "# dataset loader\n",
        "data_loader = DataLoader(dataset=mnist_train,\n",
        "                         batch_size=batch_size,\n",
        "                         shuffle=True)\n",
        "\n",
        "model= MNIST_SoftmaxRegression()\n",
        "\n",
        "# 옵티마이저, 비용함수 정의\n",
        "optimizer = torch.optim.SGD(model.parameters(), lr=0.1)\n",
        "criterion = nn.CrossEntropyLoss() # 내부적으로 소프트맥스 함수 포함하고 있음"
      ],
      "metadata": {
        "id": "WkBXa8uAKluh"
      },
      "execution_count": null,
      "outputs": []
    },
    {
      "cell_type": "code",
      "source": [
        "len(data_loader)  # 미니배치의 총 개수 = 샘플 개수(60000) / 배치 사이즈(100)"
      ],
      "metadata": {
        "colab": {
          "base_uri": "https://localhost:8080/"
        },
        "id": "eaB8HXyUPXW_",
        "outputId": "4e481ebe-1206-4b86-a202-0f384695afb5"
      },
      "execution_count": null,
      "outputs": [
        {
          "output_type": "execute_result",
          "data": {
            "text/plain": [
              "600"
            ]
          },
          "metadata": {},
          "execution_count": 18
        }
      ]
    },
    {
      "cell_type": "code",
      "source": [
        "for epoch in range(training_epochs):\n",
        "  avg_cost= 0\n",
        "  total_batch = len(data_loader)\n",
        "\n",
        "  for idx, (x_train, y_train) in enumerate(data_loader):\n",
        "    x_train = x_train.view(-1,28*28)\n",
        "\n",
        "    pred = model(x_train)\n",
        "    cost = criterion(pred, y_train)\n",
        "\n",
        "    optimizer.zero_grad()\n",
        "    cost.backward()\n",
        "    optimizer.step()\n",
        "\n",
        "    avg_cost += cost / total_batch\n",
        "\n",
        "  print('Epoch:', '%04d'%(epoch+1), 'cost=', '{:.9f}'.format(avg_cost))\n",
        "\n",
        "print('Learning finished')"
      ],
      "metadata": {
        "colab": {
          "base_uri": "https://localhost:8080/"
        },
        "id": "joloPdDRM6gU",
        "outputId": "f9c2960c-4b15-4bcc-a0eb-faae45a87aae"
      },
      "execution_count": null,
      "outputs": [
        {
          "output_type": "stream",
          "name": "stdout",
          "text": [
            "Epoch: 0001 cost= 0.535643637\n",
            "Epoch: 0002 cost= 0.359140307\n",
            "Epoch: 0003 cost= 0.331101537\n",
            "Epoch: 0004 cost= 0.316462904\n",
            "Epoch: 0005 cost= 0.307113737\n",
            "Epoch: 0006 cost= 0.300343513\n",
            "Epoch: 0007 cost= 0.294880271\n",
            "Epoch: 0008 cost= 0.290663213\n",
            "Epoch: 0009 cost= 0.287311882\n",
            "Epoch: 0010 cost= 0.284379900\n",
            "Epoch: 0011 cost= 0.281955898\n",
            "Epoch: 0012 cost= 0.279638827\n",
            "Epoch: 0013 cost= 0.277713269\n",
            "Epoch: 0014 cost= 0.276085198\n",
            "Epoch: 0015 cost= 0.274426669\n",
            "Learning finished\n"
          ]
        }
      ]
    },
    {
      "cell_type": "markdown",
      "source": [
        "* 테스트 코드"
      ],
      "metadata": {
        "id": "2r1h4VJBV_kv"
      }
    },
    {
      "cell_type": "code",
      "source": [
        "with torch.no_grad():\n",
        "  x_test = mnist_test.data.view(-1,28*28).float()\n",
        "  y_test = mnist_test.targets\n",
        "\n",
        "  prediction = model(x_test)\n",
        "  correct_prediction = torch.argmax(prediction, 1) == y_test\n",
        "  accuracy = correct_prediction.float().mean()\n",
        "  print('Accuracy:', accuracy.item())"
      ],
      "metadata": {
        "colab": {
          "base_uri": "https://localhost:8080/"
        },
        "id": "XEGSQ3VlV_RD",
        "outputId": "96b67619-0f56-4419-efdb-3723d85db833"
      },
      "execution_count": null,
      "outputs": [
        {
          "output_type": "stream",
          "name": "stdout",
          "text": [
            "Accuracy: 0.8888000249862671\n"
          ]
        }
      ]
    },
    {
      "cell_type": "code",
      "source": [
        "len(mnist_test)"
      ],
      "metadata": {
        "colab": {
          "base_uri": "https://localhost:8080/"
        },
        "id": "Vou_JylRXFRL",
        "outputId": "ba496770-d1a7-4cb7-90c6-0b7779138b05"
      },
      "execution_count": null,
      "outputs": [
        {
          "output_type": "execute_result",
          "data": {
            "text/plain": [
              "10000"
            ]
          },
          "metadata": {},
          "execution_count": 22
        }
      ]
    },
    {
      "cell_type": "code",
      "source": [
        "with torch.no_grad():\n",
        "  r = random.randint(0, len(mnist_test)-1)\n",
        "  x_single_data = mnist_test.data[r:r+1].view(-1,28*28).float()\n",
        "  y_single_data = mnist_test.targets[r:r+1]\n",
        "\n",
        "  print('Label: ', y_single_data.item())\n",
        "  single_prediction = model(x_single_data)\n",
        "  print('Prediction: ', torch.argmax(single_prediction, 1).item())\n",
        "\n",
        "  plt.imshow(mnist_test.data[r:r+1].view(28,28), cmap='Greys', interpolation='nearest')\n",
        "  plt.show()"
      ],
      "metadata": {
        "colab": {
          "base_uri": "https://localhost:8080/",
          "height": 466
        },
        "id": "nFHCqg-SW5QA",
        "outputId": "f583dcd0-2a03-4cce-fa62-3e23c758c1c5"
      },
      "execution_count": null,
      "outputs": [
        {
          "output_type": "stream",
          "name": "stdout",
          "text": [
            "Label:  8\n",
            "Prediction:  8\n"
          ]
        },
        {
          "output_type": "display_data",
          "data": {
            "text/plain": [
              "<Figure size 640x480 with 1 Axes>"
            ],
            "image/png": "[encoded data removed]"
          },
          "metadata": {}
        }
      ]
    }
  ]
}