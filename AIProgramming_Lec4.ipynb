{
  "nbformat": 4,
  "nbformat_minor": 0,
  "metadata": {
    "colab": {
      "provenance": []
    },
    "kernelspec": {
      "name": "python3",
      "display_name": "Python 3"
    },
    "language_info": {
      "name": "python"
    }
  },
  "cells": [
    {
      "cell_type": "markdown",
      "source": [
        "### Tensor란?"
      ],
      "metadata": {
        "id": "cYIq0hMaFBjH"
      }
    },
    {
      "cell_type": "markdown",
      "source": [
        "Q. **데이터가 차원을 갖게 되면 해당 차원의 크기 또한 존재함** 에서 해당 차원의 크기는 n차원의 n을 의미하는 것이 아니라 numpy의 shape 속성 값을 의미하는 것인가?"
      ],
      "metadata": {
        "id": "TkqmCwvmFEeh"
      }
    },
    {
      "cell_type": "code",
      "execution_count": 2,
      "metadata": {
        "colab": {
          "base_uri": "https://localhost:8080/"
        },
        "id": "39LAkbUhEwZO",
        "outputId": "ebfa3b01-0459-4103-94e1-00d96c67b26f"
      },
      "outputs": [
        {
          "output_type": "stream",
          "name": "stdout",
          "text": [
            "(3,)\n",
            "(2, 3)\n"
          ]
        }
      ],
      "source": [
        "import numpy as np\n",
        "\n",
        "# 데이터 data_a가 1차원의 차원을 갖게 되면 해당 차원의 크기 또한 존재한다.\n",
        "data_a = np.array([0,1,2])  # data_a:vector\n",
        "print(data_a.shape)\n",
        "\n",
        "# 데이터 data_b가 2차원의 차원을 갖게 되면 해당 차원의 크기 또한 존재한다.\n",
        "data_b = np.array([[0,1,2],[3,4,5]])  # data_b:matrix\n",
        "print(data_b.shape)"
      ]
    },
    {
      "cell_type": "markdown",
      "source": [
        "### numpy array"
      ],
      "metadata": {
        "id": "3ryXefPhNazO"
      }
    },
    {
      "cell_type": "code",
      "source": [
        "import numpy as np\n",
        "\n",
        "a = np.array([1,2,3]) # rank(배열의 차원):1\n",
        "print(type(a))\n",
        "print(a.shape)\n",
        "print(a[0],a[1],a[2])\n",
        "a[0] = 5\n",
        "print(a)\n",
        "\n",
        "b = np.array([[1,2,3],[4,5,6]]) # rank:2\n",
        "print(b.shape)\n",
        "print(b[0,0],b[0,1],b[0,2])\n",
        "print(b[0][0],b[0][1],b[0][2])"
      ],
      "metadata": {
        "colab": {
          "base_uri": "https://localhost:8080/"
        },
        "id": "HxTElB9YHK9g",
        "outputId": "344c0920-6f24-483e-9bc4-7308d9acc82f"
      },
      "execution_count": 3,
      "outputs": [
        {
          "output_type": "stream",
          "name": "stdout",
          "text": [
            "<class 'numpy.ndarray'>\n",
            "(3,)\n",
            "1 2 3\n",
            "[5 2 3]\n",
            "(2, 3)\n",
            "1 2 3\n",
            "1 2 3\n"
          ]
        }
      ]
    },
    {
      "cell_type": "code",
      "source": [
        "# 추가)\n",
        "# shape로 알 수 있는 것\n",
        "\n",
        "# 1. 몇 차원인지 -> len(튜플)\n",
        "print(len(a.shape))\n",
        "print(len(b.shape))\n",
        "\n",
        "# 2, 차원의 크기 -> shape\n",
        "print(a.shape)\n",
        "print(b.shape)"
      ],
      "metadata": {
        "colab": {
          "base_uri": "https://localhost:8080/"
        },
        "id": "-0fNh1Q4PGyH",
        "outputId": "d27ff29e-26c1-4cfe-dc48-5225cf914ad6"
      },
      "execution_count": 7,
      "outputs": [
        {
          "output_type": "stream",
          "name": "stdout",
          "text": [
            "1\n",
            "2\n",
            "(3,)\n",
            "(2, 3)\n"
          ]
        }
      ]
    },
    {
      "cell_type": "markdown",
      "source": [
        "### numpy dtype"
      ],
      "metadata": {
        "id": "gOrUzkIrQpZD"
      }
    },
    {
      "cell_type": "code",
      "source": [
        "# numpy array의 type 강제 지정하기\n",
        "\n",
        "x = np.array([1,2])\n",
        "print(x.dtype)\n",
        "print(x)\n",
        "\n",
        "x = np.array([1.0,2.0])\n",
        "print(x.dtype)\n",
        "print(x)\n",
        "\n",
        "x = np.array([1,2], dtype=np.int64)\n",
        "print(x.dtype)\n",
        "print(x)\n",
        "\n",
        "x = np.array([1,2], dtype=np.float64)\n",
        "print(x.dtype)\n",
        "print(x)"
      ],
      "metadata": {
        "colab": {
          "base_uri": "https://localhost:8080/"
        },
        "id": "rUpsRwHFQrxp",
        "outputId": "904cbef4-f428-4081-8d75-9751aefe95b0"
      },
      "execution_count": 12,
      "outputs": [
        {
          "output_type": "stream",
          "name": "stdout",
          "text": [
            "int64\n",
            "[1 2]\n",
            "float64\n",
            "[1. 2.]\n",
            "int64\n",
            "[1 2]\n",
            "float64\n",
            "[1. 2.]\n"
          ]
        }
      ]
    },
    {
      "cell_type": "markdown",
      "source": [
        "### numpy matrix operations"
      ],
      "metadata": {
        "id": "HwX1mibdRorp"
      }
    },
    {
      "cell_type": "code",
      "source": [
        "x = np.array([[1,2],[3,4]], dtype=np.float64)\n",
        "y = np.array([[5,6],[7,8]], dtype=np.float64)\n",
        "\n",
        "# 요소별 합\n",
        "print(x+y)\n",
        "print(np.add(x,y))\n",
        "\n",
        "# 요소별 차\n",
        "print(x-y)\n",
        "print(np.subtract(x,y))\n",
        "print(np.subtract(y,x)) # 값 다를 것임\n",
        "\n",
        "# 요소별 곱 : 행렬의 요소끼리 곱한 결과!!\n",
        "print(x*y)\n",
        "print(np.multiply(x,y))\n",
        "print(np.multiply(y,x)) # 값 같을 것임 -> why? 요소끼리의 곱이니까\n",
        "\n",
        "# 요소별 나눗셈\n",
        "print(x/y)\n",
        "print(np.divide(x,y))\n",
        "print(np.divide(y,x)) # 값 다를 것임\n",
        "\n",
        "# 요소별 제곱근 : 루트 씌움\n",
        "print(np.sqrt(x))\n",
        "print(np.sqrt(y))"
      ],
      "metadata": {
        "colab": {
          "base_uri": "https://localhost:8080/"
        },
        "id": "QpQya3zrRcO6",
        "outputId": "c1613a76-9115-493c-e0d9-3845344fb5d1"
      },
      "execution_count": 13,
      "outputs": [
        {
          "output_type": "stream",
          "name": "stdout",
          "text": [
            "[[ 6.  8.]\n",
            " [10. 12.]]\n",
            "[[ 6.  8.]\n",
            " [10. 12.]]\n",
            "[[-4. -4.]\n",
            " [-4. -4.]]\n",
            "[[-4. -4.]\n",
            " [-4. -4.]]\n",
            "[[4. 4.]\n",
            " [4. 4.]]\n",
            "[[ 5. 12.]\n",
            " [21. 32.]]\n",
            "[[ 5. 12.]\n",
            " [21. 32.]]\n",
            "[[ 5. 12.]\n",
            " [21. 32.]]\n",
            "[[0.2        0.33333333]\n",
            " [0.42857143 0.5       ]]\n",
            "[[0.2        0.33333333]\n",
            " [0.42857143 0.5       ]]\n",
            "[[5.         3.        ]\n",
            " [2.33333333 2.        ]]\n",
            "[[1.         1.41421356]\n",
            " [1.73205081 2.        ]]\n",
            "[[2.23606798 2.44948974]\n",
            " [2.64575131 2.82842712]]\n"
          ]
        }
      ]
    },
    {
      "cell_type": "markdown",
      "source": [
        "dot 연산"
      ],
      "metadata": {
        "id": "C143FObCTAzM"
      }
    },
    {
      "cell_type": "code",
      "source": [
        "x = np.array([[1,2],[3,4]], dtype=np.float64)\n",
        "y = np.array([[5,6],[7,8]], dtype=np.float64)\n",
        "\n",
        "v = np.array([9,10])\n",
        "w = np.array([11,12])\n",
        "\n",
        "# 벡터의 내적 : 같은 index끼리 곱해서 더하기\n",
        "print(v.dot(w))\n",
        "print(np.dot(v,w))\n",
        "\n",
        "# 행렬과 벡터의 곱\n",
        "print(x.dot(v))\n",
        "print(np.dot(x,v))\n",
        "\n",
        "# 추가) 벡터와 행렬의 곱\n",
        "print(v.dot(x))\n",
        "print(np.dot(v,x))\n",
        "\n",
        "# 행렬곱\n",
        "print(x.dot(y))\n",
        "print(np.dot(x,y))"
      ],
      "metadata": {
        "colab": {
          "base_uri": "https://localhost:8080/"
        },
        "id": "ViRsoqO6SxhL",
        "outputId": "3df26218-bbb9-4da3-9b12-6a2a79167a5a"
      },
      "execution_count": 14,
      "outputs": [
        {
          "output_type": "stream",
          "name": "stdout",
          "text": [
            "219\n",
            "219\n",
            "[29. 67.]\n",
            "[29. 67.]\n",
            "[39. 58.]\n",
            "[39. 58.]\n",
            "[[19. 22.]\n",
            " [43. 50.]]\n",
            "[[19. 22.]\n",
            " [43. 50.]]\n"
          ]
        }
      ]
    }
  ]
}