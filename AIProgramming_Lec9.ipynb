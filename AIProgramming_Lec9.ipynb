{
  "nbformat": 4,
  "nbformat_minor": 0,
  "metadata": {
    "colab": {
      "provenance": []
    },
    "kernelspec": {
      "name": "python3",
      "display_name": "Python 3"
    },
    "language_info": {
      "name": "python"
    }
  },
  "cells": [
    {
      "cell_type": "markdown",
      "source": [
        "### 선형회귀 복습"
      ],
      "metadata": {
        "id": "V0XLLZRwGlsN"
      }
    },
    {
      "cell_type": "code",
      "source": [
        "import torch\n",
        "import torch.nn as nn\n",
        "import torch.nn.functional as F\n",
        "import torch.optim as optim"
      ],
      "metadata": {
        "id": "0PCjwQiIGsny"
      },
      "execution_count": 1,
      "outputs": []
    },
    {
      "cell_type": "code",
      "execution_count": 4,
      "metadata": {
        "colab": {
          "base_uri": "https://localhost:8080/",
          "height": 0
        },
        "id": "W0AzD8JAGgfD",
        "outputId": "e8a31187-6c1f-47dc-c0de-d4857e4f12e1"
      },
      "outputs": [
        {
          "output_type": "stream",
          "name": "stdout",
          "text": [
            "Epoch    0/1000 W: 0.186667, b: 0.080000 Cost: 18.666666\n",
            "Epoch  100/1000 W: 1.745691, b: 0.578072 Cost: 0.048171\n",
            "Epoch  200/1000 W: 1.800099, b: 0.454421 Cost: 0.029767\n",
            "Epoch  300/1000 W: 1.842860, b: 0.357217 Cost: 0.018394\n",
            "Epoch  400/1000 W: 1.876473, b: 0.280805 Cost: 0.011366\n",
            "Epoch  500/1000 W: 1.902897, b: 0.220738 Cost: 0.007024\n",
            "Epoch  600/1000 W: 1.923668, b: 0.173520 Cost: 0.004340\n",
            "Epoch  700/1000 W: 1.939996, b: 0.136403 Cost: 0.002682\n",
            "Epoch  800/1000 W: 1.952832, b: 0.107225 Cost: 0.001657\n",
            "Epoch  900/1000 W: 1.962921, b: 0.084289 Cost: 0.001024\n",
            "Epoch 1000/1000 W: 1.970853, b: 0.066259 Cost: 0.000633\n"
          ]
        }
      ],
      "source": [
        "# 데이터셋 생성\n",
        "x_train = torch.FloatTensor([1,2,3]).view(-1,1)\n",
        "y_train = torch.FloatTensor([2,4,6]).view(-1,1)\n",
        "\n",
        "# 모델 파라미터(W,b) 초기화\n",
        "W = torch.zeros(1, requires_grad=True)\n",
        "b = torch.zeros(1, requires_grad=True)\n",
        "\n",
        "# optimizer 설정\n",
        "optimizer = optim.SGD([W, b],lr=0.01)\n",
        "\n",
        "nb_epochs = 1000  # 경사하강법 반복 횟수\n",
        "for epoch in range(nb_epochs+1):\n",
        "  # 가설, 손실함수\n",
        "  hypo = x_train*W + b\n",
        "  cost = torch.mean((hypo-y_train)**2)\n",
        "\n",
        "  # 경사하강법\n",
        "  optimizer.zero_grad()\n",
        "  cost.backward()\n",
        "  optimizer.step()\n",
        "\n",
        "  if epoch%100 == 0:\n",
        "     print(\"Epoch {:4d}/{} W: {:3f}, b: {:3f} Cost: {:6f}\".format(epoch, nb_epochs, W.item(), b.item(), cost.item()))\n",
        "\n",
        "  # 'cost function의 cost가 0이면 끝낸다'(학습 종료 조건 만족) 구현 -> 불확실함(내가 작성함)\n",
        "  if cost == 0:\n",
        "    break"
      ]
    },
    {
      "cell_type": "markdown",
      "source": [
        "Q. zero_grad()를 해주지 않는다면?\n",
        "\n",
        "A. 미분값이 계속 누적되어 더해짐 (중첩됨)"
      ],
      "metadata": {
        "id": "CAL5xGfkL_vQ"
      }
    },
    {
      "cell_type": "code",
      "source": [
        "w = torch.tensor(2.0, requires_grad=True)\n",
        "\n",
        "nb_epochs = 20\n",
        "for epoch in range(nb_epochs + 1):\n",
        "  z = 3*w\n",
        "  z.backward()\n",
        "  print(f'수식을 w로 미분한 값 : {w.grad}')"
      ],
      "metadata": {
        "colab": {
          "base_uri": "https://localhost:8080/",
          "height": 0
        },
        "id": "Z53cznhFJ-_e",
        "outputId": "a01bd632-f0f3-43f7-a35d-f9d806b3489f"
      },
      "execution_count": 15,
      "outputs": [
        {
          "output_type": "stream",
          "name": "stdout",
          "text": [
            "수식을 w로 미분한 값 : 3.0\n",
            "수식을 w로 미분한 값 : 6.0\n",
            "수식을 w로 미분한 값 : 9.0\n",
            "수식을 w로 미분한 값 : 12.0\n",
            "수식을 w로 미분한 값 : 15.0\n",
            "수식을 w로 미분한 값 : 18.0\n",
            "수식을 w로 미분한 값 : 21.0\n",
            "수식을 w로 미분한 값 : 24.0\n",
            "수식을 w로 미분한 값 : 27.0\n",
            "수식을 w로 미분한 값 : 30.0\n",
            "수식을 w로 미분한 값 : 33.0\n",
            "수식을 w로 미분한 값 : 36.0\n",
            "수식을 w로 미분한 값 : 39.0\n",
            "수식을 w로 미분한 값 : 42.0\n",
            "수식을 w로 미분한 값 : 45.0\n",
            "수식을 w로 미분한 값 : 48.0\n",
            "수식을 w로 미분한 값 : 51.0\n",
            "수식을 w로 미분한 값 : 54.0\n",
            "수식을 w로 미분한 값 : 57.0\n",
            "수식을 w로 미분한 값 : 60.0\n",
            "수식을 w로 미분한 값 : 63.0\n"
          ]
        }
      ]
    },
    {
      "cell_type": "markdown",
      "source": [
        "Q. 왜 w.item()으로 출력하면 출력값의 변화가 없지?\n",
        "\n",
        "A. [머신러닝 학습 코드 내에서] optimizer.step() : optimizer에 전달된 파라미터 W,b 값을 업데이트\n",
        "\n",
        "-> but 아래 코드에서는 w를 업데이트 하는 업데이트하는 step()이 없기 때문에 w.item()은 그대로인 것임."
      ],
      "metadata": {
        "id": "2IjHTrVyTbxT"
      }
    },
    {
      "cell_type": "code",
      "source": [
        "w = torch.tensor(2.0, requires_grad=True)\n",
        "\n",
        "nb_epochs = 20\n",
        "for epoch in range(nb_epochs + 1):\n",
        "  z = 3*w\n",
        "  z.backward()\n",
        "  print(f'수식을 w로 미분한 값 : {w.item()}')"
      ],
      "metadata": {
        "colab": {
          "base_uri": "https://localhost:8080/",
          "height": 0
        },
        "id": "qIpsk59YTD3y",
        "outputId": "49cf699d-3325-4dc1-dc88-b41dbe195e36"
      },
      "execution_count": 20,
      "outputs": [
        {
          "output_type": "stream",
          "name": "stdout",
          "text": [
            "수식을 w로 미분한 값 : 2.0\n",
            "수식을 w로 미분한 값 : 2.0\n",
            "수식을 w로 미분한 값 : 2.0\n",
            "수식을 w로 미분한 값 : 2.0\n",
            "수식을 w로 미분한 값 : 2.0\n",
            "수식을 w로 미분한 값 : 2.0\n",
            "수식을 w로 미분한 값 : 2.0\n",
            "수식을 w로 미분한 값 : 2.0\n",
            "수식을 w로 미분한 값 : 2.0\n",
            "수식을 w로 미분한 값 : 2.0\n",
            "수식을 w로 미분한 값 : 2.0\n",
            "수식을 w로 미분한 값 : 2.0\n",
            "수식을 w로 미분한 값 : 2.0\n",
            "수식을 w로 미분한 값 : 2.0\n",
            "수식을 w로 미분한 값 : 2.0\n",
            "수식을 w로 미분한 값 : 2.0\n",
            "수식을 w로 미분한 값 : 2.0\n",
            "수식을 w로 미분한 값 : 2.0\n",
            "수식을 w로 미분한 값 : 2.0\n",
            "수식을 w로 미분한 값 : 2.0\n",
            "수식을 w로 미분한 값 : 2.0\n"
          ]
        }
      ]
    },
    {
      "cell_type": "markdown",
      "source": [
        "Q. optimizer.zero_grad()는 무엇을 초기화하는 것인가?\n",
        "\n",
        "A. W.grad, b.grad와 같이 optimizer가 관리하는 모델의 파라미터에 대한 그래디언트를 0(None)으로 초기화함."
      ],
      "metadata": {
        "id": "NY1x9ZTdS42M"
      }
    },
    {
      "cell_type": "code",
      "source": [
        "# 데이터셋 생성\n",
        "x_train = torch.FloatTensor([1,2,3]).view(-1,1)\n",
        "y_train = torch.FloatTensor([2,4,6]).view(-1,1)\n",
        "\n",
        "# 모델 파라미터(W,b) 초기화\n",
        "W = torch.zeros(1, requires_grad=True)\n",
        "b = torch.zeros(1, requires_grad=True)\n",
        "\n",
        "# optimizer 설정\n",
        "optimizer = optim.SGD([W, b],lr=0.01)\n",
        "\n",
        "nb_epochs = 1000  # 경사하강법 반복 횟수\n",
        "for epoch in range(nb_epochs+1):\n",
        "  # 가설, 손실함수\n",
        "  hypo = x_train*W + b\n",
        "  cost = torch.mean((hypo-y_train)**2)\n",
        "\n",
        "  # 경사하강법\n",
        "  if epoch%100 == 0:\n",
        "    print(f\"초기화 전 그래디언트 값 : {W.grad}, {b.grad}\")\n",
        "  optimizer.zero_grad()\n",
        "  if epoch%100 == 0:\n",
        "    print(f\"초기화 후 그래디언트 값 : {W.grad}, {b.grad}\")\n",
        "  cost.backward()\n",
        "  optimizer.step()\n",
        "\n",
        "  if epoch%100 == 0:\n",
        "     print(\"Epoch {:4d}/{} W: {:3f}, b: {:3f} Cost: {:6f}\".format(epoch, nb_epochs, W.item(), b.item(), cost.item()))\n",
        "\n",
        "  # 'cost function의 cost가 0이면 끝낸다'(학습 종료 조건 만족) 구현 -> 불확실함(내가 작성함)\n",
        "  if cost == 0:\n",
        "    break"
      ],
      "metadata": {
        "colab": {
          "base_uri": "https://localhost:8080/",
          "height": 0
        },
        "id": "zF273h14QN7H",
        "outputId": "6185be4e-e732-4f8d-b142-6b8d256b14a9"
      },
      "execution_count": 21,
      "outputs": [
        {
          "output_type": "stream",
          "name": "stdout",
          "text": [
            "초기화 전 그래디언트 값 : None, None\n",
            "초기화 후 그래디언트 값 : None, None\n",
            "Epoch    0/1000 W: 0.186667, b: 0.080000 Cost: 18.666666\n",
            "초기화 전 그래디언트 값 : tensor([-0.0616]), tensor([0.1396])\n",
            "초기화 후 그래디언트 값 : None, None\n",
            "Epoch  100/1000 W: 1.745691, b: 0.578072 Cost: 0.048171\n",
            "초기화 전 그래디언트 값 : tensor([-0.0483]), tensor([0.1098])\n",
            "초기화 후 그래디언트 값 : None, None\n",
            "Epoch  200/1000 W: 1.800099, b: 0.454421 Cost: 0.029767\n",
            "초기화 전 그래디언트 값 : tensor([-0.0380]), tensor([0.0863])\n",
            "초기화 후 그래디언트 값 : None, None\n",
            "Epoch  300/1000 W: 1.842860, b: 0.357217 Cost: 0.018394\n",
            "초기화 전 그래디언트 값 : tensor([-0.0298]), tensor([0.0678])\n",
            "초기화 후 그래디언트 값 : None, None\n",
            "Epoch  400/1000 W: 1.876473, b: 0.280805 Cost: 0.011366\n",
            "초기화 전 그래디언트 값 : tensor([-0.0235]), tensor([0.0533])\n",
            "초기화 후 그래디언트 값 : None, None\n",
            "Epoch  500/1000 W: 1.902897, b: 0.220738 Cost: 0.007024\n",
            "초기화 전 그래디언트 값 : tensor([-0.0184]), tensor([0.0419])\n",
            "초기화 후 그래디언트 값 : None, None\n",
            "Epoch  600/1000 W: 1.923668, b: 0.173520 Cost: 0.004340\n",
            "초기화 전 그래디언트 값 : tensor([-0.0145]), tensor([0.0329])\n",
            "초기화 후 그래디언트 값 : None, None\n",
            "Epoch  700/1000 W: 1.939996, b: 0.136403 Cost: 0.002682\n",
            "초기화 전 그래디언트 값 : tensor([-0.0114]), tensor([0.0259])\n",
            "초기화 후 그래디언트 값 : None, None\n",
            "Epoch  800/1000 W: 1.952832, b: 0.107225 Cost: 0.001657\n",
            "초기화 전 그래디언트 값 : tensor([-0.0090]), tensor([0.0204])\n",
            "초기화 후 그래디언트 값 : None, None\n",
            "Epoch  900/1000 W: 1.962921, b: 0.084289 Cost: 0.001024\n",
            "초기화 전 그래디언트 값 : tensor([-0.0070]), tensor([0.0160])\n",
            "초기화 후 그래디언트 값 : None, None\n",
            "Epoch 1000/1000 W: 1.970853, b: 0.066259 Cost: 0.000633\n"
          ]
        }
      ]
    },
    {
      "cell_type": "markdown",
      "source": [
        "### 다중 선형회귀"
      ],
      "metadata": {
        "id": "Z8TsnEEqW0A5"
      }
    },
    {
      "cell_type": "markdown",
      "source": [
        "데이터셋 편하게 설정하는 예진이의 방법\n",
        "* 입력값들 1차원 텐서로 나열하기\n",
        "* view()와 -1 인자 이용 -> 원하는 size 만들기"
      ],
      "metadata": {
        "id": "TsBC4B7IdmTv"
      }
    },
    {
      "cell_type": "code",
      "source": [
        "x_train = torch.FloatTensor([[73,80,75],\n",
        "                             [93,88,93],\n",
        "                             [89,91,80],\n",
        "                             [96,98,100]])\n",
        "x = x_train.view(-1)\n",
        "print(x)\n",
        "x.view(-1,3)  # x_train과 동일함"
      ],
      "metadata": {
        "colab": {
          "base_uri": "https://localhost:8080/"
        },
        "id": "BC8T2MKnW10w",
        "outputId": "85c0857d-357e-408c-865b-3af764edb795"
      },
      "execution_count": 31,
      "outputs": [
        {
          "output_type": "stream",
          "name": "stdout",
          "text": [
            "tensor([ 73.,  80.,  75.,  93.,  88.,  93.,  89.,  91.,  80.,  96.,  98., 100.])\n"
          ]
        },
        {
          "output_type": "execute_result",
          "data": {
            "text/plain": [
              "tensor([[ 73.,  80.,  75.],\n",
              "        [ 93.,  88.,  93.],\n",
              "        [ 89.,  91.,  80.],\n",
              "        [ 96.,  98., 100.]])"
            ]
          },
          "metadata": {},
          "execution_count": 31
        }
      ]
    },
    {
      "cell_type": "markdown",
      "source": [
        "* 학습"
      ],
      "metadata": {
        "id": "4OEE6uObg8F0"
      }
    },
    {
      "cell_type": "code",
      "source": [
        "# 데이터셋 생성\n",
        "x_train = torch.FloatTensor([[73,80,75],\n",
        "                             [93,88,93],\n",
        "                             [89,91,80],\n",
        "                             [96,98,100]])\n",
        "y_train = torch.FloatTensor([152,185,180,196]).view(-1,1)\n",
        "\n",
        "# 모델 파라미터 초기화\n",
        "W = torch.zeros((3,1), requires_grad=True)\n",
        "b = torch.zeros(1, requires_grad=True)\n",
        "\n",
        "# optimizer 설정\n",
        "optimizer = optim.SGD([W, b], lr=1e-5)\n",
        "\n",
        "nb_epochs = 1000\n",
        "for epoch in range(nb_epochs+1):\n",
        "  # 가설, 손실함수\n",
        "  hypo = x_train.matmul(W) + b\n",
        "  cost = torch.mean((hypo-y_train)**2)\n",
        "\n",
        "  # 경사하강법\n",
        "  optimizer.zero_grad()\n",
        "  cost.backward()\n",
        "  optimizer.step()\n",
        "\n",
        "  w_list = W.view(-1).tolist()\n",
        "  if epoch % 100 == 0:\n",
        "    print('Epoch {:4d}/{} w1: {:.3f}, w2: {:.3f}, w3: {:.3f}, b: {:.3f} Cost: {:.6f}'.format(epoch, nb_epochs, w_list[0], w_list[1], w_list[2], b.item(), cost.item()))"
      ],
      "metadata": {
        "colab": {
          "base_uri": "https://localhost:8080/"
        },
        "id": "CKEM7fQ4eMRy",
        "outputId": "243ddb48-5176-4f8e-d593-91c44e28b1bb"
      },
      "execution_count": 34,
      "outputs": [
        {
          "output_type": "stream",
          "name": "stdout",
          "text": [
            "Epoch    0/1000 w1: 0.316, w2: 0.320, w3: 0.313, b: 0.004 Cost: 32036.250000\n",
            "Epoch  100/1000 w1: 0.684, w2: 0.688, w3: 0.652, b: 0.008 Cost: 6.938233\n",
            "Epoch  200/1000 w1: 0.694, w2: 0.693, w3: 0.637, b: 0.008 Cost: 6.573693\n",
            "Epoch  300/1000 w1: 0.704, w2: 0.698, w3: 0.622, b: 0.008 Cost: 6.232265\n",
            "Epoch  400/1000 w1: 0.714, w2: 0.702, w3: 0.608, b: 0.008 Cost: 5.912263\n",
            "Epoch  500/1000 w1: 0.724, w2: 0.706, w3: 0.594, b: 0.008 Cost: 5.612178\n",
            "Epoch  600/1000 w1: 0.733, w2: 0.710, w3: 0.581, b: 0.008 Cost: 5.330629\n",
            "Epoch  700/1000 w1: 0.743, w2: 0.713, w3: 0.568, b: 0.008 Cost: 5.066350\n",
            "Epoch  800/1000 w1: 0.752, w2: 0.717, w3: 0.555, b: 0.008 Cost: 4.818101\n",
            "Epoch  900/1000 w1: 0.761, w2: 0.720, w3: 0.543, b: 0.008 Cost: 4.584816\n",
            "Epoch 1000/1000 w1: 0.769, w2: 0.722, w3: 0.532, b: 0.008 Cost: 4.365375\n"
          ]
        }
      ]
    },
    {
      "cell_type": "markdown",
      "source": [
        "* 추론"
      ],
      "metadata": {
        "id": "lBErtltlg-AC"
      }
    },
    {
      "cell_type": "code",
      "source": [
        "test_data = torch.FloatTensor([73,66,70]).view(1,-1)\n",
        "prediction = test_data.matmul(W) + b\n",
        "print(prediction)"
      ],
      "metadata": {
        "colab": {
          "base_uri": "https://localhost:8080/"
        },
        "id": "9f11l7s6g-_c",
        "outputId": "7a83bbe0-24f9-4d48-96fb-d123374dee2a"
      },
      "execution_count": 35,
      "outputs": [
        {
          "output_type": "stream",
          "name": "stdout",
          "text": [
            "tensor([[141.0700]], grad_fn=<AddBackward0>)\n"
          ]
        }
      ]
    }
  ]
}