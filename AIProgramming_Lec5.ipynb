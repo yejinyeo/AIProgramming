{
  "nbformat": 4,
  "nbformat_minor": 0,
  "metadata": {
    "colab": {
      "provenance": []
    },
    "kernelspec": {
      "name": "python3",
      "display_name": "Python 3"
    },
    "language_info": {
      "name": "python"
    }
  },
  "cells": [
    {
      "cell_type": "markdown",
      "source": [
        "### PyTorch에서 텐서 다루기"
      ],
      "metadata": {
        "id": "I_tMojgllHQz"
      }
    },
    {
      "cell_type": "code",
      "execution_count": null,
      "metadata": {
        "colab": {
          "base_uri": "https://localhost:8080/"
        },
        "id": "eidxUeaUlFoQ",
        "outputId": "bc524bc7-001d-4797-e434-0d1bdc77e192"
      },
      "outputs": [
        {
          "output_type": "stream",
          "name": "stdout",
          "text": [
            "tensor([0, 1, 2, 3, 4, 5, 6])\n",
            "1\n",
            "torch.Size([7])\n",
            "torch.Size([7])\n",
            "torch.int64\n"
          ]
        }
      ],
      "source": [
        "import torch\n",
        "\n",
        "t = torch.tensor([0,1,2,3,4,5,6])\n",
        "print(t)  # 텐서 출력\n",
        "print(t.dim())  # rank(차원)\n",
        "print(t.shape)  # shape(차원의 크기)\n",
        "print(t.size()) # shape\n",
        "print(t.dtype)  # data type"
      ]
    },
    {
      "cell_type": "markdown",
      "source": [
        "Q. shape와 size()의 차이점은? (미해결)"
      ],
      "metadata": {
        "id": "9MAU0CQyvYrt"
      }
    },
    {
      "cell_type": "code",
      "source": [
        "q = torch.tensor([[1,2,3],[4,5,6]])\n",
        "print(q.shape)\n",
        "print(q.size())"
      ],
      "metadata": {
        "colab": {
          "base_uri": "https://localhost:8080/"
        },
        "id": "HIABdyzztey3",
        "outputId": "d07e8733-7ffe-42de-a53b-9aba50984921"
      },
      "execution_count": null,
      "outputs": [
        {
          "output_type": "stream",
          "name": "stdout",
          "text": [
            "torch.Size([2, 3])\n",
            "torch.Size([2, 3])\n"
          ]
        }
      ]
    },
    {
      "cell_type": "markdown",
      "source": [
        "* 1D 텐서 다루기"
      ],
      "metadata": {
        "id": "64keCsyizb6x"
      }
    },
    {
      "cell_type": "code",
      "source": [
        "t = torch.DoubleTensor([0,1,2,3,4,5,6])\n",
        "print(t)\n",
        "print(t.shape)\n",
        "print(t.dtype)"
      ],
      "metadata": {
        "colab": {
          "base_uri": "https://localhost:8080/"
        },
        "id": "n_kzIz8acbpQ",
        "outputId": "a556cb29-2129-4065-d361-f3b26abffdc5"
      },
      "execution_count": null,
      "outputs": [
        {
          "output_type": "stream",
          "name": "stdout",
          "text": [
            "tensor([0., 1., 2., 3., 4., 5., 6.], dtype=torch.float64)\n",
            "torch.Size([7])\n",
            "torch.float64\n"
          ]
        }
      ]
    },
    {
      "cell_type": "code",
      "source": [
        "t = torch.FloatTensor([0,1,2,3,4,5,6])\n",
        "print(t)\n",
        "print(t.shape)\n",
        "print(t.dtype)"
      ],
      "metadata": {
        "colab": {
          "base_uri": "https://localhost:8080/"
        },
        "id": "AJntWR2LwNkl",
        "outputId": "cd2e7faa-eed1-4cd5-af51-f8fe4a2f9392"
      },
      "execution_count": null,
      "outputs": [
        {
          "output_type": "stream",
          "name": "stdout",
          "text": [
            "tensor([0., 1., 2., 3., 4., 5., 6.])\n",
            "torch.Size([7])\n",
            "torch.float32\n"
          ]
        }
      ]
    },
    {
      "cell_type": "code",
      "source": [
        "print(t[0], t[1], t[2])\n",
        "print(t[2:5], t[4:-1])\n",
        "print(t[:2],t[3:])"
      ],
      "metadata": {
        "colab": {
          "base_uri": "https://localhost:8080/"
        },
        "id": "s3hoUspwygba",
        "outputId": "812d7e36-0429-4138-f0e2-2065c2fab762"
      },
      "execution_count": null,
      "outputs": [
        {
          "output_type": "stream",
          "name": "stdout",
          "text": [
            "tensor(0.) tensor(1.) tensor(2.)\n",
            "tensor([2., 3., 4.]) tensor([4., 5.])\n",
            "tensor([0., 1.]) tensor([3., 4., 5., 6.])\n"
          ]
        }
      ]
    },
    {
      "cell_type": "markdown",
      "source": [
        "* 2D 텐서 다루기"
      ],
      "metadata": {
        "id": "rYVMQCWMzgj-"
      }
    },
    {
      "cell_type": "code",
      "source": [
        "t = torch.FloatTensor([[1,2,3],\n",
        "                      [4,5,6],\n",
        "                      [7,8,9],\n",
        "                      [10,11,12]])\n",
        "\n",
        "print(t)\n",
        "print(t.shape)"
      ],
      "metadata": {
        "colab": {
          "base_uri": "https://localhost:8080/"
        },
        "id": "VNm237dEwZpu",
        "outputId": "dbb5e678-49d0-47cd-e4c7-e4b694e17c0a"
      },
      "execution_count": null,
      "outputs": [
        {
          "output_type": "stream",
          "name": "stdout",
          "text": [
            "tensor([[ 1.,  2.,  3.],\n",
            "        [ 4.,  5.,  6.],\n",
            "        [ 7.,  8.,  9.],\n",
            "        [10., 11., 12.]])\n",
            "torch.Size([4, 3])\n"
          ]
        }
      ]
    },
    {
      "cell_type": "code",
      "source": [
        "print(t[:,1])\n",
        "print(t[:,1].size())\n",
        "print(t[:][[1]])"
      ],
      "metadata": {
        "colab": {
          "base_uri": "https://localhost:8080/"
        },
        "id": "uvH7VkECyjOU",
        "outputId": "4c651970-4671-4f12-d80d-628e631f8ed2"
      },
      "execution_count": null,
      "outputs": [
        {
          "output_type": "stream",
          "name": "stdout",
          "text": [
            "tensor([ 2.,  5.,  8., 11.])\n",
            "torch.Size([4])\n",
            "tensor([[4., 5., 6.]])\n"
          ]
        }
      ]
    },
    {
      "cell_type": "code",
      "source": [
        "print(t[:,:-1])"
      ],
      "metadata": {
        "colab": {
          "base_uri": "https://localhost:8080/"
        },
        "id": "uVH4ylTry5uh",
        "outputId": "2c36110c-6125-4d5b-f41a-e58f665e4e4f"
      },
      "execution_count": null,
      "outputs": [
        {
          "output_type": "stream",
          "name": "stdout",
          "text": [
            "tensor([[ 1.,  2.],\n",
            "        [ 4.,  5.],\n",
            "        [ 7.,  8.],\n",
            "        [10., 11.]])\n"
          ]
        }
      ]
    },
    {
      "cell_type": "markdown",
      "source": [
        "* 브로드캐스팅(Broadcasting)"
      ],
      "metadata": {
        "id": "n_7TadYnzl3p"
      }
    },
    {
      "cell_type": "code",
      "source": [
        "m1 = torch.FloatTensor([[3,3]])\n",
        "m2 = torch.FloatTensor([[2,2]])\n",
        "print(m1.shape, m2.shape)\n",
        "print(m1+m2)"
      ],
      "metadata": {
        "colab": {
          "base_uri": "https://localhost:8080/"
        },
        "id": "aHAE6XkHztyz",
        "outputId": "dbdd1a5b-54f9-4b60-822a-dd150c8435c2"
      },
      "execution_count": null,
      "outputs": [
        {
          "output_type": "stream",
          "name": "stdout",
          "text": [
            "torch.Size([1, 2]) torch.Size([1, 2])\n",
            "tensor([[5., 5.]])\n"
          ]
        }
      ]
    },
    {
      "cell_type": "code",
      "source": [
        "# 브로드캐스팅 예1: vector + scalar\n",
        "m1 = torch.FloatTensor([[1,2]])\n",
        "m2 = torch.FloatTensor([3])\n",
        "print(m1.shape, m2.shape)\n",
        "print(m1 + m2)"
      ],
      "metadata": {
        "colab": {
          "base_uri": "https://localhost:8080/"
        },
        "id": "5dkedmnJ0YTY",
        "outputId": "43a958d7-684d-44f6-8db1-b7d6b0351604"
      },
      "execution_count": null,
      "outputs": [
        {
          "output_type": "stream",
          "name": "stdout",
          "text": [
            "torch.Size([1, 2]) torch.Size([1])\n",
            "tensor([[4., 5.]])\n"
          ]
        }
      ]
    },
    {
      "cell_type": "code",
      "source": [
        "# 브로드캐스팅 예2: vector + vector\n",
        "m1 = torch.FloatTensor([[1,2]])\n",
        "m2 = torch.FloatTensor([[3],[4]])\n",
        "print(m1.shape, m2.shape)\n",
        "print(m1 + m2)"
      ],
      "metadata": {
        "colab": {
          "base_uri": "https://localhost:8080/"
        },
        "id": "iNQccOVN1I9n",
        "outputId": "1367e4f4-915f-405b-8727-5f8bc427b5d8"
      },
      "execution_count": null,
      "outputs": [
        {
          "output_type": "stream",
          "name": "stdout",
          "text": [
            "torch.Size([1, 2]) torch.Size([2, 1])\n",
            "tensor([[4., 5.],\n",
            "        [5., 6.]])\n"
          ]
        }
      ]
    },
    {
      "cell_type": "code",
      "source": [
        "m1 = torch.FloatTensor([[1,2]])\n",
        "print(3 + m1)\n",
        "print(torch.tensor([3]) + m1)"
      ],
      "metadata": {
        "colab": {
          "base_uri": "https://localhost:8080/"
        },
        "id": "gP2CfIlqej_V",
        "outputId": "0f0d3bb3-06c3-449e-8a5f-2e8d8f2e789f"
      },
      "execution_count": 34,
      "outputs": [
        {
          "output_type": "stream",
          "name": "stdout",
          "text": [
            "tensor([[4., 5.]])\n",
            "tensor([[4., 5.]])\n"
          ]
        }
      ]
    },
    {
      "cell_type": "markdown",
      "source": [
        "* element-wise multiplication"
      ],
      "metadata": {
        "id": "W-hXsIkA1vyD"
      }
    },
    {
      "cell_type": "code",
      "source": [
        "m1 = torch.FloatTensor([[1,2],[3,4]])\n",
        "m2 = torch.FloatTensor([[4,5],[6,7]])\n",
        "\n",
        "print(m1 * m2)\n",
        "print(m1.mul(m2))"
      ],
      "metadata": {
        "colab": {
          "base_uri": "https://localhost:8080/"
        },
        "id": "NBESlWSP1t59",
        "outputId": "ec59d9db-d518-4702-ef85-5dc63cf42f65"
      },
      "execution_count": null,
      "outputs": [
        {
          "output_type": "stream",
          "name": "stdout",
          "text": [
            "tensor([[ 4., 10.],\n",
            "        [18., 28.]])\n",
            "tensor([[ 4., 10.],\n",
            "        [18., 28.]])\n"
          ]
        }
      ]
    },
    {
      "cell_type": "markdown",
      "source": [
        "* matrix multiplication (행렬곱)"
      ],
      "metadata": {
        "id": "V2NACioC2cAb"
      }
    },
    {
      "cell_type": "code",
      "source": [
        "m1 = torch.FloatTensor([[1,2],[3,4]])\n",
        "m2 = torch.FloatTensor([[1],[2]])\n",
        "print(m1.shape, m2.shape)\n",
        "print(m1.matmul(m2))\n",
        "print(m2.matmul(m1))"
      ],
      "metadata": {
        "colab": {
          "base_uri": "https://localhost:8080/",
          "height": 273
        },
        "id": "egMdmKaT2PfD",
        "outputId": "d297e5da-07f4-40be-eea9-89487d6cba2c"
      },
      "execution_count": null,
      "outputs": [
        {
          "output_type": "stream",
          "name": "stdout",
          "text": [
            "torch.Size([2, 2]) torch.Size([2, 1])\n",
            "tensor([[ 5.],\n",
            "        [11.]])\n"
          ]
        },
        {
          "output_type": "error",
          "ename": "RuntimeError",
          "evalue": "ignored",
          "traceback": [
            "\u001b[0;31m---------------------------------------------------------------------------\u001b[0m",
            "\u001b[0;31mRuntimeError\u001b[0m                              Traceback (most recent call last)",
            "\u001b[0;32m<ipython-input-19-d3322af6a171>\u001b[0m in \u001b[0;36m<cell line: 5>\u001b[0;34m()\u001b[0m\n\u001b[1;32m      3\u001b[0m \u001b[0mprint\u001b[0m\u001b[0;34m(\u001b[0m\u001b[0mm1\u001b[0m\u001b[0;34m.\u001b[0m\u001b[0mshape\u001b[0m\u001b[0;34m,\u001b[0m \u001b[0mm2\u001b[0m\u001b[0;34m.\u001b[0m\u001b[0mshape\u001b[0m\u001b[0;34m)\u001b[0m\u001b[0;34m\u001b[0m\u001b[0;34m\u001b[0m\u001b[0m\n\u001b[1;32m      4\u001b[0m \u001b[0mprint\u001b[0m\u001b[0;34m(\u001b[0m\u001b[0mm1\u001b[0m\u001b[0;34m.\u001b[0m\u001b[0mmatmul\u001b[0m\u001b[0;34m(\u001b[0m\u001b[0mm2\u001b[0m\u001b[0;34m)\u001b[0m\u001b[0;34m)\u001b[0m\u001b[0;34m\u001b[0m\u001b[0;34m\u001b[0m\u001b[0m\n\u001b[0;32m----> 5\u001b[0;31m \u001b[0mprint\u001b[0m\u001b[0;34m(\u001b[0m\u001b[0mm2\u001b[0m\u001b[0;34m.\u001b[0m\u001b[0mmatmul\u001b[0m\u001b[0;34m(\u001b[0m\u001b[0mm1\u001b[0m\u001b[0;34m)\u001b[0m\u001b[0;34m)\u001b[0m\u001b[0;34m\u001b[0m\u001b[0;34m\u001b[0m\u001b[0m\n\u001b[0m",
            "\u001b[0;31mRuntimeError\u001b[0m: mat1 and mat2 shapes cannot be multiplied (2x1 and 2x2)"
          ]
        }
      ]
    },
    {
      "cell_type": "markdown",
      "source": [
        "* 평균 구하기"
      ],
      "metadata": {
        "id": "jJpfaYM_2zjX"
      }
    },
    {
      "cell_type": "code",
      "source": [
        "t = torch.FloatTensor([[1,2,3],[4,5,6]])\n",
        "print(t.mean())\n",
        "print(t.mean().item())"
      ],
      "metadata": {
        "colab": {
          "base_uri": "https://localhost:8080/"
        },
        "id": "Soq67Zcs21H0",
        "outputId": "6f689c2a-026a-4015-c372-79a6d0fcb614"
      },
      "execution_count": null,
      "outputs": [
        {
          "output_type": "stream",
          "name": "stdout",
          "text": [
            "tensor(3.5000)\n",
            "3.5\n"
          ]
        }
      ]
    },
    {
      "cell_type": "code",
      "source": [
        "print(t.shape)\n",
        "print(t.mean(dim=0))\n",
        "print(t.mean(dim=0).shape)"
      ],
      "metadata": {
        "colab": {
          "base_uri": "https://localhost:8080/"
        },
        "id": "nrydAJWE3EwO",
        "outputId": "cf4c2f7f-2bac-4459-da02-802a19b72b6e"
      },
      "execution_count": null,
      "outputs": [
        {
          "output_type": "stream",
          "name": "stdout",
          "text": [
            "torch.Size([2, 3])\n",
            "tensor([2.5000, 3.5000, 4.5000])\n",
            "torch.Size([3])\n"
          ]
        }
      ]
    },
    {
      "cell_type": "code",
      "source": [
        "print(t.shape)\n",
        "print(t.mean(dim=1))\n",
        "print(t.mean(dim=1).shape)\n",
        "print(t.mean(dim=-1))"
      ],
      "metadata": {
        "colab": {
          "base_uri": "https://localhost:8080/"
        },
        "id": "z_odF7q9okGA",
        "outputId": "f3f95663-8012-4649-f30f-4ab9b403f1fc"
      },
      "execution_count": null,
      "outputs": [
        {
          "output_type": "stream",
          "name": "stdout",
          "text": [
            "torch.Size([2, 3])\n",
            "tensor([2., 5.])\n",
            "torch.Size([2])\n",
            "tensor([2., 5.])\n"
          ]
        }
      ]
    },
    {
      "cell_type": "markdown",
      "source": [
        "* 합계 구하기"
      ],
      "metadata": {
        "id": "vcAsts0apuTY"
      }
    },
    {
      "cell_type": "code",
      "source": [
        "t = torch.FloatTensor([[1,2,3],[4,5,6]])  # shape:(2,3)\n",
        "print(t.sum())\n",
        "print(t.sum(dim=0))\n",
        "print(t.sum(dim=1))\n",
        "print(t.sum(dim=-1))"
      ],
      "metadata": {
        "colab": {
          "base_uri": "https://localhost:8080/"
        },
        "id": "aax8v_cGpwAK",
        "outputId": "948898fc-d94d-4c16-98fb-a1f3987ba38c"
      },
      "execution_count": null,
      "outputs": [
        {
          "output_type": "stream",
          "name": "stdout",
          "text": [
            "tensor(21.)\n",
            "tensor([5., 7., 9.])\n",
            "tensor([ 6., 15.])\n",
            "tensor([ 6., 15.])\n"
          ]
        }
      ]
    },
    {
      "cell_type": "markdown",
      "source": [
        "* 최댓값 및 최댓값의 위치 구하기"
      ],
      "metadata": {
        "id": "heFKJlOpqKRR"
      }
    },
    {
      "cell_type": "code",
      "source": [
        "print(t.max())\n",
        "print(t.max(dim=0))\n",
        "print(f\"Values: {t.max(dim=0)[0]}\")\n",
        "print(f\"Indices: {t.max(dim=0)[1]}\")"
      ],
      "metadata": {
        "colab": {
          "base_uri": "https://localhost:8080/"
        },
        "id": "BVHv5BcpqNIn",
        "outputId": "99175909-fbd1-4a99-9570-5b566576c963"
      },
      "execution_count": null,
      "outputs": [
        {
          "output_type": "stream",
          "name": "stdout",
          "text": [
            "tensor(6.)\n",
            "torch.return_types.max(\n",
            "values=tensor([4., 5., 6.]),\n",
            "indices=tensor([1, 1, 1]))\n",
            "Values: tensor([4., 5., 6.])\n",
            "Indices: tensor([1, 1, 1])\n"
          ]
        }
      ]
    },
    {
      "cell_type": "code",
      "source": [
        "t = torch.FloatTensor([[0,1,2],\n",
        "                      [3,4,5],\n",
        "                      [6,7,8]])\n",
        "print(t.max())\n",
        "print(t.max(dim=0))"
      ],
      "metadata": {
        "colab": {
          "base_uri": "https://localhost:8080/"
        },
        "id": "WNQH0i-urlcS",
        "outputId": "955c2761-1e3c-4359-d520-7840ebbf0619"
      },
      "execution_count": null,
      "outputs": [
        {
          "output_type": "stream",
          "name": "stdout",
          "text": [
            "tensor(8.)\n",
            "torch.return_types.max(\n",
            "values=tensor([6., 7., 8.]),\n",
            "indices=tensor([2, 2, 2]))\n"
          ]
        }
      ]
    },
    {
      "cell_type": "markdown",
      "source": [
        "* view - 텐서 shape 변경하기"
      ],
      "metadata": {
        "id": "UZoO3Yd7iyo9"
      }
    },
    {
      "cell_type": "code",
      "source": [
        "# 3차원 텐서 생성\n",
        "t = torch.FloatTensor([[[0,1,2],\n",
        "                        [3,4,5]],\n",
        "                       [[6,7,8],\n",
        "                        [9,10,11]]])\n",
        "print(t.shape)"
      ],
      "metadata": {
        "colab": {
          "base_uri": "https://localhost:8080/"
        },
        "id": "hdmn6n9mjBCY",
        "outputId": "1e41c527-4f07-4d00-afcc-48fa52fb7192"
      },
      "execution_count": null,
      "outputs": [
        {
          "output_type": "stream",
          "name": "stdout",
          "text": [
            "torch.Size([2, 2, 3])\n"
          ]
        }
      ]
    },
    {
      "cell_type": "code",
      "source": [
        "print(t.view(4,3))\n",
        "print(t.view(2,1,6))"
      ],
      "metadata": {
        "colab": {
          "base_uri": "https://localhost:8080/"
        },
        "id": "reNTWjlnjTWF",
        "outputId": "949fe0eb-bc63-457e-a02f-844bb5edd2fe"
      },
      "execution_count": null,
      "outputs": [
        {
          "output_type": "stream",
          "name": "stdout",
          "text": [
            "tensor([[ 0.,  1.,  2.],\n",
            "        [ 3.,  4.,  5.],\n",
            "        [ 6.,  7.,  8.],\n",
            "        [ 9., 10., 11.]])\n",
            "tensor([[[ 0.,  1.,  2.,  3.,  4.,  5.]],\n",
            "\n",
            "        [[ 6.,  7.,  8.,  9., 10., 11.]]])\n"
          ]
        }
      ]
    },
    {
      "cell_type": "code",
      "source": [
        "print(t.view(-1,2,3))\n",
        "print(t.view(2,2,3))"
      ],
      "metadata": {
        "colab": {
          "base_uri": "https://localhost:8080/"
        },
        "id": "kNBkOTq8jmGz",
        "outputId": "310e6dd0-1f3a-4a1d-81fe-e4ea9dec76e9"
      },
      "execution_count": null,
      "outputs": [
        {
          "output_type": "stream",
          "name": "stdout",
          "text": [
            "tensor([[[ 0.,  1.,  2.],\n",
            "         [ 3.,  4.,  5.]],\n",
            "\n",
            "        [[ 6.,  7.,  8.],\n",
            "         [ 9., 10., 11.]]])\n",
            "tensor([[[ 0.,  1.,  2.],\n",
            "         [ 3.,  4.,  5.]],\n",
            "\n",
            "        [[ 6.,  7.,  8.],\n",
            "         [ 9., 10., 11.]]])\n"
          ]
        }
      ]
    },
    {
      "cell_type": "code",
      "source": [
        "print(t.view(-1,5)) # 원소 개수 유지 안되니까 오류나겠지?"
      ],
      "metadata": {
        "colab": {
          "base_uri": "https://localhost:8080/",
          "height": 182
        },
        "id": "JrosbG6yj-9B",
        "outputId": "a814c17f-74b9-45ba-e525-e36017afc208"
      },
      "execution_count": null,
      "outputs": [
        {
          "output_type": "error",
          "ename": "RuntimeError",
          "evalue": "ignored",
          "traceback": [
            "\u001b[0;31m---------------------------------------------------------------------------\u001b[0m",
            "\u001b[0;31mRuntimeError\u001b[0m                              Traceback (most recent call last)",
            "\u001b[0;32m<ipython-input-31-11fa233f2ad8>\u001b[0m in \u001b[0;36m<cell line: 1>\u001b[0;34m()\u001b[0m\n\u001b[0;32m----> 1\u001b[0;31m \u001b[0mprint\u001b[0m\u001b[0;34m(\u001b[0m\u001b[0mt\u001b[0m\u001b[0;34m.\u001b[0m\u001b[0mview\u001b[0m\u001b[0;34m(\u001b[0m\u001b[0;34m-\u001b[0m\u001b[0;36m1\u001b[0m\u001b[0;34m,\u001b[0m\u001b[0;36m5\u001b[0m\u001b[0;34m)\u001b[0m\u001b[0;34m)\u001b[0m \u001b[0;31m# 원소 개수 유지 안되니까 오류나겠지?\u001b[0m\u001b[0;34m\u001b[0m\u001b[0;34m\u001b[0m\u001b[0m\n\u001b[0m",
            "\u001b[0;31mRuntimeError\u001b[0m: shape '[-1, 5]' is invalid for input of size 12"
          ]
        }
      ]
    }
  ]
}